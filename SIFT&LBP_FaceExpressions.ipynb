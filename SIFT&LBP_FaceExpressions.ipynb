{
  "cells": [
    {
      "cell_type": "markdown",
      "id": "intellectual-station",
      "metadata": {
        "papermill": {
          "duration": 0.081923,
          "end_time": "2021-08-14T14:42:50.712020",
          "exception": false,
          "start_time": "2021-08-14T14:42:50.630097",
          "status": "completed"
        },
        "tags": [],
        "id": "intellectual-station"
      },
      "source": [
        "## This notebook contains SIFT ana LBP feature extraction which are used to extract features from the facial images and then passed to a CNN model to compare their results\n"
      ]
    },
    {
      "cell_type": "code",
      "source": [
        "from google.colab import files"
      ],
      "metadata": {
        "id": "RnHeo3JZWeSm"
      },
      "id": "RnHeo3JZWeSm",
      "execution_count": null,
      "outputs": []
    },
    {
      "cell_type": "code",
      "source": [
        "files.upload()"
      ],
      "metadata": {
        "colab": {
          "base_uri": "https://localhost:8080/",
          "height": 92
        },
        "id": "IA24SCH5WiAY",
        "outputId": "679d8aca-03df-459b-eddb-2aa67e9a6aa6"
      },
      "id": "IA24SCH5WiAY",
      "execution_count": null,
      "outputs": [
        {
          "output_type": "display_data",
          "data": {
            "text/plain": [
              "<IPython.core.display.HTML object>"
            ],
            "text/html": [
              "\n",
              "     <input type=\"file\" id=\"files-72c618df-c59a-4abe-9f54-86891a9b755f\" name=\"files[]\" multiple disabled\n",
              "        style=\"border:none\" />\n",
              "     <output id=\"result-72c618df-c59a-4abe-9f54-86891a9b755f\">\n",
              "      Upload widget is only available when the cell has been executed in the\n",
              "      current browser session. Please rerun this cell to enable.\n",
              "      </output>\n",
              "      <script>// Copyright 2017 Google LLC\n",
              "//\n",
              "// Licensed under the Apache License, Version 2.0 (the \"License\");\n",
              "// you may not use this file except in compliance with the License.\n",
              "// You may obtain a copy of the License at\n",
              "//\n",
              "//      http://www.apache.org/licenses/LICENSE-2.0\n",
              "//\n",
              "// Unless required by applicable law or agreed to in writing, software\n",
              "// distributed under the License is distributed on an \"AS IS\" BASIS,\n",
              "// WITHOUT WARRANTIES OR CONDITIONS OF ANY KIND, either express or implied.\n",
              "// See the License for the specific language governing permissions and\n",
              "// limitations under the License.\n",
              "\n",
              "/**\n",
              " * @fileoverview Helpers for google.colab Python module.\n",
              " */\n",
              "(function(scope) {\n",
              "function span(text, styleAttributes = {}) {\n",
              "  const element = document.createElement('span');\n",
              "  element.textContent = text;\n",
              "  for (const key of Object.keys(styleAttributes)) {\n",
              "    element.style[key] = styleAttributes[key];\n",
              "  }\n",
              "  return element;\n",
              "}\n",
              "\n",
              "// Max number of bytes which will be uploaded at a time.\n",
              "const MAX_PAYLOAD_SIZE = 100 * 1024;\n",
              "\n",
              "function _uploadFiles(inputId, outputId) {\n",
              "  const steps = uploadFilesStep(inputId, outputId);\n",
              "  const outputElement = document.getElementById(outputId);\n",
              "  // Cache steps on the outputElement to make it available for the next call\n",
              "  // to uploadFilesContinue from Python.\n",
              "  outputElement.steps = steps;\n",
              "\n",
              "  return _uploadFilesContinue(outputId);\n",
              "}\n",
              "\n",
              "// This is roughly an async generator (not supported in the browser yet),\n",
              "// where there are multiple asynchronous steps and the Python side is going\n",
              "// to poll for completion of each step.\n",
              "// This uses a Promise to block the python side on completion of each step,\n",
              "// then passes the result of the previous step as the input to the next step.\n",
              "function _uploadFilesContinue(outputId) {\n",
              "  const outputElement = document.getElementById(outputId);\n",
              "  const steps = outputElement.steps;\n",
              "\n",
              "  const next = steps.next(outputElement.lastPromiseValue);\n",
              "  return Promise.resolve(next.value.promise).then((value) => {\n",
              "    // Cache the last promise value to make it available to the next\n",
              "    // step of the generator.\n",
              "    outputElement.lastPromiseValue = value;\n",
              "    return next.value.response;\n",
              "  });\n",
              "}\n",
              "\n",
              "/**\n",
              " * Generator function which is called between each async step of the upload\n",
              " * process.\n",
              " * @param {string} inputId Element ID of the input file picker element.\n",
              " * @param {string} outputId Element ID of the output display.\n",
              " * @return {!Iterable<!Object>} Iterable of next steps.\n",
              " */\n",
              "function* uploadFilesStep(inputId, outputId) {\n",
              "  const inputElement = document.getElementById(inputId);\n",
              "  inputElement.disabled = false;\n",
              "\n",
              "  const outputElement = document.getElementById(outputId);\n",
              "  outputElement.innerHTML = '';\n",
              "\n",
              "  const pickedPromise = new Promise((resolve) => {\n",
              "    inputElement.addEventListener('change', (e) => {\n",
              "      resolve(e.target.files);\n",
              "    });\n",
              "  });\n",
              "\n",
              "  const cancel = document.createElement('button');\n",
              "  inputElement.parentElement.appendChild(cancel);\n",
              "  cancel.textContent = 'Cancel upload';\n",
              "  const cancelPromise = new Promise((resolve) => {\n",
              "    cancel.onclick = () => {\n",
              "      resolve(null);\n",
              "    };\n",
              "  });\n",
              "\n",
              "  // Wait for the user to pick the files.\n",
              "  const files = yield {\n",
              "    promise: Promise.race([pickedPromise, cancelPromise]),\n",
              "    response: {\n",
              "      action: 'starting',\n",
              "    }\n",
              "  };\n",
              "\n",
              "  cancel.remove();\n",
              "\n",
              "  // Disable the input element since further picks are not allowed.\n",
              "  inputElement.disabled = true;\n",
              "\n",
              "  if (!files) {\n",
              "    return {\n",
              "      response: {\n",
              "        action: 'complete',\n",
              "      }\n",
              "    };\n",
              "  }\n",
              "\n",
              "  for (const file of files) {\n",
              "    const li = document.createElement('li');\n",
              "    li.append(span(file.name, {fontWeight: 'bold'}));\n",
              "    li.append(span(\n",
              "        `(${file.type || 'n/a'}) - ${file.size} bytes, ` +\n",
              "        `last modified: ${\n",
              "            file.lastModifiedDate ? file.lastModifiedDate.toLocaleDateString() :\n",
              "                                    'n/a'} - `));\n",
              "    const percent = span('0% done');\n",
              "    li.appendChild(percent);\n",
              "\n",
              "    outputElement.appendChild(li);\n",
              "\n",
              "    const fileDataPromise = new Promise((resolve) => {\n",
              "      const reader = new FileReader();\n",
              "      reader.onload = (e) => {\n",
              "        resolve(e.target.result);\n",
              "      };\n",
              "      reader.readAsArrayBuffer(file);\n",
              "    });\n",
              "    // Wait for the data to be ready.\n",
              "    let fileData = yield {\n",
              "      promise: fileDataPromise,\n",
              "      response: {\n",
              "        action: 'continue',\n",
              "      }\n",
              "    };\n",
              "\n",
              "    // Use a chunked sending to avoid message size limits. See b/62115660.\n",
              "    let position = 0;\n",
              "    do {\n",
              "      const length = Math.min(fileData.byteLength - position, MAX_PAYLOAD_SIZE);\n",
              "      const chunk = new Uint8Array(fileData, position, length);\n",
              "      position += length;\n",
              "\n",
              "      const base64 = btoa(String.fromCharCode.apply(null, chunk));\n",
              "      yield {\n",
              "        response: {\n",
              "          action: 'append',\n",
              "          file: file.name,\n",
              "          data: base64,\n",
              "        },\n",
              "      };\n",
              "\n",
              "      let percentDone = fileData.byteLength === 0 ?\n",
              "          100 :\n",
              "          Math.round((position / fileData.byteLength) * 100);\n",
              "      percent.textContent = `${percentDone}% done`;\n",
              "\n",
              "    } while (position < fileData.byteLength);\n",
              "  }\n",
              "\n",
              "  // All done.\n",
              "  yield {\n",
              "    response: {\n",
              "      action: 'complete',\n",
              "    }\n",
              "  };\n",
              "}\n",
              "\n",
              "scope.google = scope.google || {};\n",
              "scope.google.colab = scope.google.colab || {};\n",
              "scope.google.colab._files = {\n",
              "  _uploadFiles,\n",
              "  _uploadFilesContinue,\n",
              "};\n",
              "})(self);\n",
              "</script> "
            ]
          },
          "metadata": {}
        },
        {
          "output_type": "stream",
          "name": "stdout",
          "text": [
            "Saving kaggle.json to kaggle.json\n"
          ]
        },
        {
          "output_type": "execute_result",
          "data": {
            "text/plain": [
              "{'kaggle.json': b'{\"username\":\"shoroogalarifi\",\"key\":\"0c08fe591841078dbd94f2fd150ddb04\"}'}"
            ]
          },
          "metadata": {},
          "execution_count": 2
        }
      ]
    },
    {
      "cell_type": "code",
      "source": [
        "! mkdir ~/.kaggle"
      ],
      "metadata": {
        "id": "DwR2dZ43XFpD"
      },
      "id": "DwR2dZ43XFpD",
      "execution_count": null,
      "outputs": []
    },
    {
      "cell_type": "code",
      "source": [
        "! cp kaggle.json ~/.kaggle/ "
      ],
      "metadata": {
        "id": "X8t22J6bXLoE"
      },
      "id": "X8t22J6bXLoE",
      "execution_count": null,
      "outputs": []
    },
    {
      "cell_type": "code",
      "source": [
        "! chmod 600 ~/.kaggle/kaggle.json"
      ],
      "metadata": {
        "id": "0ubpaKFzZk7L"
      },
      "id": "0ubpaKFzZk7L",
      "execution_count": 91,
      "outputs": []
    },
    {
      "cell_type": "code",
      "source": [
        "! kaggle datasets list"
      ],
      "metadata": {
        "id": "OSrTBovbbYaB",
        "colab": {
          "base_uri": "https://localhost:8080/"
        },
        "outputId": "d3c0e596-c14c-430d-8fab-e688e93eb0f0"
      },
      "id": "OSrTBovbbYaB",
      "execution_count": null,
      "outputs": [
        {
          "output_type": "stream",
          "name": "stdout",
          "text": [
            "ref                                                                   title                                                size  lastUpdated          downloadCount  voteCount  usabilityRating  \n",
            "--------------------------------------------------------------------  --------------------------------------------------  -----  -------------------  -------------  ---------  ---------------  \n",
            "arnabchaki/data-science-salaries-2023                                 Data Science Salaries 2023 💸                         25KB  2023-04-13 09:55:16          26330        731  1.0              \n",
            "tawfikelmetwally/automobile-dataset                                   Car information dataset                               6KB  2023-05-28 18:26:48           1439         39  0.9411765        \n",
            "fatihb/coffee-quality-data-cqi                                        Coffee Quality Data (CQI May-2023)                   22KB  2023-05-12 13:06:39           4049         86  1.0              \n",
            "mohithsairamreddy/salary-data                                         Salary_Data                                          17KB  2023-05-18 14:05:19           3432         66  0.88235295       \n",
            "mauryansshivam/netflix-ott-revenue-and-subscribers-csv-file           Netflix OTT Revenue and Subscribers (CSV File)        2KB  2023-05-13 17:40:23           1995         51  1.0              \n",
            "omarsobhy14/mcdonalds-revenue                                         🍟💰From Flipping Burgers to Billions: McDonald's      565B  2023-06-01 23:22:49            432         23  1.0              \n",
            "zsinghrahulk/rice-pest-and-diseases                                   Rice - Pest and Diseases                            312KB  2023-06-01 08:57:29            361         25  1.0              \n",
            "iammustafatz/diabetes-prediction-dataset                              Diabetes prediction dataset                         734KB  2023-04-08 06:11:45          13766        201  1.0              \n",
            "vstacknocopyright/fruit-and-vegetable-prices                          Fruit and Vegetable Prices                            1KB  2023-06-02 06:17:43            574         25  0.7647059        \n",
            "bilalwaseer/microsoft-stocks-from-1986-to-2023                        Microsoft Stocks from 1986 to 2023                  120KB  2023-05-16 10:07:28            663         22  0.9411765        \n",
            "aryansingh0909/earthquakes-alerts-tweets-dataset-daily-updated        Earthquakes Alerts Tweets Dataset (Daily Updated)   440KB  2023-06-04 22:59:23            421         26  1.0              \n",
            "darshanprabhu09/stock-prices-for                                      Stock prices of Amazon , Microsoft , Google, Apple   85KB  2023-05-16 15:17:16           1723         40  1.0              \n",
            "rajkumarpandey02/2023-world-population-by-country                      World Population by Country                         38KB  2023-06-01 06:10:41            815         23  1.0              \n",
            "danishjmeo/karachi-housing-prices-2023                                Karachi_Housing_Prices_2023                           1MB  2023-06-01 07:08:13            374         22  0.88235295       \n",
            "adityaramachandran27/world-air-quality-index-by-city-and-coordinates  World Air Quality Index by City and Coordinates     372KB  2023-05-07 07:29:26           1639         39  1.0              \n",
            "dansbecker/melbourne-housing-snapshot                                 Melbourne Housing Snapshot                          451KB  2018-06-05 12:52:24         117105       1277  0.7058824        \n",
            "pushpakhinglaspure/oscar-dataset                                      Oscar Academy Award-winning films 1927-2022         161KB  2023-05-21 18:14:44            431         24  1.0              \n",
            "aryansingh0909/weekly-patent-application-granted                      Patent Application Granted Dataset                    6MB  2023-06-01 19:04:40            262         23  1.0              \n",
            "utkarshx27/heart-disease-diagnosis-dataset                            Heart Disease Prediction Dataset                      3KB  2023-05-26 09:33:13            951         27  1.0              \n",
            "shreyanshverma27/water-quality-testing                                Water Quality Testing                                 4KB  2023-05-16 05:22:17           1005         29  0.9411765        \n"
          ]
        }
      ]
    },
    {
      "cell_type": "code",
      "source": [
        "!kaggle datasets download -d shawon10/ckplus"
      ],
      "metadata": {
        "id": "HI0aQJovcFEY",
        "colab": {
          "base_uri": "https://localhost:8080/"
        },
        "outputId": "6072696c-6ff9-4655-e551-3801992f9b8e"
      },
      "id": "HI0aQJovcFEY",
      "execution_count": null,
      "outputs": [
        {
          "output_type": "stream",
          "name": "stdout",
          "text": [
            "Downloading ckplus.zip to /content\n",
            " 83% 3.00M/3.63M [00:01<00:00, 3.44MB/s]\n",
            "100% 3.63M/3.63M [00:01<00:00, 3.15MB/s]\n"
          ]
        }
      ]
    },
    {
      "cell_type": "code",
      "source": [
        "! unzip ckplus.zip -d train"
      ],
      "metadata": {
        "id": "LWzeffTmeDN4",
        "colab": {
          "base_uri": "https://localhost:8080/"
        },
        "outputId": "5d69e8b4-013f-4031-b5b0-c519b10b271a"
      },
      "id": "LWzeffTmeDN4",
      "execution_count": null,
      "outputs": [
        {
          "output_type": "stream",
          "name": "stdout",
          "text": [
            "Archive:  ckplus.zip\n",
            "  inflating: train/CK+48/anger/S010_004_00000017.png  \n",
            "  inflating: train/CK+48/anger/S010_004_00000018.png  \n",
            "  inflating: train/CK+48/anger/S010_004_00000019.png  \n",
            "  inflating: train/CK+48/anger/S011_004_00000019.png  \n",
            "  inflating: train/CK+48/anger/S011_004_00000020.png  \n",
            "  inflating: train/CK+48/anger/S011_004_00000021.png  \n",
            "  inflating: train/CK+48/anger/S014_003_00000028.png  \n",
            "  inflating: train/CK+48/anger/S014_003_00000029.png  \n",
            "  inflating: train/CK+48/anger/S014_003_00000030.png  \n",
            "  inflating: train/CK+48/anger/S022_005_00000030.png  \n",
            "  inflating: train/CK+48/anger/S022_005_00000031.png  \n",
            "  inflating: train/CK+48/anger/S022_005_00000032.png  \n",
            "  inflating: train/CK+48/anger/S026_003_00000013.png  \n",
            "  inflating: train/CK+48/anger/S026_003_00000014.png  \n",
            "  inflating: train/CK+48/anger/S026_003_00000015.png  \n",
            "  inflating: train/CK+48/anger/S028_001_00000022.png  \n",
            "  inflating: train/CK+48/anger/S028_001_00000023.png  \n",
            "  inflating: train/CK+48/anger/S028_001_00000024.png  \n",
            "  inflating: train/CK+48/anger/S029_001_00000017.png  \n",
            "  inflating: train/CK+48/anger/S029_001_00000018.png  \n",
            "  inflating: train/CK+48/anger/S029_001_00000019.png  \n",
            "  inflating: train/CK+48/anger/S032_003_00000015.png  \n",
            "  inflating: train/CK+48/anger/S032_003_00000016.png  \n",
            "  inflating: train/CK+48/anger/S032_003_00000017.png  \n",
            "  inflating: train/CK+48/anger/S034_003_00000025.png  \n",
            "  inflating: train/CK+48/anger/S034_003_00000026.png  \n",
            "  inflating: train/CK+48/anger/S034_003_00000027.png  \n",
            "  inflating: train/CK+48/anger/S037_003_00000020.png  \n",
            "  inflating: train/CK+48/anger/S037_003_00000021.png  \n",
            "  inflating: train/CK+48/anger/S037_003_00000022.png  \n",
            "  inflating: train/CK+48/anger/S042_004_00000018.png  \n",
            "  inflating: train/CK+48/anger/S042_004_00000019.png  \n",
            "  inflating: train/CK+48/anger/S042_004_00000020.png  \n",
            "  inflating: train/CK+48/anger/S045_005_00000028.png  \n",
            "  inflating: train/CK+48/anger/S045_005_00000029.png  \n",
            "  inflating: train/CK+48/anger/S045_005_00000030.png  \n",
            "  inflating: train/CK+48/anger/S050_004_00000019.png  \n",
            "  inflating: train/CK+48/anger/S050_004_00000020.png  \n",
            "  inflating: train/CK+48/anger/S050_004_00000021.png  \n",
            "  inflating: train/CK+48/anger/S055_004_00000026.png  \n",
            "  inflating: train/CK+48/anger/S055_004_00000027.png  \n",
            "  inflating: train/CK+48/anger/S055_004_00000028.png  \n",
            "  inflating: train/CK+48/anger/S058_005_00000008.png  \n",
            "  inflating: train/CK+48/anger/S058_005_00000009.png  \n",
            "  inflating: train/CK+48/anger/S058_005_00000010.png  \n",
            "  inflating: train/CK+48/anger/S066_005_00000009.png  \n",
            "  inflating: train/CK+48/anger/S066_005_00000010.png  \n",
            "  inflating: train/CK+48/anger/S066_005_00000011.png  \n",
            "  inflating: train/CK+48/anger/S067_004_00000021.png  \n",
            "  inflating: train/CK+48/anger/S067_004_00000022.png  \n",
            "  inflating: train/CK+48/anger/S067_004_00000023.png  \n",
            "  inflating: train/CK+48/anger/S071_004_00000026.png  \n",
            "  inflating: train/CK+48/anger/S071_004_00000027.png  \n",
            "  inflating: train/CK+48/anger/S071_004_00000028.png  \n",
            "  inflating: train/CK+48/anger/S072_005_00000017.png  \n",
            "  inflating: train/CK+48/anger/S072_005_00000018.png  \n",
            "  inflating: train/CK+48/anger/S072_005_00000019.png  \n",
            "  inflating: train/CK+48/anger/S075_008_00000010.png  \n",
            "  inflating: train/CK+48/anger/S075_008_00000011.png  \n",
            "  inflating: train/CK+48/anger/S075_008_00000012.png  \n",
            "  inflating: train/CK+48/anger/S082_005_00000015.png  \n",
            "  inflating: train/CK+48/anger/S082_005_00000016.png  \n",
            "  inflating: train/CK+48/anger/S082_005_00000017.png  \n",
            "  inflating: train/CK+48/anger/S087_007_00000014.png  \n",
            "  inflating: train/CK+48/anger/S087_007_00000015.png  \n",
            "  inflating: train/CK+48/anger/S087_007_00000016.png  \n",
            "  inflating: train/CK+48/anger/S089_003_00000034.png  \n",
            "  inflating: train/CK+48/anger/S089_003_00000035.png  \n",
            "  inflating: train/CK+48/anger/S089_003_00000036.png  \n",
            "  inflating: train/CK+48/anger/S090_007_00000012.png  \n",
            "  inflating: train/CK+48/anger/S090_007_00000013.png  \n",
            "  inflating: train/CK+48/anger/S090_007_00000014.png  \n",
            "  inflating: train/CK+48/anger/S092_003_00000012.png  \n",
            "  inflating: train/CK+48/anger/S092_003_00000013.png  \n",
            "  inflating: train/CK+48/anger/S092_003_00000014.png  \n",
            "  inflating: train/CK+48/anger/S100_005_00000021.png  \n",
            "  inflating: train/CK+48/anger/S100_005_00000022.png  \n",
            "  inflating: train/CK+48/anger/S100_005_00000023.png  \n",
            "  inflating: train/CK+48/anger/S109_003_00000015.png  \n",
            "  inflating: train/CK+48/anger/S109_003_00000016.png  \n",
            "  inflating: train/CK+48/anger/S109_003_00000017.png  \n",
            "  inflating: train/CK+48/anger/S111_006_00000008.png  \n",
            "  inflating: train/CK+48/anger/S111_006_00000009.png  \n",
            "  inflating: train/CK+48/anger/S111_006_00000010.png  \n",
            "  inflating: train/CK+48/anger/S112_005_00000015.png  \n",
            "  inflating: train/CK+48/anger/S112_005_00000016.png  \n",
            "  inflating: train/CK+48/anger/S112_005_00000017.png  \n",
            "  inflating: train/CK+48/anger/S113_008_00000021.png  \n",
            "  inflating: train/CK+48/anger/S113_008_00000022.png  \n",
            "  inflating: train/CK+48/anger/S113_008_00000023.png  \n",
            "  inflating: train/CK+48/anger/S117_006_00000008.png  \n",
            "  inflating: train/CK+48/anger/S117_006_00000009.png  \n",
            "  inflating: train/CK+48/anger/S117_006_00000010.png  \n",
            "  inflating: train/CK+48/anger/S119_008_00000016.png  \n",
            "  inflating: train/CK+48/anger/S119_008_00000017.png  \n",
            "  inflating: train/CK+48/anger/S119_008_00000018.png  \n",
            "  inflating: train/CK+48/anger/S126_008_00000027.png  \n",
            "  inflating: train/CK+48/anger/S126_008_00000028.png  \n",
            "  inflating: train/CK+48/anger/S126_008_00000029.png  \n",
            "  inflating: train/CK+48/anger/S127_010_00000016.png  \n",
            "  inflating: train/CK+48/anger/S127_010_00000017.png  \n",
            "  inflating: train/CK+48/anger/S127_010_00000018.png  \n",
            "  inflating: train/CK+48/anger/S129_006_00000008.png  \n",
            "  inflating: train/CK+48/anger/S129_006_00000009.png  \n",
            "  inflating: train/CK+48/anger/S129_006_00000010.png  \n",
            "  inflating: train/CK+48/anger/S130_007_00000018.png  \n",
            "  inflating: train/CK+48/anger/S130_007_00000019.png  \n",
            "  inflating: train/CK+48/anger/S130_007_00000020.png  \n",
            "  inflating: train/CK+48/anger/S133_003_00000045.png  \n",
            "  inflating: train/CK+48/anger/S133_003_00000046.png  \n",
            "  inflating: train/CK+48/anger/S133_003_00000047.png  \n",
            "  inflating: train/CK+48/anger/S134_003_00000009.png  \n",
            "  inflating: train/CK+48/anger/S134_003_00000010.png  \n",
            "  inflating: train/CK+48/anger/S134_003_00000011.png  \n",
            "  inflating: train/CK+48/anger/S136_005_00000008.png  \n",
            "  inflating: train/CK+48/anger/S136_005_00000009.png  \n",
            "  inflating: train/CK+48/anger/S136_005_00000010.png  \n",
            "  inflating: train/CK+48/anger/S501_001_00000065.png  \n",
            "  inflating: train/CK+48/anger/S501_001_00000066.png  \n",
            "  inflating: train/CK+48/anger/S501_001_00000067.png  \n",
            "  inflating: train/CK+48/anger/S502_001_00000014.png  \n",
            "  inflating: train/CK+48/anger/S502_001_00000015.png  \n",
            "  inflating: train/CK+48/anger/S502_001_00000016.png  \n",
            "  inflating: train/CK+48/anger/S503_001_00000069.png  \n",
            "  inflating: train/CK+48/anger/S503_001_00000070.png  \n",
            "  inflating: train/CK+48/anger/S503_001_00000071.png  \n",
            "  inflating: train/CK+48/anger/S504_001_00000020.png  \n",
            "  inflating: train/CK+48/anger/S504_001_00000021.png  \n",
            "  inflating: train/CK+48/anger/S504_001_00000022.png  \n",
            "  inflating: train/CK+48/anger/S506_001_00000038.png  \n",
            "  inflating: train/CK+48/anger/S506_001_00000039.png  \n",
            "  inflating: train/CK+48/anger/S506_001_00000040.png  \n",
            "  inflating: train/CK+48/anger/S999_001_00000016.png  \n",
            "  inflating: train/CK+48/anger/S999_001_00000017.png  \n",
            "  inflating: train/CK+48/anger/S999_001_00000018.png  \n",
            "  inflating: train/CK+48/contempt/S138_008_00000007.png  \n",
            "  inflating: train/CK+48/contempt/S138_008_00000008.png  \n",
            "  inflating: train/CK+48/contempt/S138_008_00000009.png  \n",
            "  inflating: train/CK+48/contempt/S139_002_00000011.png  \n",
            "  inflating: train/CK+48/contempt/S139_002_00000012.png  \n",
            "  inflating: train/CK+48/contempt/S139_002_00000013.png  \n",
            "  inflating: train/CK+48/contempt/S147_002_00000011.png  \n",
            "  inflating: train/CK+48/contempt/S147_002_00000012.png  \n",
            "  inflating: train/CK+48/contempt/S147_002_00000013.png  \n",
            "  inflating: train/CK+48/contempt/S148_002_00000013.png  \n",
            "  inflating: train/CK+48/contempt/S148_002_00000014.png  \n",
            "  inflating: train/CK+48/contempt/S148_002_00000015.png  \n",
            "  inflating: train/CK+48/contempt/S149_002_00000011.png  \n",
            "  inflating: train/CK+48/contempt/S149_002_00000012.png  \n",
            "  inflating: train/CK+48/contempt/S149_002_00000013.png  \n",
            "  inflating: train/CK+48/contempt/S151_002_00000027.png  \n",
            "  inflating: train/CK+48/contempt/S151_002_00000028.png  \n",
            "  inflating: train/CK+48/contempt/S151_002_00000029.png  \n",
            "  inflating: train/CK+48/contempt/S154_002_00000011.png  \n",
            "  inflating: train/CK+48/contempt/S154_002_00000012.png  \n",
            "  inflating: train/CK+48/contempt/S154_002_00000013.png  \n",
            "  inflating: train/CK+48/contempt/S155_002_00000010.png  \n",
            "  inflating: train/CK+48/contempt/S155_002_00000011.png  \n",
            "  inflating: train/CK+48/contempt/S155_002_00000012.png  \n",
            "  inflating: train/CK+48/contempt/S156_002_00000019.png  \n",
            "  inflating: train/CK+48/contempt/S156_002_00000020.png  \n",
            "  inflating: train/CK+48/contempt/S156_002_00000021.png  \n",
            "  inflating: train/CK+48/contempt/S157_002_00000009.png  \n",
            "  inflating: train/CK+48/contempt/S157_002_00000010.png  \n",
            "  inflating: train/CK+48/contempt/S157_002_00000011.png  \n",
            "  inflating: train/CK+48/contempt/S158_002_00000009.png  \n",
            "  inflating: train/CK+48/contempt/S158_002_00000010.png  \n",
            "  inflating: train/CK+48/contempt/S158_002_00000011.png  \n",
            "  inflating: train/CK+48/contempt/S160_006_00000008.png  \n",
            "  inflating: train/CK+48/contempt/S160_006_00000009.png  \n",
            "  inflating: train/CK+48/contempt/S160_006_00000010.png  \n",
            "  inflating: train/CK+48/contempt/S502_002_00000007.png  \n",
            "  inflating: train/CK+48/contempt/S502_002_00000008.png  \n",
            "  inflating: train/CK+48/contempt/S502_002_00000009.png  \n",
            "  inflating: train/CK+48/contempt/S503_002_00000006.png  \n",
            "  inflating: train/CK+48/contempt/S503_002_00000007.png  \n",
            "  inflating: train/CK+48/contempt/S503_002_00000008.png  \n",
            "  inflating: train/CK+48/contempt/S504_002_00000007.png  \n",
            "  inflating: train/CK+48/contempt/S504_002_00000008.png  \n",
            "  inflating: train/CK+48/contempt/S504_002_00000009.png  \n",
            "  inflating: train/CK+48/contempt/S505_002_00000019.png  \n",
            "  inflating: train/CK+48/contempt/S505_002_00000020.png  \n",
            "  inflating: train/CK+48/contempt/S505_002_00000021.png  \n",
            "  inflating: train/CK+48/contempt/S506_002_00000007.png  \n",
            "  inflating: train/CK+48/contempt/S506_002_00000008.png  \n",
            "  inflating: train/CK+48/contempt/S506_002_00000009.png  \n",
            "  inflating: train/CK+48/contempt/S895_002_00000005.png  \n",
            "  inflating: train/CK+48/contempt/S895_002_00000006.png  \n",
            "  inflating: train/CK+48/contempt/S895_002_00000007.png  \n",
            "  inflating: train/CK+48/disgust/S005_001_00000009.png  \n",
            "  inflating: train/CK+48/disgust/S005_001_00000010.png  \n",
            "  inflating: train/CK+48/disgust/S005_001_00000011.png  \n",
            "  inflating: train/CK+48/disgust/S011_005_00000018.png  \n",
            "  inflating: train/CK+48/disgust/S011_005_00000019.png  \n",
            "  inflating: train/CK+48/disgust/S011_005_00000020.png  \n",
            "  inflating: train/CK+48/disgust/S022_006_00000015.png  \n",
            "  inflating: train/CK+48/disgust/S022_006_00000016.png  \n",
            "  inflating: train/CK+48/disgust/S022_006_00000017.png  \n",
            "  inflating: train/CK+48/disgust/S032_005_00000014.png  \n",
            "  inflating: train/CK+48/disgust/S032_005_00000015.png  \n",
            "  inflating: train/CK+48/disgust/S032_005_00000016.png  \n",
            "  inflating: train/CK+48/disgust/S035_005_00000017.png  \n",
            "  inflating: train/CK+48/disgust/S035_005_00000018.png  \n",
            "  inflating: train/CK+48/disgust/S035_005_00000019.png  \n",
            "  inflating: train/CK+48/disgust/S044_006_00000017.png  \n",
            "  inflating: train/CK+48/disgust/S044_006_00000018.png  \n",
            "  inflating: train/CK+48/disgust/S044_006_00000019.png  \n",
            "  inflating: train/CK+48/disgust/S045_004_00000013.png  \n",
            "  inflating: train/CK+48/disgust/S045_004_00000014.png  \n",
            "  inflating: train/CK+48/disgust/S045_004_00000015.png  \n",
            "  inflating: train/CK+48/disgust/S046_004_00000015.png  \n",
            "  inflating: train/CK+48/disgust/S046_004_00000016.png  \n",
            "  inflating: train/CK+48/disgust/S046_004_00000017.png  \n",
            "  inflating: train/CK+48/disgust/S051_003_00000016.png  \n",
            "  inflating: train/CK+48/disgust/S051_003_00000017.png  \n",
            "  inflating: train/CK+48/disgust/S051_003_00000018.png  \n",
            "  inflating: train/CK+48/disgust/S052_006_00000011.png  \n",
            "  inflating: train/CK+48/disgust/S052_006_00000012.png  \n",
            "  inflating: train/CK+48/disgust/S052_006_00000013.png  \n",
            "  inflating: train/CK+48/disgust/S054_004_00000022.png  \n",
            "  inflating: train/CK+48/disgust/S054_004_00000023.png  \n",
            "  inflating: train/CK+48/disgust/S054_004_00000024.png  \n",
            "  inflating: train/CK+48/disgust/S055_003_00000007.png  \n",
            "  inflating: train/CK+48/disgust/S055_003_00000008.png  \n",
            "  inflating: train/CK+48/disgust/S055_003_00000009.png  \n",
            "  inflating: train/CK+48/disgust/S056_002_00000008.png  \n",
            "  inflating: train/CK+48/disgust/S056_002_00000009.png  \n",
            "  inflating: train/CK+48/disgust/S056_002_00000010.png  \n",
            "  inflating: train/CK+48/disgust/S057_003_00000013.png  \n",
            "  inflating: train/CK+48/disgust/S057_003_00000014.png  \n",
            "  inflating: train/CK+48/disgust/S057_003_00000015.png  \n",
            "  inflating: train/CK+48/disgust/S058_006_00000016.png  \n",
            "  inflating: train/CK+48/disgust/S058_006_00000017.png  \n",
            "  inflating: train/CK+48/disgust/S058_006_00000018.png  \n",
            "  inflating: train/CK+48/disgust/S060_005_00000019.png  \n",
            "  inflating: train/CK+48/disgust/S060_005_00000020.png  \n",
            "  inflating: train/CK+48/disgust/S060_005_00000021.png  \n",
            "  inflating: train/CK+48/disgust/S061_004_00000020.png  \n",
            "  inflating: train/CK+48/disgust/S061_004_00000021.png  \n",
            "  inflating: train/CK+48/disgust/S061_004_00000022.png  \n",
            "  inflating: train/CK+48/disgust/S062_005_00000027.png  \n",
            "  inflating: train/CK+48/disgust/S062_005_00000028.png  \n",
            "  inflating: train/CK+48/disgust/S062_005_00000029.png  \n",
            "  inflating: train/CK+48/disgust/S065_005_00000006.png  \n",
            "  inflating: train/CK+48/disgust/S065_005_00000007.png  \n",
            "  inflating: train/CK+48/disgust/S065_005_00000008.png  \n",
            "  inflating: train/CK+48/disgust/S067_006_00000009.png  \n",
            "  inflating: train/CK+48/disgust/S067_006_00000010.png  \n",
            "  inflating: train/CK+48/disgust/S067_006_00000011.png  \n",
            "  inflating: train/CK+48/disgust/S068_005_00000019.png  \n",
            "  inflating: train/CK+48/disgust/S068_005_00000020.png  \n",
            "  inflating: train/CK+48/disgust/S068_005_00000021.png  \n",
            "  inflating: train/CK+48/disgust/S069_003_00000009.png  \n",
            "  inflating: train/CK+48/disgust/S069_003_00000010.png  \n",
            "  inflating: train/CK+48/disgust/S069_003_00000011.png  \n",
            "  inflating: train/CK+48/disgust/S070_005_00000014.png  \n",
            "  inflating: train/CK+48/disgust/S070_005_00000015.png  \n",
            "  inflating: train/CK+48/disgust/S070_005_00000016.png  \n",
            "  inflating: train/CK+48/disgust/S071_006_00000012.png  \n",
            "  inflating: train/CK+48/disgust/S071_006_00000013.png  \n",
            "  inflating: train/CK+48/disgust/S071_006_00000014.png  \n",
            "  inflating: train/CK+48/disgust/S073_006_00000012.png  \n",
            "  inflating: train/CK+48/disgust/S073_006_00000013.png  \n",
            "  inflating: train/CK+48/disgust/S073_006_00000014.png  \n",
            "  inflating: train/CK+48/disgust/S074_004_00000016.png  \n",
            "  inflating: train/CK+48/disgust/S074_004_00000017.png  \n",
            "  inflating: train/CK+48/disgust/S074_004_00000018.png  \n",
            "  inflating: train/CK+48/disgust/S075_005_00000010.png  \n",
            "  inflating: train/CK+48/disgust/S075_005_00000011.png  \n",
            "  inflating: train/CK+48/disgust/S075_005_00000012.png  \n",
            "  inflating: train/CK+48/disgust/S076_005_00000010.png  \n",
            "  inflating: train/CK+48/disgust/S076_005_00000011.png  \n",
            "  inflating: train/CK+48/disgust/S076_005_00000012.png  \n",
            "  inflating: train/CK+48/disgust/S077_006_00000012.png  \n",
            "  inflating: train/CK+48/disgust/S077_006_00000013.png  \n",
            "  inflating: train/CK+48/disgust/S077_006_00000014.png  \n",
            "  inflating: train/CK+48/disgust/S078_007_00000011.png  \n",
            "  inflating: train/CK+48/disgust/S078_007_00000012.png  \n",
            "  inflating: train/CK+48/disgust/S078_007_00000013.png  \n",
            "  inflating: train/CK+48/disgust/S079_002_00000010.png  \n",
            "  inflating: train/CK+48/disgust/S079_002_00000011.png  \n",
            "  inflating: train/CK+48/disgust/S079_002_00000012.png  \n",
            "  inflating: train/CK+48/disgust/S080_008_00000007.png  \n",
            "  inflating: train/CK+48/disgust/S080_008_00000008.png  \n",
            "  inflating: train/CK+48/disgust/S080_008_00000009.png  \n",
            "  inflating: train/CK+48/disgust/S081_008_00000009.png  \n",
            "  inflating: train/CK+48/disgust/S081_008_00000010.png  \n",
            "  inflating: train/CK+48/disgust/S081_008_00000011.png  \n",
            "  inflating: train/CK+48/disgust/S082_007_00000008.png  \n",
            "  inflating: train/CK+48/disgust/S082_007_00000009.png  \n",
            "  inflating: train/CK+48/disgust/S082_007_00000010.png  \n",
            "  inflating: train/CK+48/disgust/S085_004_00000015.png  \n",
            "  inflating: train/CK+48/disgust/S085_004_00000016.png  \n",
            "  inflating: train/CK+48/disgust/S085_004_00000017.png  \n",
            "  inflating: train/CK+48/disgust/S087_004_00000010.png  \n",
            "  inflating: train/CK+48/disgust/S087_004_00000011.png  \n",
            "  inflating: train/CK+48/disgust/S087_004_00000012.png  \n",
            "  inflating: train/CK+48/disgust/S088_004_00000018.png  \n",
            "  inflating: train/CK+48/disgust/S088_004_00000019.png  \n",
            "  inflating: train/CK+48/disgust/S088_004_00000020.png  \n",
            "  inflating: train/CK+48/disgust/S090_006_00000009.png  \n",
            "  inflating: train/CK+48/disgust/S090_006_00000010.png  \n",
            "  inflating: train/CK+48/disgust/S090_006_00000011.png  \n",
            "  inflating: train/CK+48/disgust/S095_006_00000011.png  \n",
            "  inflating: train/CK+48/disgust/S095_006_00000012.png  \n",
            "  inflating: train/CK+48/disgust/S095_006_00000013.png  \n",
            "  inflating: train/CK+48/disgust/S096_003_00000010.png  \n",
            "  inflating: train/CK+48/disgust/S096_003_00000011.png  \n",
            "  inflating: train/CK+48/disgust/S096_003_00000012.png  \n",
            "  inflating: train/CK+48/disgust/S097_004_00000028.png  \n",
            "  inflating: train/CK+48/disgust/S097_004_00000029.png  \n",
            "  inflating: train/CK+48/disgust/S097_004_00000030.png  \n",
            "  inflating: train/CK+48/disgust/S098_003_00000011.png  \n",
            "  inflating: train/CK+48/disgust/S098_003_00000012.png  \n",
            "  inflating: train/CK+48/disgust/S098_003_00000013.png  \n",
            "  inflating: train/CK+48/disgust/S099_007_00000010.png  \n",
            "  inflating: train/CK+48/disgust/S099_007_00000011.png  \n",
            "  inflating: train/CK+48/disgust/S099_007_00000012.png  \n",
            "  inflating: train/CK+48/disgust/S102_009_00000013.png  \n",
            "  inflating: train/CK+48/disgust/S102_009_00000014.png  \n",
            "  inflating: train/CK+48/disgust/S102_009_00000015.png  \n",
            "  inflating: train/CK+48/disgust/S105_008_00000008.png  \n",
            "  inflating: train/CK+48/disgust/S105_008_00000009.png  \n",
            "  inflating: train/CK+48/disgust/S105_008_00000010.png  \n",
            "  inflating: train/CK+48/disgust/S106_004_00000006.png  \n",
            "  inflating: train/CK+48/disgust/S106_004_00000007.png  \n",
            "  inflating: train/CK+48/disgust/S106_004_00000008.png  \n",
            "  inflating: train/CK+48/disgust/S107_005_00000009.png  \n",
            "  inflating: train/CK+48/disgust/S107_005_00000010.png  \n",
            "  inflating: train/CK+48/disgust/S107_005_00000011.png  \n",
            "  inflating: train/CK+48/disgust/S108_006_00000018.png  \n",
            "  inflating: train/CK+48/disgust/S108_006_00000019.png  \n",
            "  inflating: train/CK+48/disgust/S108_006_00000020.png  \n",
            "  inflating: train/CK+48/disgust/S109_005_00000012.png  \n",
            "  inflating: train/CK+48/disgust/S109_005_00000013.png  \n",
            "  inflating: train/CK+48/disgust/S109_005_00000014.png  \n",
            "  inflating: train/CK+48/disgust/S111_007_00000012.png  \n",
            "  inflating: train/CK+48/disgust/S111_007_00000013.png  \n",
            "  inflating: train/CK+48/disgust/S111_007_00000014.png  \n",
            "  inflating: train/CK+48/disgust/S116_006_00000005.png  \n",
            "  inflating: train/CK+48/disgust/S116_006_00000006.png  \n",
            "  inflating: train/CK+48/disgust/S116_006_00000007.png  \n",
            "  inflating: train/CK+48/disgust/S124_006_00000009.png  \n",
            "  inflating: train/CK+48/disgust/S124_006_00000010.png  \n",
            "  inflating: train/CK+48/disgust/S124_006_00000011.png  \n",
            "  inflating: train/CK+48/disgust/S125_008_00000008.png  \n",
            "  inflating: train/CK+48/disgust/S125_008_00000009.png  \n",
            "  inflating: train/CK+48/disgust/S125_008_00000010.png  \n",
            "  inflating: train/CK+48/disgust/S128_004_00000011.png  \n",
            "  inflating: train/CK+48/disgust/S128_004_00000012.png  \n",
            "  inflating: train/CK+48/disgust/S128_004_00000013.png  \n",
            "  inflating: train/CK+48/disgust/S129_011_00000016.png  \n",
            "  inflating: train/CK+48/disgust/S129_011_00000017.png  \n",
            "  inflating: train/CK+48/disgust/S129_011_00000018.png  \n",
            "  inflating: train/CK+48/disgust/S130_012_00000009.png  \n",
            "  inflating: train/CK+48/disgust/S130_012_00000010.png  \n",
            "  inflating: train/CK+48/disgust/S130_012_00000011.png  \n",
            "  inflating: train/CK+48/disgust/S131_010_00000016.png  \n",
            "  inflating: train/CK+48/disgust/S131_010_00000017.png  \n",
            "  inflating: train/CK+48/disgust/S131_010_00000018.png  \n",
            "  inflating: train/CK+48/disgust/S132_005_00000014.png  \n",
            "  inflating: train/CK+48/disgust/S132_005_00000015.png  \n",
            "  inflating: train/CK+48/disgust/S132_005_00000016.png  \n",
            "  inflating: train/CK+48/disgust/S134_008_00000011.png  \n",
            "  inflating: train/CK+48/disgust/S134_008_00000012.png  \n",
            "  inflating: train/CK+48/disgust/S134_008_00000013.png  \n",
            "  inflating: train/CK+48/fear/S011_003_00000012.png  \n",
            "  inflating: train/CK+48/fear/S011_003_00000013.png  \n",
            "  inflating: train/CK+48/fear/S011_003_00000014.png  \n",
            "  inflating: train/CK+48/fear/S032_004_00000012.png  \n",
            "  inflating: train/CK+48/fear/S032_004_00000013.png  \n",
            "  inflating: train/CK+48/fear/S032_004_00000014.png  \n",
            "  inflating: train/CK+48/fear/S046_003_00000014.png  \n",
            "  inflating: train/CK+48/fear/S046_003_00000015.png  \n",
            "  inflating: train/CK+48/fear/S046_003_00000016.png  \n",
            "  inflating: train/CK+48/fear/S050_001_00000015.png  \n",
            "  inflating: train/CK+48/fear/S050_001_00000016.png  \n",
            "  inflating: train/CK+48/fear/S050_001_00000017.png  \n",
            "  inflating: train/CK+48/fear/S054_002_00000013.png  \n",
            "  inflating: train/CK+48/fear/S054_002_00000014.png  \n",
            "  inflating: train/CK+48/fear/S054_002_00000015.png  \n",
            "  inflating: train/CK+48/fear/S055_006_00000006.png  \n",
            "  inflating: train/CK+48/fear/S055_006_00000007.png  \n",
            "  inflating: train/CK+48/fear/S055_006_00000008.png  \n",
            "  inflating: train/CK+48/fear/S059_002_00000015.png  \n",
            "  inflating: train/CK+48/fear/S059_002_00000016.png  \n",
            "  inflating: train/CK+48/fear/S059_002_00000017.png  \n",
            "  inflating: train/CK+48/fear/S062_001_00000015.png  \n",
            "  inflating: train/CK+48/fear/S062_001_00000016.png  \n",
            "  inflating: train/CK+48/fear/S062_001_00000017.png  \n",
            "  inflating: train/CK+48/fear/S065_002_00000020.png  \n",
            "  inflating: train/CK+48/fear/S065_002_00000021.png  \n",
            "  inflating: train/CK+48/fear/S065_002_00000022.png  \n",
            "  inflating: train/CK+48/fear/S068_004_00000008.png  \n",
            "  inflating: train/CK+48/fear/S068_004_00000009.png  \n",
            "  inflating: train/CK+48/fear/S068_004_00000010.png  \n",
            "  inflating: train/CK+48/fear/S074_001_00000018.png  \n",
            "  inflating: train/CK+48/fear/S074_001_00000019.png  \n",
            "  inflating: train/CK+48/fear/S074_001_00000020.png  \n",
            "  inflating: train/CK+48/fear/S084_002_00000021.png  \n",
            "  inflating: train/CK+48/fear/S084_002_00000022.png  \n",
            "  inflating: train/CK+48/fear/S084_002_00000023.png  \n",
            "  inflating: train/CK+48/fear/S091_001_00000013.png  \n",
            "  inflating: train/CK+48/fear/S091_001_00000014.png  \n",
            "  inflating: train/CK+48/fear/S091_001_00000015.png  \n",
            "  inflating: train/CK+48/fear/S102_003_00000014.png  \n",
            "  inflating: train/CK+48/fear/S102_003_00000015.png  \n",
            "  inflating: train/CK+48/fear/S102_003_00000016.png  \n",
            "  inflating: train/CK+48/fear/S117_003_00000012.png  \n",
            "  inflating: train/CK+48/fear/S117_003_00000013.png  \n",
            "  inflating: train/CK+48/fear/S117_003_00000014.png  \n",
            "  inflating: train/CK+48/fear/S119_003_00000022.png  \n",
            "  inflating: train/CK+48/fear/S119_003_00000023.png  \n",
            "  inflating: train/CK+48/fear/S119_003_00000024.png  \n",
            "  inflating: train/CK+48/fear/S124_003_00000009.png  \n",
            "  inflating: train/CK+48/fear/S124_003_00000010.png  \n",
            "  inflating: train/CK+48/fear/S124_003_00000011.png  \n",
            "  inflating: train/CK+48/fear/S125_006_00000020.png  \n",
            "  inflating: train/CK+48/fear/S125_006_00000021.png  \n",
            "  inflating: train/CK+48/fear/S125_006_00000022.png  \n",
            "  inflating: train/CK+48/fear/S132_003_00000021.png  \n",
            "  inflating: train/CK+48/fear/S132_003_00000022.png  \n",
            "  inflating: train/CK+48/fear/S132_003_00000023.png  \n",
            "  inflating: train/CK+48/fear/S138_001_00000010.png  \n",
            "  inflating: train/CK+48/fear/S138_001_00000011.png  \n",
            "  inflating: train/CK+48/fear/S138_001_00000012.png  \n",
            "  inflating: train/CK+48/fear/S501_004_00000054.png  \n",
            "  inflating: train/CK+48/fear/S501_004_00000055.png  \n",
            "  inflating: train/CK+48/fear/S501_004_00000056.png  \n",
            "  inflating: train/CK+48/fear/S502_004_00000050.png  \n",
            "  inflating: train/CK+48/fear/S502_004_00000051.png  \n",
            "  inflating: train/CK+48/fear/S502_004_00000052.png  \n",
            "  inflating: train/CK+48/fear/S504_004_00000013.png  \n",
            "  inflating: train/CK+48/fear/S504_004_00000014.png  \n",
            "  inflating: train/CK+48/fear/S504_004_00000015.png  \n",
            "  inflating: train/CK+48/fear/S506_004_00000036.png  \n",
            "  inflating: train/CK+48/fear/S506_004_00000037.png  \n",
            "  inflating: train/CK+48/fear/S506_004_00000038.png  \n",
            "  inflating: train/CK+48/fear/S999_003_00000053.png  \n",
            "  inflating: train/CK+48/fear/S999_003_00000054.png  \n",
            "  inflating: train/CK+48/fear/S999_003_00000055.png  \n",
            "  inflating: train/CK+48/happy/S010_006_00000013.png  \n",
            "  inflating: train/CK+48/happy/S010_006_00000014.png  \n",
            "  inflating: train/CK+48/happy/S010_006_00000015.png  \n",
            "  inflating: train/CK+48/happy/S011_006_00000011.png  \n",
            "  inflating: train/CK+48/happy/S011_006_00000012.png  \n",
            "  inflating: train/CK+48/happy/S011_006_00000013.png  \n",
            "  inflating: train/CK+48/happy/S014_005_00000015.png  \n",
            "  inflating: train/CK+48/happy/S014_005_00000016.png  \n",
            "  inflating: train/CK+48/happy/S014_005_00000017.png  \n",
            "  inflating: train/CK+48/happy/S026_006_00000011.png  \n",
            "  inflating: train/CK+48/happy/S026_006_00000012.png  \n",
            "  inflating: train/CK+48/happy/S026_006_00000013.png  \n",
            "  inflating: train/CK+48/happy/S032_006_00000014.png  \n",
            "  inflating: train/CK+48/happy/S032_006_00000015.png  \n",
            "  inflating: train/CK+48/happy/S032_006_00000016.png  \n",
            "  inflating: train/CK+48/happy/S034_005_00000008.png  \n",
            "  inflating: train/CK+48/happy/S034_005_00000009.png  \n",
            "  inflating: train/CK+48/happy/S034_005_00000010.png  \n",
            "  inflating: train/CK+48/happy/S035_006_00000016.png  \n",
            "  inflating: train/CK+48/happy/S035_006_00000017.png  \n",
            "  inflating: train/CK+48/happy/S035_006_00000018.png  \n",
            "  inflating: train/CK+48/happy/S037_006_00000019.png  \n",
            "  inflating: train/CK+48/happy/S037_006_00000020.png  \n",
            "  inflating: train/CK+48/happy/S037_006_00000021.png  \n",
            "  inflating: train/CK+48/happy/S042_006_00000015.png  \n",
            "  inflating: train/CK+48/happy/S042_006_00000016.png  \n",
            "  inflating: train/CK+48/happy/S042_006_00000017.png  \n",
            "  inflating: train/CK+48/happy/S044_003_00000012.png  \n",
            "  inflating: train/CK+48/happy/S044_003_00000013.png  \n",
            "  inflating: train/CK+48/happy/S044_003_00000014.png  \n",
            "  inflating: train/CK+48/happy/S050_006_00000021.png  \n",
            "  inflating: train/CK+48/happy/S050_006_00000022.png  \n",
            "  inflating: train/CK+48/happy/S050_006_00000023.png  \n",
            "  inflating: train/CK+48/happy/S052_004_00000031.png  \n",
            "  inflating: train/CK+48/happy/S052_004_00000032.png  \n",
            "  inflating: train/CK+48/happy/S052_004_00000033.png  \n",
            "  inflating: train/CK+48/happy/S053_004_00000022.png  \n",
            "  inflating: train/CK+48/happy/S053_004_00000023.png  \n",
            "  inflating: train/CK+48/happy/S053_004_00000024.png  \n",
            "  inflating: train/CK+48/happy/S055_005_00000043.png  \n",
            "  inflating: train/CK+48/happy/S055_005_00000044.png  \n",
            "  inflating: train/CK+48/happy/S055_005_00000045.png  \n",
            "  inflating: train/CK+48/happy/S056_004_00000018.png  \n",
            "  inflating: train/CK+48/happy/S056_004_00000019.png  \n",
            "  inflating: train/CK+48/happy/S056_004_00000020.png  \n",
            "  inflating: train/CK+48/happy/S057_006_00000031.png  \n",
            "  inflating: train/CK+48/happy/S057_006_00000032.png  \n",
            "  inflating: train/CK+48/happy/S057_006_00000033.png  \n",
            "  inflating: train/CK+48/happy/S060_002_00000024.png  \n",
            "  inflating: train/CK+48/happy/S060_002_00000025.png  \n",
            "  inflating: train/CK+48/happy/S060_002_00000026.png  \n",
            "  inflating: train/CK+48/happy/S061_002_00000013.png  \n",
            "  inflating: train/CK+48/happy/S061_002_00000014.png  \n",
            "  inflating: train/CK+48/happy/S061_002_00000015.png  \n",
            "  inflating: train/CK+48/happy/S062_004_00000022.png  \n",
            "  inflating: train/CK+48/happy/S062_004_00000023.png  \n",
            "  inflating: train/CK+48/happy/S062_004_00000024.png  \n",
            "  inflating: train/CK+48/happy/S063_002_00000021.png  \n",
            "  inflating: train/CK+48/happy/S063_002_00000022.png  \n",
            "  inflating: train/CK+48/happy/S063_002_00000023.png  \n",
            "  inflating: train/CK+48/happy/S064_003_00000023.png  \n",
            "  inflating: train/CK+48/happy/S064_003_00000024.png  \n",
            "  inflating: train/CK+48/happy/S064_003_00000025.png  \n",
            "  inflating: train/CK+48/happy/S065_004_00000026.png  \n",
            "  inflating: train/CK+48/happy/S065_004_00000027.png  \n",
            "  inflating: train/CK+48/happy/S065_004_00000028.png  \n",
            "  inflating: train/CK+48/happy/S066_003_00000010.png  \n",
            "  inflating: train/CK+48/happy/S066_003_00000011.png  \n",
            "  inflating: train/CK+48/happy/S066_003_00000012.png  \n",
            "  inflating: train/CK+48/happy/S067_005_00000020.png  \n",
            "  inflating: train/CK+48/happy/S067_005_00000021.png  \n",
            "  inflating: train/CK+48/happy/S067_005_00000022.png  \n",
            "  inflating: train/CK+48/happy/S068_002_00000013.png  \n",
            "  inflating: train/CK+48/happy/S068_002_00000014.png  \n",
            "  inflating: train/CK+48/happy/S068_002_00000015.png  \n",
            "  inflating: train/CK+48/happy/S069_004_00000015.png  \n",
            "  inflating: train/CK+48/happy/S069_004_00000016.png  \n",
            "  inflating: train/CK+48/happy/S069_004_00000017.png  \n",
            "  inflating: train/CK+48/happy/S070_003_00000015.png  \n",
            "  inflating: train/CK+48/happy/S070_003_00000016.png  \n",
            "  inflating: train/CK+48/happy/S070_003_00000017.png  \n",
            "  inflating: train/CK+48/happy/S071_005_00000019.png  \n",
            "  inflating: train/CK+48/happy/S071_005_00000020.png  \n",
            "  inflating: train/CK+48/happy/S071_005_00000021.png  \n",
            "  inflating: train/CK+48/happy/S072_006_00000020.png  \n",
            "  inflating: train/CK+48/happy/S072_006_00000021.png  \n",
            "  inflating: train/CK+48/happy/S072_006_00000022.png  \n",
            "  inflating: train/CK+48/happy/S074_005_00000041.png  \n",
            "  inflating: train/CK+48/happy/S074_005_00000042.png  \n",
            "  inflating: train/CK+48/happy/S074_005_00000043.png  \n",
            "  inflating: train/CK+48/happy/S075_006_00000023.png  \n",
            "  inflating: train/CK+48/happy/S075_006_00000024.png  \n",
            "  inflating: train/CK+48/happy/S075_006_00000025.png  \n",
            "  inflating: train/CK+48/happy/S076_006_00000017.png  \n",
            "  inflating: train/CK+48/happy/S076_006_00000018.png  \n",
            "  inflating: train/CK+48/happy/S076_006_00000019.png  \n",
            "  inflating: train/CK+48/happy/S078_004_00000025.png  \n",
            "  inflating: train/CK+48/happy/S078_004_00000026.png  \n",
            "  inflating: train/CK+48/happy/S078_004_00000027.png  \n",
            "  inflating: train/CK+48/happy/S079_004_00000024.png  \n",
            "  inflating: train/CK+48/happy/S079_004_00000025.png  \n",
            "  inflating: train/CK+48/happy/S079_004_00000026.png  \n",
            "  inflating: train/CK+48/happy/S083_003_00000017.png  \n",
            "  inflating: train/CK+48/happy/S083_003_00000018.png  \n",
            "  inflating: train/CK+48/happy/S083_003_00000019.png  \n",
            "  inflating: train/CK+48/happy/S085_002_00000012.png  \n",
            "  inflating: train/CK+48/happy/S085_002_00000013.png  \n",
            "  inflating: train/CK+48/happy/S085_002_00000014.png  \n",
            "  inflating: train/CK+48/happy/S086_002_00000013.png  \n",
            "  inflating: train/CK+48/happy/S086_002_00000014.png  \n",
            "  inflating: train/CK+48/happy/S086_002_00000015.png  \n",
            "  inflating: train/CK+48/happy/S087_005_00000010.png  \n",
            "  inflating: train/CK+48/happy/S087_005_00000011.png  \n",
            "  inflating: train/CK+48/happy/S087_005_00000012.png  \n",
            "  inflating: train/CK+48/happy/S089_002_00000019.png  \n",
            "  inflating: train/CK+48/happy/S089_002_00000020.png  \n",
            "  inflating: train/CK+48/happy/S089_002_00000021.png  \n",
            "  inflating: train/CK+48/happy/S091_003_00000019.png  \n",
            "  inflating: train/CK+48/happy/S091_003_00000020.png  \n",
            "  inflating: train/CK+48/happy/S091_003_00000021.png  \n",
            "  inflating: train/CK+48/happy/S092_004_00000022.png  \n",
            "  inflating: train/CK+48/happy/S092_004_00000023.png  \n",
            "  inflating: train/CK+48/happy/S092_004_00000024.png  \n",
            "  inflating: train/CK+48/happy/S093_004_00000014.png  \n",
            "  inflating: train/CK+48/happy/S093_004_00000015.png  \n",
            "  inflating: train/CK+48/happy/S093_004_00000016.png  \n",
            "  inflating: train/CK+48/happy/S094_004_00000010.png  \n",
            "  inflating: train/CK+48/happy/S094_004_00000011.png  \n",
            "  inflating: train/CK+48/happy/S094_004_00000012.png  \n",
            "  inflating: train/CK+48/happy/S095_007_00000019.png  \n",
            "  inflating: train/CK+48/happy/S095_007_00000020.png  \n",
            "  inflating: train/CK+48/happy/S095_007_00000021.png  \n",
            "  inflating: train/CK+48/happy/S096_004_00000009.png  \n",
            "  inflating: train/CK+48/happy/S096_004_00000010.png  \n",
            "  inflating: train/CK+48/happy/S096_004_00000011.png  \n",
            "  inflating: train/CK+48/happy/S097_006_00000017.png  \n",
            "  inflating: train/CK+48/happy/S097_006_00000018.png  \n",
            "  inflating: train/CK+48/happy/S097_006_00000019.png  \n",
            "  inflating: train/CK+48/happy/S098_004_00000013.png  \n",
            "  inflating: train/CK+48/happy/S098_004_00000014.png  \n",
            "  inflating: train/CK+48/happy/S098_004_00000015.png  \n",
            "  inflating: train/CK+48/happy/S099_004_00000013.png  \n",
            "  inflating: train/CK+48/happy/S099_004_00000014.png  \n",
            "  inflating: train/CK+48/happy/S099_004_00000015.png  \n",
            "  inflating: train/CK+48/happy/S100_006_00000014.png  \n",
            "  inflating: train/CK+48/happy/S100_006_00000015.png  \n",
            "  inflating: train/CK+48/happy/S100_006_00000016.png  \n",
            "  inflating: train/CK+48/happy/S106_006_00000009.png  \n",
            "  inflating: train/CK+48/happy/S106_006_00000010.png  \n",
            "  inflating: train/CK+48/happy/S106_006_00000011.png  \n",
            "  inflating: train/CK+48/happy/S108_008_00000011.png  \n",
            "  inflating: train/CK+48/happy/S108_008_00000012.png  \n",
            "  inflating: train/CK+48/happy/S108_008_00000013.png  \n",
            "  inflating: train/CK+48/happy/S109_006_00000013.png  \n",
            "  inflating: train/CK+48/happy/S109_006_00000014.png  \n",
            "  inflating: train/CK+48/happy/S109_006_00000015.png  \n",
            "  inflating: train/CK+48/happy/S114_006_00000021.png  \n",
            "  inflating: train/CK+48/happy/S114_006_00000022.png  \n",
            "  inflating: train/CK+48/happy/S114_006_00000023.png  \n",
            "  inflating: train/CK+48/happy/S115_008_00000015.png  \n",
            "  inflating: train/CK+48/happy/S115_008_00000016.png  \n",
            "  inflating: train/CK+48/happy/S115_008_00000017.png  \n",
            "  inflating: train/CK+48/happy/S116_007_00000015.png  \n",
            "  inflating: train/CK+48/happy/S116_007_00000016.png  \n",
            "  inflating: train/CK+48/happy/S116_007_00000017.png  \n",
            "  inflating: train/CK+48/happy/S124_007_00000022.png  \n",
            "  inflating: train/CK+48/happy/S124_007_00000023.png  \n",
            "  inflating: train/CK+48/happy/S124_007_00000024.png  \n",
            "  inflating: train/CK+48/happy/S125_005_00000011.png  \n",
            "  inflating: train/CK+48/happy/S125_005_00000012.png  \n",
            "  inflating: train/CK+48/happy/S125_005_00000013.png  \n",
            "  inflating: train/CK+48/happy/S127_004_00000014.png  \n",
            "  inflating: train/CK+48/happy/S127_004_00000015.png  \n",
            "  inflating: train/CK+48/happy/S127_004_00000016.png  \n",
            "  inflating: train/CK+48/happy/S128_011_00000014.png  \n",
            "  inflating: train/CK+48/happy/S128_011_00000015.png  \n",
            "  inflating: train/CK+48/happy/S128_011_00000016.png  \n",
            "  inflating: train/CK+48/happy/S129_012_00000009.png  \n",
            "  inflating: train/CK+48/happy/S129_012_00000010.png  \n",
            "  inflating: train/CK+48/happy/S129_012_00000011.png  \n",
            "  inflating: train/CK+48/happy/S130_013_00000013.png  \n",
            "  inflating: train/CK+48/happy/S130_013_00000014.png  \n",
            "  inflating: train/CK+48/happy/S130_013_00000015.png  \n",
            "  inflating: train/CK+48/happy/S131_006_00000020.png  \n",
            "  inflating: train/CK+48/happy/S131_006_00000021.png  \n",
            "  inflating: train/CK+48/happy/S131_006_00000022.png  \n",
            "  inflating: train/CK+48/happy/S132_006_00000021.png  \n",
            "  inflating: train/CK+48/happy/S132_006_00000022.png  \n",
            "  inflating: train/CK+48/happy/S132_006_00000023.png  \n",
            "  inflating: train/CK+48/happy/S133_010_00000012.png  \n",
            "  inflating: train/CK+48/happy/S133_010_00000013.png  \n",
            "  inflating: train/CK+48/happy/S133_010_00000014.png  \n",
            "  inflating: train/CK+48/happy/S134_004_00000013.png  \n",
            "  inflating: train/CK+48/happy/S134_004_00000014.png  \n",
            "  inflating: train/CK+48/happy/S134_004_00000015.png  \n",
            "  inflating: train/CK+48/happy/S135_012_00000018.png  \n",
            "  inflating: train/CK+48/happy/S135_012_00000019.png  \n",
            "  inflating: train/CK+48/happy/S135_012_00000020.png  \n",
            "  inflating: train/CK+48/happy/S136_006_00000018.png  \n",
            "  inflating: train/CK+48/happy/S136_006_00000019.png  \n",
            "  inflating: train/CK+48/happy/S136_006_00000020.png  \n",
            "  inflating: train/CK+48/happy/S137_011_00000018.png  \n",
            "  inflating: train/CK+48/happy/S137_011_00000019.png  \n",
            "  inflating: train/CK+48/happy/S137_011_00000020.png  \n",
            "  inflating: train/CK+48/happy/S138_005_00000014.png  \n",
            "  inflating: train/CK+48/happy/S138_005_00000015.png  \n",
            "  inflating: train/CK+48/happy/S138_005_00000016.png  \n",
            "  inflating: train/CK+48/sadness/S011_002_00000020.png  \n",
            "  inflating: train/CK+48/sadness/S011_002_00000021.png  \n",
            "  inflating: train/CK+48/sadness/S011_002_00000022.png  \n",
            "  inflating: train/CK+48/sadness/S014_002_00000014.png  \n",
            "  inflating: train/CK+48/sadness/S014_002_00000015.png  \n",
            "  inflating: train/CK+48/sadness/S014_002_00000016.png  \n",
            "  inflating: train/CK+48/sadness/S026_002_00000014.png  \n",
            "  inflating: train/CK+48/sadness/S026_002_00000015.png  \n",
            "  inflating: train/CK+48/sadness/S026_002_00000016.png  \n",
            "  inflating: train/CK+48/sadness/S042_002_00000014.png  \n",
            "  inflating: train/CK+48/sadness/S042_002_00000015.png  \n",
            "  inflating: train/CK+48/sadness/S042_002_00000016.png  \n",
            "  inflating: train/CK+48/sadness/S046_001_00000023.png  \n",
            "  inflating: train/CK+48/sadness/S046_001_00000024.png  \n",
            "  inflating: train/CK+48/sadness/S046_001_00000025.png  \n",
            "  inflating: train/CK+48/sadness/S064_004_00000012.png  \n",
            "  inflating: train/CK+48/sadness/S064_004_00000013.png  \n",
            "  inflating: train/CK+48/sadness/S064_004_00000014.png  \n",
            "  inflating: train/CK+48/sadness/S066_004_00000008.png  \n",
            "  inflating: train/CK+48/sadness/S066_004_00000009.png  \n",
            "  inflating: train/CK+48/sadness/S066_004_00000010.png  \n",
            "  inflating: train/CK+48/sadness/S071_002_00000018.png  \n",
            "  inflating: train/CK+48/sadness/S071_002_00000019.png  \n",
            "  inflating: train/CK+48/sadness/S071_002_00000020.png  \n",
            "  inflating: train/CK+48/sadness/S080_005_00000011.png  \n",
            "  inflating: train/CK+48/sadness/S080_005_00000012.png  \n",
            "  inflating: train/CK+48/sadness/S080_005_00000013.png  \n",
            "  inflating: train/CK+48/sadness/S081_002_00000022.png  \n",
            "  inflating: train/CK+48/sadness/S081_002_00000023.png  \n",
            "  inflating: train/CK+48/sadness/S081_002_00000024.png  \n",
            "  inflating: train/CK+48/sadness/S093_001_00000018.png  \n",
            "  inflating: train/CK+48/sadness/S093_001_00000019.png  \n",
            "  inflating: train/CK+48/sadness/S093_001_00000020.png  \n",
            "  inflating: train/CK+48/sadness/S095_010_00000012.png  \n",
            "  inflating: train/CK+48/sadness/S095_010_00000013.png  \n",
            "  inflating: train/CK+48/sadness/S095_010_00000014.png  \n",
            "  inflating: train/CK+48/sadness/S106_002_00000014.png  \n",
            "  inflating: train/CK+48/sadness/S106_002_00000015.png  \n",
            "  inflating: train/CK+48/sadness/S106_002_00000016.png  \n",
            "  inflating: train/CK+48/sadness/S108_005_00000020.png  \n",
            "  inflating: train/CK+48/sadness/S108_005_00000021.png  \n",
            "  inflating: train/CK+48/sadness/S108_005_00000022.png  \n",
            "  inflating: train/CK+48/sadness/S113_003_00000013.png  \n",
            "  inflating: train/CK+48/sadness/S113_003_00000014.png  \n",
            "  inflating: train/CK+48/sadness/S113_003_00000015.png  \n",
            "  inflating: train/CK+48/sadness/S115_004_00000015.png  \n",
            "  inflating: train/CK+48/sadness/S115_004_00000016.png  \n",
            "  inflating: train/CK+48/sadness/S115_004_00000017.png  \n",
            "  inflating: train/CK+48/sadness/S125_001_00000012.png  \n",
            "  inflating: train/CK+48/sadness/S125_001_00000013.png  \n",
            "  inflating: train/CK+48/sadness/S125_001_00000014.png  \n",
            "  inflating: train/CK+48/sadness/S130_009_00000017.png  \n",
            "  inflating: train/CK+48/sadness/S130_009_00000018.png  \n",
            "  inflating: train/CK+48/sadness/S130_009_00000019.png  \n",
            "  inflating: train/CK+48/sadness/S131_003_00000022.png  \n",
            "  inflating: train/CK+48/sadness/S131_003_00000023.png  \n",
            "  inflating: train/CK+48/sadness/S131_003_00000024.png  \n",
            "  inflating: train/CK+48/sadness/S132_002_00000016.png  \n",
            "  inflating: train/CK+48/sadness/S132_002_00000017.png  \n",
            "  inflating: train/CK+48/sadness/S132_002_00000018.png  \n",
            "  inflating: train/CK+48/sadness/S136_003_00000012.png  \n",
            "  inflating: train/CK+48/sadness/S136_003_00000013.png  \n",
            "  inflating: train/CK+48/sadness/S136_003_00000014.png  \n",
            "  inflating: train/CK+48/sadness/S137_005_00000025.png  \n",
            "  inflating: train/CK+48/sadness/S137_005_00000026.png  \n",
            "  inflating: train/CK+48/sadness/S137_005_00000027.png  \n",
            "  inflating: train/CK+48/sadness/S138_007_00000009.png  \n",
            "  inflating: train/CK+48/sadness/S138_007_00000010.png  \n",
            "  inflating: train/CK+48/sadness/S138_007_00000011.png  \n",
            "  inflating: train/CK+48/sadness/S501_006_00000039.png  \n",
            "  inflating: train/CK+48/sadness/S501_006_00000040.png  \n",
            "  inflating: train/CK+48/sadness/S501_006_00000041.png  \n",
            "  inflating: train/CK+48/sadness/S503_006_00000018.png  \n",
            "  inflating: train/CK+48/sadness/S503_006_00000019.png  \n",
            "  inflating: train/CK+48/sadness/S503_006_00000020.png  \n",
            "  inflating: train/CK+48/sadness/S504_006_00000016.png  \n",
            "  inflating: train/CK+48/sadness/S504_006_00000017.png  \n",
            "  inflating: train/CK+48/sadness/S504_006_00000018.png  \n",
            "  inflating: train/CK+48/sadness/S505_006_00000017.png  \n",
            "  inflating: train/CK+48/sadness/S505_006_00000018.png  \n",
            "  inflating: train/CK+48/sadness/S505_006_00000019.png  \n",
            "  inflating: train/CK+48/sadness/S506_006_00000040.png  \n",
            "  inflating: train/CK+48/sadness/S506_006_00000041.png  \n",
            "  inflating: train/CK+48/sadness/S506_006_00000042.png  \n",
            "  inflating: train/CK+48/surprise/S010_002_00000012.png  \n",
            "  inflating: train/CK+48/surprise/S010_002_00000013.png  \n",
            "  inflating: train/CK+48/surprise/S010_002_00000014.png  \n",
            "  inflating: train/CK+48/surprise/S011_001_00000014.png  \n",
            "  inflating: train/CK+48/surprise/S011_001_00000015.png  \n",
            "  inflating: train/CK+48/surprise/S011_001_00000016.png  \n",
            "  inflating: train/CK+48/surprise/S014_001_00000027.png  \n",
            "  inflating: train/CK+48/surprise/S014_001_00000028.png  \n",
            "  inflating: train/CK+48/surprise/S014_001_00000029.png  \n",
            "  inflating: train/CK+48/surprise/S022_001_00000028.png  \n",
            "  inflating: train/CK+48/surprise/S022_001_00000029.png  \n",
            "  inflating: train/CK+48/surprise/S022_001_00000030.png  \n",
            "  inflating: train/CK+48/surprise/S026_001_00000013.png  \n",
            "  inflating: train/CK+48/surprise/S026_001_00000014.png  \n",
            "  inflating: train/CK+48/surprise/S026_001_00000015.png  \n",
            "  inflating: train/CK+48/surprise/S032_001_00000020.png  \n",
            "  inflating: train/CK+48/surprise/S032_001_00000021.png  \n",
            "  inflating: train/CK+48/surprise/S032_001_00000022.png  \n",
            "  inflating: train/CK+48/surprise/S034_001_00000027.png  \n",
            "  inflating: train/CK+48/surprise/S034_001_00000028.png  \n",
            "  inflating: train/CK+48/surprise/S034_001_00000029.png  \n",
            "  inflating: train/CK+48/surprise/S035_001_00000013.png  \n",
            "  inflating: train/CK+48/surprise/S035_001_00000014.png  \n",
            "  inflating: train/CK+48/surprise/S035_001_00000015.png  \n",
            "  inflating: train/CK+48/surprise/S037_001_00000018.png  \n",
            "  inflating: train/CK+48/surprise/S037_001_00000019.png  \n",
            "  inflating: train/CK+48/surprise/S037_001_00000020.png  \n",
            "  inflating: train/CK+48/surprise/S042_001_00000017.png  \n",
            "  inflating: train/CK+48/surprise/S042_001_00000018.png  \n",
            "  inflating: train/CK+48/surprise/S042_001_00000019.png  \n",
            "  inflating: train/CK+48/surprise/S044_001_00000022.png  \n",
            "  inflating: train/CK+48/surprise/S044_001_00000023.png  \n",
            "  inflating: train/CK+48/surprise/S044_001_00000024.png  \n",
            "  inflating: train/CK+48/surprise/S046_002_00000004.png  \n",
            "  inflating: train/CK+48/surprise/S046_002_00000005.png  \n",
            "  inflating: train/CK+48/surprise/S046_002_00000006.png  \n",
            "  inflating: train/CK+48/surprise/S050_002_00000016.png  \n",
            "  inflating: train/CK+48/surprise/S050_002_00000017.png  \n",
            "  inflating: train/CK+48/surprise/S050_002_00000018.png  \n",
            "  inflating: train/CK+48/surprise/S051_002_00000017.png  \n",
            "  inflating: train/CK+48/surprise/S051_002_00000018.png  \n",
            "  inflating: train/CK+48/surprise/S051_002_00000019.png  \n",
            "  inflating: train/CK+48/surprise/S052_001_00000013.png  \n",
            "  inflating: train/CK+48/surprise/S052_001_00000014.png  \n",
            "  inflating: train/CK+48/surprise/S052_001_00000015.png  \n",
            "  inflating: train/CK+48/surprise/S053_001_00000021.png  \n",
            "  inflating: train/CK+48/surprise/S053_001_00000022.png  \n",
            "  inflating: train/CK+48/surprise/S053_001_00000023.png  \n",
            "  inflating: train/CK+48/surprise/S054_003_00000005.png  \n",
            "  inflating: train/CK+48/surprise/S054_003_00000006.png  \n",
            "  inflating: train/CK+48/surprise/S054_003_00000007.png  \n",
            "  inflating: train/CK+48/surprise/S055_001_00000010.png  \n",
            "  inflating: train/CK+48/surprise/S055_001_00000011.png  \n",
            "  inflating: train/CK+48/surprise/S055_001_00000012.png  \n",
            "  inflating: train/CK+48/surprise/S056_003_00000008.png  \n",
            "  inflating: train/CK+48/surprise/S056_003_00000009.png  \n",
            "  inflating: train/CK+48/surprise/S056_003_00000010.png  \n",
            "  inflating: train/CK+48/surprise/S057_001_00000017.png  \n",
            "  inflating: train/CK+48/surprise/S057_001_00000018.png  \n",
            "  inflating: train/CK+48/surprise/S057_001_00000019.png  \n",
            "  inflating: train/CK+48/surprise/S058_001_00000018.png  \n",
            "  inflating: train/CK+48/surprise/S058_001_00000019.png  \n",
            "  inflating: train/CK+48/surprise/S058_001_00000020.png  \n",
            "  inflating: train/CK+48/surprise/S059_001_00000016.png  \n",
            "  inflating: train/CK+48/surprise/S059_001_00000017.png  \n",
            "  inflating: train/CK+48/surprise/S059_001_00000018.png  \n",
            "  inflating: train/CK+48/surprise/S060_003_00000016.png  \n",
            "  inflating: train/CK+48/surprise/S060_003_00000017.png  \n",
            "  inflating: train/CK+48/surprise/S060_003_00000018.png  \n",
            "  inflating: train/CK+48/surprise/S061_001_00000010.png  \n",
            "  inflating: train/CK+48/surprise/S061_001_00000011.png  \n",
            "  inflating: train/CK+48/surprise/S061_001_00000012.png  \n",
            "  inflating: train/CK+48/surprise/S062_002_00000014.png  \n",
            "  inflating: train/CK+48/surprise/S062_002_00000015.png  \n",
            "  inflating: train/CK+48/surprise/S062_002_00000016.png  \n",
            "  inflating: train/CK+48/surprise/S063_001_00000011.png  \n",
            "  inflating: train/CK+48/surprise/S063_001_00000012.png  \n",
            "  inflating: train/CK+48/surprise/S063_001_00000013.png  \n",
            "  inflating: train/CK+48/surprise/S064_001_00000010.png  \n",
            "  inflating: train/CK+48/surprise/S064_001_00000011.png  \n",
            "  inflating: train/CK+48/surprise/S064_001_00000012.png  \n",
            "  inflating: train/CK+48/surprise/S065_003_00000020.png  \n",
            "  inflating: train/CK+48/surprise/S065_003_00000021.png  \n",
            "  inflating: train/CK+48/surprise/S065_003_00000022.png  \n",
            "  inflating: train/CK+48/surprise/S066_002_00000020.png  \n",
            "  inflating: train/CK+48/surprise/S066_002_00000021.png  \n",
            "  inflating: train/CK+48/surprise/S066_002_00000022.png  \n",
            "  inflating: train/CK+48/surprise/S067_002_00000012.png  \n",
            "  inflating: train/CK+48/surprise/S067_002_00000013.png  \n",
            "  inflating: train/CK+48/surprise/S067_002_00000014.png  \n",
            "  inflating: train/CK+48/surprise/S068_003_00000012.png  \n",
            "  inflating: train/CK+48/surprise/S068_003_00000013.png  \n",
            "  inflating: train/CK+48/surprise/S068_003_00000014.png  \n",
            "  inflating: train/CK+48/surprise/S069_002_00000012.png  \n",
            "  inflating: train/CK+48/surprise/S069_002_00000013.png  \n",
            "  inflating: train/CK+48/surprise/S069_002_00000014.png  \n",
            "  inflating: train/CK+48/surprise/S070_002_00000014.png  \n",
            "  inflating: train/CK+48/surprise/S070_002_00000015.png  \n",
            "  inflating: train/CK+48/surprise/S070_002_00000016.png  \n",
            "  inflating: train/CK+48/surprise/S071_001_00000011.png  \n",
            "  inflating: train/CK+48/surprise/S071_001_00000012.png  \n",
            "  inflating: train/CK+48/surprise/S071_001_00000013.png  \n",
            "  inflating: train/CK+48/surprise/S073_001_00000011.png  \n",
            "  inflating: train/CK+48/surprise/S073_001_00000012.png  \n",
            "  inflating: train/CK+48/surprise/S073_001_00000013.png  \n",
            "  inflating: train/CK+48/surprise/S074_002_00000014.png  \n",
            "  inflating: train/CK+48/surprise/S074_002_00000015.png  \n",
            "  inflating: train/CK+48/surprise/S074_002_00000016.png  \n",
            "  inflating: train/CK+48/surprise/S075_002_00000012.png  \n",
            "  inflating: train/CK+48/surprise/S075_002_00000013.png  \n",
            "  inflating: train/CK+48/surprise/S075_002_00000014.png  \n",
            "  inflating: train/CK+48/surprise/S076_001_00000015.png  \n",
            "  inflating: train/CK+48/surprise/S076_001_00000016.png  \n",
            "  inflating: train/CK+48/surprise/S076_001_00000017.png  \n",
            "  inflating: train/CK+48/surprise/S077_001_00000026.png  \n",
            "  inflating: train/CK+48/surprise/S077_001_00000027.png  \n",
            "  inflating: train/CK+48/surprise/S077_001_00000028.png  \n",
            "  inflating: train/CK+48/surprise/S078_001_00000031.png  \n",
            "  inflating: train/CK+48/surprise/S078_001_00000032.png  \n",
            "  inflating: train/CK+48/surprise/S078_001_00000033.png  \n",
            "  inflating: train/CK+48/surprise/S079_001_00000010.png  \n",
            "  inflating: train/CK+48/surprise/S079_001_00000011.png  \n",
            "  inflating: train/CK+48/surprise/S079_001_00000012.png  \n",
            "  inflating: train/CK+48/surprise/S080_001_00000016.png  \n",
            "  inflating: train/CK+48/surprise/S080_001_00000017.png  \n",
            "  inflating: train/CK+48/surprise/S080_001_00000018.png  \n",
            "  inflating: train/CK+48/surprise/S081_001_00000017.png  \n",
            "  inflating: train/CK+48/surprise/S081_001_00000018.png  \n",
            "  inflating: train/CK+48/surprise/S081_001_00000019.png  \n",
            "  inflating: train/CK+48/surprise/S082_001_00000013.png  \n",
            "  inflating: train/CK+48/surprise/S082_001_00000014.png  \n",
            "  inflating: train/CK+48/surprise/S082_001_00000015.png  \n",
            "  inflating: train/CK+48/surprise/S084_001_00000008.png  \n",
            "  inflating: train/CK+48/surprise/S084_001_00000009.png  \n",
            "  inflating: train/CK+48/surprise/S084_001_00000010.png  \n",
            "  inflating: train/CK+48/surprise/S085_003_00000011.png  \n",
            "  inflating: train/CK+48/surprise/S085_003_00000012.png  \n",
            "  inflating: train/CK+48/surprise/S085_003_00000013.png  \n",
            "  inflating: train/CK+48/surprise/S086_001_00000017.png  \n",
            "  inflating: train/CK+48/surprise/S086_001_00000018.png  \n",
            "  inflating: train/CK+48/surprise/S086_001_00000019.png  \n",
            "  inflating: train/CK+48/surprise/S087_001_00000009.png  \n",
            "  inflating: train/CK+48/surprise/S087_001_00000010.png  \n",
            "  inflating: train/CK+48/surprise/S087_001_00000011.png  \n",
            "  inflating: train/CK+48/surprise/S088_001_00000015.png  \n",
            "  inflating: train/CK+48/surprise/S088_001_00000016.png  \n",
            "  inflating: train/CK+48/surprise/S088_001_00000017.png  \n",
            "  inflating: train/CK+48/surprise/S089_001_00000014.png  \n",
            "  inflating: train/CK+48/surprise/S089_001_00000015.png  \n",
            "  inflating: train/CK+48/surprise/S089_001_00000016.png  \n",
            "  inflating: train/CK+48/surprise/S090_002_00000009.png  \n",
            "  inflating: train/CK+48/surprise/S090_002_00000010.png  \n",
            "  inflating: train/CK+48/surprise/S090_002_00000011.png  \n",
            "  inflating: train/CK+48/surprise/S092_001_00000015.png  \n",
            "  inflating: train/CK+48/surprise/S092_001_00000016.png  \n",
            "  inflating: train/CK+48/surprise/S092_001_00000017.png  \n",
            "  inflating: train/CK+48/surprise/S094_001_00000008.png  \n",
            "  inflating: train/CK+48/surprise/S094_001_00000009.png  \n",
            "  inflating: train/CK+48/surprise/S094_001_00000010.png  \n",
            "  inflating: train/CK+48/surprise/S095_001_00000014.png  \n",
            "  inflating: train/CK+48/surprise/S095_001_00000015.png  \n",
            "  inflating: train/CK+48/surprise/S095_001_00000016.png  \n",
            "  inflating: train/CK+48/surprise/S096_001_00000005.png  \n",
            "  inflating: train/CK+48/surprise/S096_001_00000006.png  \n",
            "  inflating: train/CK+48/surprise/S096_001_00000007.png  \n",
            "  inflating: train/CK+48/surprise/S097_001_00000019.png  \n",
            "  inflating: train/CK+48/surprise/S097_001_00000020.png  \n",
            "  inflating: train/CK+48/surprise/S097_001_00000021.png  \n",
            "  inflating: train/CK+48/surprise/S099_001_00000012.png  \n",
            "  inflating: train/CK+48/surprise/S099_001_00000013.png  \n",
            "  inflating: train/CK+48/surprise/S099_001_00000014.png  \n",
            "  inflating: train/CK+48/surprise/S100_002_00000013.png  \n",
            "  inflating: train/CK+48/surprise/S100_002_00000014.png  \n",
            "  inflating: train/CK+48/surprise/S100_002_00000015.png  \n",
            "  inflating: train/CK+48/surprise/S101_002_00000017.png  \n",
            "  inflating: train/CK+48/surprise/S101_002_00000018.png  \n",
            "  inflating: train/CK+48/surprise/S101_002_00000019.png  \n",
            "  inflating: train/CK+48/surprise/S102_002_00000016.png  \n",
            "  inflating: train/CK+48/surprise/S102_002_00000017.png  \n",
            "  inflating: train/CK+48/surprise/S102_002_00000018.png  \n",
            "  inflating: train/CK+48/surprise/S107_001_00000008.png  \n",
            "  inflating: train/CK+48/surprise/S107_001_00000009.png  \n",
            "  inflating: train/CK+48/surprise/S107_001_00000010.png  \n",
            "  inflating: train/CK+48/surprise/S110_001_00000011.png  \n",
            "  inflating: train/CK+48/surprise/S110_001_00000012.png  \n",
            "  inflating: train/CK+48/surprise/S110_001_00000013.png  \n",
            "  inflating: train/CK+48/surprise/S111_001_00000012.png  \n",
            "  inflating: train/CK+48/surprise/S111_001_00000013.png  \n",
            "  inflating: train/CK+48/surprise/S111_001_00000014.png  \n",
            "  inflating: train/CK+48/surprise/S113_001_00000010.png  \n",
            "  inflating: train/CK+48/surprise/S113_001_00000011.png  \n",
            "  inflating: train/CK+48/surprise/S113_001_00000012.png  \n",
            "  inflating: train/CK+48/surprise/S114_001_00000016.png  \n",
            "  inflating: train/CK+48/surprise/S114_001_00000017.png  \n",
            "  inflating: train/CK+48/surprise/S114_001_00000018.png  \n",
            "  inflating: train/CK+48/surprise/S115_001_00000006.png  \n",
            "  inflating: train/CK+48/surprise/S115_001_00000007.png  \n",
            "  inflating: train/CK+48/surprise/S115_001_00000008.png  \n",
            "  inflating: train/CK+48/surprise/S116_001_00000012.png  \n",
            "  inflating: train/CK+48/surprise/S116_001_00000013.png  \n",
            "  inflating: train/CK+48/surprise/S116_001_00000014.png  \n",
            "  inflating: train/CK+48/surprise/S117_001_00000012.png  \n",
            "  inflating: train/CK+48/surprise/S117_001_00000013.png  \n",
            "  inflating: train/CK+48/surprise/S117_001_00000014.png  \n",
            "  inflating: train/CK+48/surprise/S119_001_00000009.png  \n",
            "  inflating: train/CK+48/surprise/S119_001_00000010.png  \n",
            "  inflating: train/CK+48/surprise/S119_001_00000011.png  \n",
            "  inflating: train/CK+48/surprise/S122_001_00000010.png  \n",
            "  inflating: train/CK+48/surprise/S122_001_00000011.png  \n",
            "  inflating: train/CK+48/surprise/S122_001_00000012.png  \n",
            "  inflating: train/CK+48/surprise/S124_001_00000012.png  \n",
            "  inflating: train/CK+48/surprise/S124_001_00000013.png  \n",
            "  inflating: train/CK+48/surprise/S124_001_00000014.png  \n",
            "  inflating: train/CK+48/surprise/S125_007_00000007.png  \n",
            "  inflating: train/CK+48/surprise/S125_007_00000008.png  \n",
            "  inflating: train/CK+48/surprise/S125_007_00000009.png  \n",
            "  inflating: train/CK+48/surprise/S126_004_00000010.png  \n",
            "  inflating: train/CK+48/surprise/S126_004_00000011.png  \n",
            "  inflating: train/CK+48/surprise/S126_004_00000012.png  \n",
            "  inflating: train/CK+48/surprise/S127_001_00000015.png  \n",
            "  inflating: train/CK+48/surprise/S127_001_00000016.png  \n",
            "  inflating: train/CK+48/surprise/S127_001_00000017.png  \n",
            "  inflating: train/CK+48/surprise/S129_002_00000009.png  \n",
            "  inflating: train/CK+48/surprise/S129_002_00000010.png  \n",
            "  inflating: train/CK+48/surprise/S129_002_00000011.png  \n",
            "  inflating: train/CK+48/surprise/S130_001_00000016.png  \n",
            "  inflating: train/CK+48/surprise/S130_001_00000017.png  \n",
            "  inflating: train/CK+48/surprise/S130_001_00000018.png  \n",
            "  inflating: train/CK+48/surprise/S131_001_00000014.png  \n",
            "  inflating: train/CK+48/surprise/S131_001_00000015.png  \n",
            "  inflating: train/CK+48/surprise/S131_001_00000016.png  \n",
            "  inflating: train/CK+48/surprise/S132_008_00000008.png  \n",
            "  inflating: train/CK+48/surprise/S132_008_00000009.png  \n",
            "  inflating: train/CK+48/surprise/S132_008_00000010.png  \n",
            "  inflating: train/CK+48/surprise/S133_009_00000004.png  \n",
            "  inflating: train/CK+48/surprise/S133_009_00000005.png  \n",
            "  inflating: train/CK+48/surprise/S133_009_00000006.png  \n",
            "  inflating: train/CK+48/surprise/S135_001_00000037.png  \n",
            "  inflating: train/CK+48/surprise/S135_001_00000038.png  \n",
            "  inflating: train/CK+48/surprise/S135_001_00000039.png  \n",
            "  inflating: train/CK+48/surprise/S136_001_00000017.png  \n",
            "  inflating: train/CK+48/surprise/S136_001_00000018.png  \n",
            "  inflating: train/CK+48/surprise/S136_001_00000019.png  \n",
            "  inflating: train/CK+48/surprise/S137_001_00000012.png  \n",
            "  inflating: train/CK+48/surprise/S137_001_00000013.png  \n",
            "  inflating: train/CK+48/surprise/S137_001_00000014.png  \n",
            "  inflating: train/CK+48/surprise/S138_004_00000011.png  \n",
            "  inflating: train/CK+48/surprise/S138_004_00000012.png  \n",
            "  inflating: train/CK+48/surprise/S138_004_00000013.png  \n",
            "  inflating: train/ck/CK+48/anger/S010_004_00000017.png  \n",
            "  inflating: train/ck/CK+48/anger/S010_004_00000018.png  \n",
            "  inflating: train/ck/CK+48/anger/S010_004_00000019.png  \n",
            "  inflating: train/ck/CK+48/anger/S011_004_00000019.png  \n",
            "  inflating: train/ck/CK+48/anger/S011_004_00000020.png  \n",
            "  inflating: train/ck/CK+48/anger/S011_004_00000021.png  \n",
            "  inflating: train/ck/CK+48/anger/S014_003_00000028.png  \n",
            "  inflating: train/ck/CK+48/anger/S014_003_00000029.png  \n",
            "  inflating: train/ck/CK+48/anger/S014_003_00000030.png  \n",
            "  inflating: train/ck/CK+48/anger/S022_005_00000030.png  \n",
            "  inflating: train/ck/CK+48/anger/S022_005_00000031.png  \n",
            "  inflating: train/ck/CK+48/anger/S022_005_00000032.png  \n",
            "  inflating: train/ck/CK+48/anger/S026_003_00000013.png  \n",
            "  inflating: train/ck/CK+48/anger/S026_003_00000014.png  \n",
            "  inflating: train/ck/CK+48/anger/S026_003_00000015.png  \n",
            "  inflating: train/ck/CK+48/anger/S028_001_00000022.png  \n",
            "  inflating: train/ck/CK+48/anger/S028_001_00000023.png  \n",
            "  inflating: train/ck/CK+48/anger/S028_001_00000024.png  \n",
            "  inflating: train/ck/CK+48/anger/S029_001_00000017.png  \n",
            "  inflating: train/ck/CK+48/anger/S029_001_00000018.png  \n",
            "  inflating: train/ck/CK+48/anger/S029_001_00000019.png  \n",
            "  inflating: train/ck/CK+48/anger/S032_003_00000015.png  \n",
            "  inflating: train/ck/CK+48/anger/S032_003_00000016.png  \n",
            "  inflating: train/ck/CK+48/anger/S032_003_00000017.png  \n",
            "  inflating: train/ck/CK+48/anger/S034_003_00000025.png  \n",
            "  inflating: train/ck/CK+48/anger/S034_003_00000026.png  \n",
            "  inflating: train/ck/CK+48/anger/S034_003_00000027.png  \n",
            "  inflating: train/ck/CK+48/anger/S037_003_00000020.png  \n",
            "  inflating: train/ck/CK+48/anger/S037_003_00000021.png  \n",
            "  inflating: train/ck/CK+48/anger/S037_003_00000022.png  \n",
            "  inflating: train/ck/CK+48/anger/S042_004_00000018.png  \n",
            "  inflating: train/ck/CK+48/anger/S042_004_00000019.png  \n",
            "  inflating: train/ck/CK+48/anger/S042_004_00000020.png  \n",
            "  inflating: train/ck/CK+48/anger/S045_005_00000028.png  \n",
            "  inflating: train/ck/CK+48/anger/S045_005_00000029.png  \n",
            "  inflating: train/ck/CK+48/anger/S045_005_00000030.png  \n",
            "  inflating: train/ck/CK+48/anger/S050_004_00000019.png  \n",
            "  inflating: train/ck/CK+48/anger/S050_004_00000020.png  \n",
            "  inflating: train/ck/CK+48/anger/S050_004_00000021.png  \n",
            "  inflating: train/ck/CK+48/anger/S055_004_00000026.png  \n",
            "  inflating: train/ck/CK+48/anger/S055_004_00000027.png  \n",
            "  inflating: train/ck/CK+48/anger/S055_004_00000028.png  \n",
            "  inflating: train/ck/CK+48/anger/S058_005_00000008.png  \n",
            "  inflating: train/ck/CK+48/anger/S058_005_00000009.png  \n",
            "  inflating: train/ck/CK+48/anger/S058_005_00000010.png  \n",
            "  inflating: train/ck/CK+48/anger/S066_005_00000009.png  \n",
            "  inflating: train/ck/CK+48/anger/S066_005_00000010.png  \n",
            "  inflating: train/ck/CK+48/anger/S066_005_00000011.png  \n",
            "  inflating: train/ck/CK+48/anger/S067_004_00000021.png  \n",
            "  inflating: train/ck/CK+48/anger/S067_004_00000022.png  \n",
            "  inflating: train/ck/CK+48/anger/S067_004_00000023.png  \n",
            "  inflating: train/ck/CK+48/anger/S071_004_00000026.png  \n",
            "  inflating: train/ck/CK+48/anger/S071_004_00000027.png  \n",
            "  inflating: train/ck/CK+48/anger/S071_004_00000028.png  \n",
            "  inflating: train/ck/CK+48/anger/S072_005_00000017.png  \n",
            "  inflating: train/ck/CK+48/anger/S072_005_00000018.png  \n",
            "  inflating: train/ck/CK+48/anger/S072_005_00000019.png  \n",
            "  inflating: train/ck/CK+48/anger/S075_008_00000010.png  \n",
            "  inflating: train/ck/CK+48/anger/S075_008_00000011.png  \n",
            "  inflating: train/ck/CK+48/anger/S075_008_00000012.png  \n",
            "  inflating: train/ck/CK+48/anger/S082_005_00000015.png  \n",
            "  inflating: train/ck/CK+48/anger/S082_005_00000016.png  \n",
            "  inflating: train/ck/CK+48/anger/S082_005_00000017.png  \n",
            "  inflating: train/ck/CK+48/anger/S087_007_00000014.png  \n",
            "  inflating: train/ck/CK+48/anger/S087_007_00000015.png  \n",
            "  inflating: train/ck/CK+48/anger/S087_007_00000016.png  \n",
            "  inflating: train/ck/CK+48/anger/S089_003_00000034.png  \n",
            "  inflating: train/ck/CK+48/anger/S089_003_00000035.png  \n",
            "  inflating: train/ck/CK+48/anger/S089_003_00000036.png  \n",
            "  inflating: train/ck/CK+48/anger/S090_007_00000012.png  \n",
            "  inflating: train/ck/CK+48/anger/S090_007_00000013.png  \n",
            "  inflating: train/ck/CK+48/anger/S090_007_00000014.png  \n",
            "  inflating: train/ck/CK+48/anger/S092_003_00000012.png  \n",
            "  inflating: train/ck/CK+48/anger/S092_003_00000013.png  \n",
            "  inflating: train/ck/CK+48/anger/S092_003_00000014.png  \n",
            "  inflating: train/ck/CK+48/anger/S100_005_00000021.png  \n",
            "  inflating: train/ck/CK+48/anger/S100_005_00000022.png  \n",
            "  inflating: train/ck/CK+48/anger/S100_005_00000023.png  \n",
            "  inflating: train/ck/CK+48/anger/S109_003_00000015.png  \n",
            "  inflating: train/ck/CK+48/anger/S109_003_00000016.png  \n",
            "  inflating: train/ck/CK+48/anger/S109_003_00000017.png  \n",
            "  inflating: train/ck/CK+48/anger/S111_006_00000008.png  \n",
            "  inflating: train/ck/CK+48/anger/S111_006_00000009.png  \n",
            "  inflating: train/ck/CK+48/anger/S111_006_00000010.png  \n",
            "  inflating: train/ck/CK+48/anger/S112_005_00000015.png  \n",
            "  inflating: train/ck/CK+48/anger/S112_005_00000016.png  \n",
            "  inflating: train/ck/CK+48/anger/S112_005_00000017.png  \n",
            "  inflating: train/ck/CK+48/anger/S113_008_00000021.png  \n",
            "  inflating: train/ck/CK+48/anger/S113_008_00000022.png  \n",
            "  inflating: train/ck/CK+48/anger/S113_008_00000023.png  \n",
            "  inflating: train/ck/CK+48/anger/S117_006_00000008.png  \n",
            "  inflating: train/ck/CK+48/anger/S117_006_00000009.png  \n",
            "  inflating: train/ck/CK+48/anger/S117_006_00000010.png  \n",
            "  inflating: train/ck/CK+48/anger/S119_008_00000016.png  \n",
            "  inflating: train/ck/CK+48/anger/S119_008_00000017.png  \n",
            "  inflating: train/ck/CK+48/anger/S119_008_00000018.png  \n",
            "  inflating: train/ck/CK+48/anger/S126_008_00000027.png  \n",
            "  inflating: train/ck/CK+48/anger/S126_008_00000028.png  \n",
            "  inflating: train/ck/CK+48/anger/S126_008_00000029.png  \n",
            "  inflating: train/ck/CK+48/anger/S127_010_00000016.png  \n",
            "  inflating: train/ck/CK+48/anger/S127_010_00000017.png  \n",
            "  inflating: train/ck/CK+48/anger/S127_010_00000018.png  \n",
            "  inflating: train/ck/CK+48/anger/S129_006_00000008.png  \n",
            "  inflating: train/ck/CK+48/anger/S129_006_00000009.png  \n",
            "  inflating: train/ck/CK+48/anger/S129_006_00000010.png  \n",
            "  inflating: train/ck/CK+48/anger/S130_007_00000018.png  \n",
            "  inflating: train/ck/CK+48/anger/S130_007_00000019.png  \n",
            "  inflating: train/ck/CK+48/anger/S130_007_00000020.png  \n",
            "  inflating: train/ck/CK+48/anger/S133_003_00000045.png  \n",
            "  inflating: train/ck/CK+48/anger/S133_003_00000046.png  \n",
            "  inflating: train/ck/CK+48/anger/S133_003_00000047.png  \n",
            "  inflating: train/ck/CK+48/anger/S134_003_00000009.png  \n",
            "  inflating: train/ck/CK+48/anger/S134_003_00000010.png  \n",
            "  inflating: train/ck/CK+48/anger/S134_003_00000011.png  \n",
            "  inflating: train/ck/CK+48/anger/S136_005_00000008.png  \n",
            "  inflating: train/ck/CK+48/anger/S136_005_00000009.png  \n",
            "  inflating: train/ck/CK+48/anger/S136_005_00000010.png  \n",
            "  inflating: train/ck/CK+48/anger/S501_001_00000065.png  \n",
            "  inflating: train/ck/CK+48/anger/S501_001_00000066.png  \n",
            "  inflating: train/ck/CK+48/anger/S501_001_00000067.png  \n",
            "  inflating: train/ck/CK+48/anger/S502_001_00000014.png  \n",
            "  inflating: train/ck/CK+48/anger/S502_001_00000015.png  \n",
            "  inflating: train/ck/CK+48/anger/S502_001_00000016.png  \n",
            "  inflating: train/ck/CK+48/anger/S503_001_00000069.png  \n",
            "  inflating: train/ck/CK+48/anger/S503_001_00000070.png  \n",
            "  inflating: train/ck/CK+48/anger/S503_001_00000071.png  \n",
            "  inflating: train/ck/CK+48/anger/S504_001_00000020.png  \n",
            "  inflating: train/ck/CK+48/anger/S504_001_00000021.png  \n",
            "  inflating: train/ck/CK+48/anger/S504_001_00000022.png  \n",
            "  inflating: train/ck/CK+48/anger/S506_001_00000038.png  \n",
            "  inflating: train/ck/CK+48/anger/S506_001_00000039.png  \n",
            "  inflating: train/ck/CK+48/anger/S506_001_00000040.png  \n",
            "  inflating: train/ck/CK+48/anger/S999_001_00000016.png  \n",
            "  inflating: train/ck/CK+48/anger/S999_001_00000017.png  \n",
            "  inflating: train/ck/CK+48/anger/S999_001_00000018.png  \n",
            "  inflating: train/ck/CK+48/contempt/S138_008_00000007.png  \n",
            "  inflating: train/ck/CK+48/contempt/S138_008_00000008.png  \n",
            "  inflating: train/ck/CK+48/contempt/S138_008_00000009.png  \n",
            "  inflating: train/ck/CK+48/contempt/S139_002_00000011.png  \n",
            "  inflating: train/ck/CK+48/contempt/S139_002_00000012.png  \n",
            "  inflating: train/ck/CK+48/contempt/S139_002_00000013.png  \n",
            "  inflating: train/ck/CK+48/contempt/S147_002_00000011.png  \n",
            "  inflating: train/ck/CK+48/contempt/S147_002_00000012.png  \n",
            "  inflating: train/ck/CK+48/contempt/S147_002_00000013.png  \n",
            "  inflating: train/ck/CK+48/contempt/S148_002_00000013.png  \n",
            "  inflating: train/ck/CK+48/contempt/S148_002_00000014.png  \n",
            "  inflating: train/ck/CK+48/contempt/S148_002_00000015.png  \n",
            "  inflating: train/ck/CK+48/contempt/S149_002_00000011.png  \n",
            "  inflating: train/ck/CK+48/contempt/S149_002_00000012.png  \n",
            "  inflating: train/ck/CK+48/contempt/S149_002_00000013.png  \n",
            "  inflating: train/ck/CK+48/contempt/S151_002_00000027.png  \n",
            "  inflating: train/ck/CK+48/contempt/S151_002_00000028.png  \n",
            "  inflating: train/ck/CK+48/contempt/S151_002_00000029.png  \n",
            "  inflating: train/ck/CK+48/contempt/S154_002_00000011.png  \n",
            "  inflating: train/ck/CK+48/contempt/S154_002_00000012.png  \n",
            "  inflating: train/ck/CK+48/contempt/S154_002_00000013.png  \n",
            "  inflating: train/ck/CK+48/contempt/S155_002_00000010.png  \n",
            "  inflating: train/ck/CK+48/contempt/S155_002_00000011.png  \n",
            "  inflating: train/ck/CK+48/contempt/S155_002_00000012.png  \n",
            "  inflating: train/ck/CK+48/contempt/S156_002_00000019.png  \n",
            "  inflating: train/ck/CK+48/contempt/S156_002_00000020.png  \n",
            "  inflating: train/ck/CK+48/contempt/S156_002_00000021.png  \n",
            "  inflating: train/ck/CK+48/contempt/S157_002_00000009.png  \n",
            "  inflating: train/ck/CK+48/contempt/S157_002_00000010.png  \n",
            "  inflating: train/ck/CK+48/contempt/S157_002_00000011.png  \n",
            "  inflating: train/ck/CK+48/contempt/S158_002_00000009.png  \n",
            "  inflating: train/ck/CK+48/contempt/S158_002_00000010.png  \n",
            "  inflating: train/ck/CK+48/contempt/S158_002_00000011.png  \n",
            "  inflating: train/ck/CK+48/contempt/S160_006_00000008.png  \n",
            "  inflating: train/ck/CK+48/contempt/S160_006_00000009.png  \n",
            "  inflating: train/ck/CK+48/contempt/S160_006_00000010.png  \n",
            "  inflating: train/ck/CK+48/contempt/S502_002_00000007.png  \n",
            "  inflating: train/ck/CK+48/contempt/S502_002_00000008.png  \n",
            "  inflating: train/ck/CK+48/contempt/S502_002_00000009.png  \n",
            "  inflating: train/ck/CK+48/contempt/S503_002_00000006.png  \n",
            "  inflating: train/ck/CK+48/contempt/S503_002_00000007.png  \n",
            "  inflating: train/ck/CK+48/contempt/S503_002_00000008.png  \n",
            "  inflating: train/ck/CK+48/contempt/S504_002_00000007.png  \n",
            "  inflating: train/ck/CK+48/contempt/S504_002_00000008.png  \n",
            "  inflating: train/ck/CK+48/contempt/S504_002_00000009.png  \n",
            "  inflating: train/ck/CK+48/contempt/S505_002_00000019.png  \n",
            "  inflating: train/ck/CK+48/contempt/S505_002_00000020.png  \n",
            "  inflating: train/ck/CK+48/contempt/S505_002_00000021.png  \n",
            "  inflating: train/ck/CK+48/contempt/S506_002_00000007.png  \n",
            "  inflating: train/ck/CK+48/contempt/S506_002_00000008.png  \n",
            "  inflating: train/ck/CK+48/contempt/S506_002_00000009.png  \n",
            "  inflating: train/ck/CK+48/contempt/S895_002_00000005.png  \n",
            "  inflating: train/ck/CK+48/contempt/S895_002_00000006.png  \n",
            "  inflating: train/ck/CK+48/contempt/S895_002_00000007.png  \n",
            "  inflating: train/ck/CK+48/disgust/S005_001_00000009.png  \n",
            "  inflating: train/ck/CK+48/disgust/S005_001_00000010.png  \n",
            "  inflating: train/ck/CK+48/disgust/S005_001_00000011.png  \n",
            "  inflating: train/ck/CK+48/disgust/S011_005_00000018.png  \n",
            "  inflating: train/ck/CK+48/disgust/S011_005_00000019.png  \n",
            "  inflating: train/ck/CK+48/disgust/S011_005_00000020.png  \n",
            "  inflating: train/ck/CK+48/disgust/S022_006_00000015.png  \n",
            "  inflating: train/ck/CK+48/disgust/S022_006_00000016.png  \n",
            "  inflating: train/ck/CK+48/disgust/S022_006_00000017.png  \n",
            "  inflating: train/ck/CK+48/disgust/S032_005_00000014.png  \n",
            "  inflating: train/ck/CK+48/disgust/S032_005_00000015.png  \n",
            "  inflating: train/ck/CK+48/disgust/S032_005_00000016.png  \n",
            "  inflating: train/ck/CK+48/disgust/S035_005_00000017.png  \n",
            "  inflating: train/ck/CK+48/disgust/S035_005_00000018.png  \n",
            "  inflating: train/ck/CK+48/disgust/S035_005_00000019.png  \n",
            "  inflating: train/ck/CK+48/disgust/S044_006_00000017.png  \n",
            "  inflating: train/ck/CK+48/disgust/S044_006_00000018.png  \n",
            "  inflating: train/ck/CK+48/disgust/S044_006_00000019.png  \n",
            "  inflating: train/ck/CK+48/disgust/S045_004_00000013.png  \n",
            "  inflating: train/ck/CK+48/disgust/S045_004_00000014.png  \n",
            "  inflating: train/ck/CK+48/disgust/S045_004_00000015.png  \n",
            "  inflating: train/ck/CK+48/disgust/S046_004_00000015.png  \n",
            "  inflating: train/ck/CK+48/disgust/S046_004_00000016.png  \n",
            "  inflating: train/ck/CK+48/disgust/S046_004_00000017.png  \n",
            "  inflating: train/ck/CK+48/disgust/S051_003_00000016.png  \n",
            "  inflating: train/ck/CK+48/disgust/S051_003_00000017.png  \n",
            "  inflating: train/ck/CK+48/disgust/S051_003_00000018.png  \n",
            "  inflating: train/ck/CK+48/disgust/S052_006_00000011.png  \n",
            "  inflating: train/ck/CK+48/disgust/S052_006_00000012.png  \n",
            "  inflating: train/ck/CK+48/disgust/S052_006_00000013.png  \n",
            "  inflating: train/ck/CK+48/disgust/S054_004_00000022.png  \n",
            "  inflating: train/ck/CK+48/disgust/S054_004_00000023.png  \n",
            "  inflating: train/ck/CK+48/disgust/S054_004_00000024.png  \n",
            "  inflating: train/ck/CK+48/disgust/S055_003_00000007.png  \n",
            "  inflating: train/ck/CK+48/disgust/S055_003_00000008.png  \n",
            "  inflating: train/ck/CK+48/disgust/S055_003_00000009.png  \n",
            "  inflating: train/ck/CK+48/disgust/S056_002_00000008.png  \n",
            "  inflating: train/ck/CK+48/disgust/S056_002_00000009.png  \n",
            "  inflating: train/ck/CK+48/disgust/S056_002_00000010.png  \n",
            "  inflating: train/ck/CK+48/disgust/S057_003_00000013.png  \n",
            "  inflating: train/ck/CK+48/disgust/S057_003_00000014.png  \n",
            "  inflating: train/ck/CK+48/disgust/S057_003_00000015.png  \n",
            "  inflating: train/ck/CK+48/disgust/S058_006_00000016.png  \n",
            "  inflating: train/ck/CK+48/disgust/S058_006_00000017.png  \n",
            "  inflating: train/ck/CK+48/disgust/S058_006_00000018.png  \n",
            "  inflating: train/ck/CK+48/disgust/S060_005_00000019.png  \n",
            "  inflating: train/ck/CK+48/disgust/S060_005_00000020.png  \n",
            "  inflating: train/ck/CK+48/disgust/S060_005_00000021.png  \n",
            "  inflating: train/ck/CK+48/disgust/S061_004_00000020.png  \n",
            "  inflating: train/ck/CK+48/disgust/S061_004_00000021.png  \n",
            "  inflating: train/ck/CK+48/disgust/S061_004_00000022.png  \n",
            "  inflating: train/ck/CK+48/disgust/S062_005_00000027.png  \n",
            "  inflating: train/ck/CK+48/disgust/S062_005_00000028.png  \n",
            "  inflating: train/ck/CK+48/disgust/S062_005_00000029.png  \n",
            "  inflating: train/ck/CK+48/disgust/S065_005_00000006.png  \n",
            "  inflating: train/ck/CK+48/disgust/S065_005_00000007.png  \n",
            "  inflating: train/ck/CK+48/disgust/S065_005_00000008.png  \n",
            "  inflating: train/ck/CK+48/disgust/S067_006_00000009.png  \n",
            "  inflating: train/ck/CK+48/disgust/S067_006_00000010.png  \n",
            "  inflating: train/ck/CK+48/disgust/S067_006_00000011.png  \n",
            "  inflating: train/ck/CK+48/disgust/S068_005_00000019.png  \n",
            "  inflating: train/ck/CK+48/disgust/S068_005_00000020.png  \n",
            "  inflating: train/ck/CK+48/disgust/S068_005_00000021.png  \n",
            "  inflating: train/ck/CK+48/disgust/S069_003_00000009.png  \n",
            "  inflating: train/ck/CK+48/disgust/S069_003_00000010.png  \n",
            "  inflating: train/ck/CK+48/disgust/S069_003_00000011.png  \n",
            "  inflating: train/ck/CK+48/disgust/S070_005_00000014.png  \n",
            "  inflating: train/ck/CK+48/disgust/S070_005_00000015.png  \n",
            "  inflating: train/ck/CK+48/disgust/S070_005_00000016.png  \n",
            "  inflating: train/ck/CK+48/disgust/S071_006_00000012.png  \n",
            "  inflating: train/ck/CK+48/disgust/S071_006_00000013.png  \n",
            "  inflating: train/ck/CK+48/disgust/S071_006_00000014.png  \n",
            "  inflating: train/ck/CK+48/disgust/S073_006_00000012.png  \n",
            "  inflating: train/ck/CK+48/disgust/S073_006_00000013.png  \n",
            "  inflating: train/ck/CK+48/disgust/S073_006_00000014.png  \n",
            "  inflating: train/ck/CK+48/disgust/S074_004_00000016.png  \n",
            "  inflating: train/ck/CK+48/disgust/S074_004_00000017.png  \n",
            "  inflating: train/ck/CK+48/disgust/S074_004_00000018.png  \n",
            "  inflating: train/ck/CK+48/disgust/S075_005_00000010.png  \n",
            "  inflating: train/ck/CK+48/disgust/S075_005_00000011.png  \n",
            "  inflating: train/ck/CK+48/disgust/S075_005_00000012.png  \n",
            "  inflating: train/ck/CK+48/disgust/S076_005_00000010.png  \n",
            "  inflating: train/ck/CK+48/disgust/S076_005_00000011.png  \n",
            "  inflating: train/ck/CK+48/disgust/S076_005_00000012.png  \n",
            "  inflating: train/ck/CK+48/disgust/S077_006_00000012.png  \n",
            "  inflating: train/ck/CK+48/disgust/S077_006_00000013.png  \n",
            "  inflating: train/ck/CK+48/disgust/S077_006_00000014.png  \n",
            "  inflating: train/ck/CK+48/disgust/S078_007_00000011.png  \n",
            "  inflating: train/ck/CK+48/disgust/S078_007_00000012.png  \n",
            "  inflating: train/ck/CK+48/disgust/S078_007_00000013.png  \n",
            "  inflating: train/ck/CK+48/disgust/S079_002_00000010.png  \n",
            "  inflating: train/ck/CK+48/disgust/S079_002_00000011.png  \n",
            "  inflating: train/ck/CK+48/disgust/S079_002_00000012.png  \n",
            "  inflating: train/ck/CK+48/disgust/S080_008_00000007.png  \n",
            "  inflating: train/ck/CK+48/disgust/S080_008_00000008.png  \n",
            "  inflating: train/ck/CK+48/disgust/S080_008_00000009.png  \n",
            "  inflating: train/ck/CK+48/disgust/S081_008_00000009.png  \n",
            "  inflating: train/ck/CK+48/disgust/S081_008_00000010.png  \n",
            "  inflating: train/ck/CK+48/disgust/S081_008_00000011.png  \n",
            "  inflating: train/ck/CK+48/disgust/S082_007_00000008.png  \n",
            "  inflating: train/ck/CK+48/disgust/S082_007_00000009.png  \n",
            "  inflating: train/ck/CK+48/disgust/S082_007_00000010.png  \n",
            "  inflating: train/ck/CK+48/disgust/S085_004_00000015.png  \n",
            "  inflating: train/ck/CK+48/disgust/S085_004_00000016.png  \n",
            "  inflating: train/ck/CK+48/disgust/S085_004_00000017.png  \n",
            "  inflating: train/ck/CK+48/disgust/S087_004_00000010.png  \n",
            "  inflating: train/ck/CK+48/disgust/S087_004_00000011.png  \n",
            "  inflating: train/ck/CK+48/disgust/S087_004_00000012.png  \n",
            "  inflating: train/ck/CK+48/disgust/S088_004_00000018.png  \n",
            "  inflating: train/ck/CK+48/disgust/S088_004_00000019.png  \n",
            "  inflating: train/ck/CK+48/disgust/S088_004_00000020.png  \n",
            "  inflating: train/ck/CK+48/disgust/S090_006_00000009.png  \n",
            "  inflating: train/ck/CK+48/disgust/S090_006_00000010.png  \n",
            "  inflating: train/ck/CK+48/disgust/S090_006_00000011.png  \n",
            "  inflating: train/ck/CK+48/disgust/S095_006_00000011.png  \n",
            "  inflating: train/ck/CK+48/disgust/S095_006_00000012.png  \n",
            "  inflating: train/ck/CK+48/disgust/S095_006_00000013.png  \n",
            "  inflating: train/ck/CK+48/disgust/S096_003_00000010.png  \n",
            "  inflating: train/ck/CK+48/disgust/S096_003_00000011.png  \n",
            "  inflating: train/ck/CK+48/disgust/S096_003_00000012.png  \n",
            "  inflating: train/ck/CK+48/disgust/S097_004_00000028.png  \n",
            "  inflating: train/ck/CK+48/disgust/S097_004_00000029.png  \n",
            "  inflating: train/ck/CK+48/disgust/S097_004_00000030.png  \n",
            "  inflating: train/ck/CK+48/disgust/S098_003_00000011.png  \n",
            "  inflating: train/ck/CK+48/disgust/S098_003_00000012.png  \n",
            "  inflating: train/ck/CK+48/disgust/S098_003_00000013.png  \n",
            "  inflating: train/ck/CK+48/disgust/S099_007_00000010.png  \n",
            "  inflating: train/ck/CK+48/disgust/S099_007_00000011.png  \n",
            "  inflating: train/ck/CK+48/disgust/S099_007_00000012.png  \n",
            "  inflating: train/ck/CK+48/disgust/S102_009_00000013.png  \n",
            "  inflating: train/ck/CK+48/disgust/S102_009_00000014.png  \n",
            "  inflating: train/ck/CK+48/disgust/S102_009_00000015.png  \n",
            "  inflating: train/ck/CK+48/disgust/S105_008_00000008.png  \n",
            "  inflating: train/ck/CK+48/disgust/S105_008_00000009.png  \n",
            "  inflating: train/ck/CK+48/disgust/S105_008_00000010.png  \n",
            "  inflating: train/ck/CK+48/disgust/S106_004_00000006.png  \n",
            "  inflating: train/ck/CK+48/disgust/S106_004_00000007.png  \n",
            "  inflating: train/ck/CK+48/disgust/S106_004_00000008.png  \n",
            "  inflating: train/ck/CK+48/disgust/S107_005_00000009.png  \n",
            "  inflating: train/ck/CK+48/disgust/S107_005_00000010.png  \n",
            "  inflating: train/ck/CK+48/disgust/S107_005_00000011.png  \n",
            "  inflating: train/ck/CK+48/disgust/S108_006_00000018.png  \n",
            "  inflating: train/ck/CK+48/disgust/S108_006_00000019.png  \n",
            "  inflating: train/ck/CK+48/disgust/S108_006_00000020.png  \n",
            "  inflating: train/ck/CK+48/disgust/S109_005_00000012.png  \n",
            "  inflating: train/ck/CK+48/disgust/S109_005_00000013.png  \n",
            "  inflating: train/ck/CK+48/disgust/S109_005_00000014.png  \n",
            "  inflating: train/ck/CK+48/disgust/S111_007_00000012.png  \n",
            "  inflating: train/ck/CK+48/disgust/S111_007_00000013.png  \n",
            "  inflating: train/ck/CK+48/disgust/S111_007_00000014.png  \n",
            "  inflating: train/ck/CK+48/disgust/S116_006_00000005.png  \n",
            "  inflating: train/ck/CK+48/disgust/S116_006_00000006.png  \n",
            "  inflating: train/ck/CK+48/disgust/S116_006_00000007.png  \n",
            "  inflating: train/ck/CK+48/disgust/S124_006_00000009.png  \n",
            "  inflating: train/ck/CK+48/disgust/S124_006_00000010.png  \n",
            "  inflating: train/ck/CK+48/disgust/S124_006_00000011.png  \n",
            "  inflating: train/ck/CK+48/disgust/S125_008_00000008.png  \n",
            "  inflating: train/ck/CK+48/disgust/S125_008_00000009.png  \n",
            "  inflating: train/ck/CK+48/disgust/S125_008_00000010.png  \n",
            "  inflating: train/ck/CK+48/disgust/S128_004_00000011.png  \n",
            "  inflating: train/ck/CK+48/disgust/S128_004_00000012.png  \n",
            "  inflating: train/ck/CK+48/disgust/S128_004_00000013.png  \n",
            "  inflating: train/ck/CK+48/disgust/S129_011_00000016.png  \n",
            "  inflating: train/ck/CK+48/disgust/S129_011_00000017.png  \n",
            "  inflating: train/ck/CK+48/disgust/S129_011_00000018.png  \n",
            "  inflating: train/ck/CK+48/disgust/S130_012_00000009.png  \n",
            "  inflating: train/ck/CK+48/disgust/S130_012_00000010.png  \n",
            "  inflating: train/ck/CK+48/disgust/S130_012_00000011.png  \n",
            "  inflating: train/ck/CK+48/disgust/S131_010_00000016.png  \n",
            "  inflating: train/ck/CK+48/disgust/S131_010_00000017.png  \n",
            "  inflating: train/ck/CK+48/disgust/S131_010_00000018.png  \n",
            "  inflating: train/ck/CK+48/disgust/S132_005_00000014.png  \n",
            "  inflating: train/ck/CK+48/disgust/S132_005_00000015.png  \n",
            "  inflating: train/ck/CK+48/disgust/S132_005_00000016.png  \n",
            "  inflating: train/ck/CK+48/disgust/S134_008_00000011.png  \n",
            "  inflating: train/ck/CK+48/disgust/S134_008_00000012.png  \n",
            "  inflating: train/ck/CK+48/disgust/S134_008_00000013.png  \n",
            "  inflating: train/ck/CK+48/fear/S011_003_00000012.png  \n",
            "  inflating: train/ck/CK+48/fear/S011_003_00000013.png  \n",
            "  inflating: train/ck/CK+48/fear/S011_003_00000014.png  \n",
            "  inflating: train/ck/CK+48/fear/S032_004_00000012.png  \n",
            "  inflating: train/ck/CK+48/fear/S032_004_00000013.png  \n",
            "  inflating: train/ck/CK+48/fear/S032_004_00000014.png  \n",
            "  inflating: train/ck/CK+48/fear/S046_003_00000014.png  \n",
            "  inflating: train/ck/CK+48/fear/S046_003_00000015.png  \n",
            "  inflating: train/ck/CK+48/fear/S046_003_00000016.png  \n",
            "  inflating: train/ck/CK+48/fear/S050_001_00000015.png  \n",
            "  inflating: train/ck/CK+48/fear/S050_001_00000016.png  \n",
            "  inflating: train/ck/CK+48/fear/S050_001_00000017.png  \n",
            "  inflating: train/ck/CK+48/fear/S054_002_00000013.png  \n",
            "  inflating: train/ck/CK+48/fear/S054_002_00000014.png  \n",
            "  inflating: train/ck/CK+48/fear/S054_002_00000015.png  \n",
            "  inflating: train/ck/CK+48/fear/S055_006_00000006.png  \n",
            "  inflating: train/ck/CK+48/fear/S055_006_00000007.png  \n",
            "  inflating: train/ck/CK+48/fear/S055_006_00000008.png  \n",
            "  inflating: train/ck/CK+48/fear/S059_002_00000015.png  \n",
            "  inflating: train/ck/CK+48/fear/S059_002_00000016.png  \n",
            "  inflating: train/ck/CK+48/fear/S059_002_00000017.png  \n",
            "  inflating: train/ck/CK+48/fear/S062_001_00000015.png  \n",
            "  inflating: train/ck/CK+48/fear/S062_001_00000016.png  \n",
            "  inflating: train/ck/CK+48/fear/S062_001_00000017.png  \n",
            "  inflating: train/ck/CK+48/fear/S065_002_00000020.png  \n",
            "  inflating: train/ck/CK+48/fear/S065_002_00000021.png  \n",
            "  inflating: train/ck/CK+48/fear/S065_002_00000022.png  \n",
            "  inflating: train/ck/CK+48/fear/S068_004_00000008.png  \n",
            "  inflating: train/ck/CK+48/fear/S068_004_00000009.png  \n",
            "  inflating: train/ck/CK+48/fear/S068_004_00000010.png  \n",
            "  inflating: train/ck/CK+48/fear/S074_001_00000018.png  \n",
            "  inflating: train/ck/CK+48/fear/S074_001_00000019.png  \n",
            "  inflating: train/ck/CK+48/fear/S074_001_00000020.png  \n",
            "  inflating: train/ck/CK+48/fear/S084_002_00000021.png  \n",
            "  inflating: train/ck/CK+48/fear/S084_002_00000022.png  \n",
            "  inflating: train/ck/CK+48/fear/S084_002_00000023.png  \n",
            "  inflating: train/ck/CK+48/fear/S091_001_00000013.png  \n",
            "  inflating: train/ck/CK+48/fear/S091_001_00000014.png  \n",
            "  inflating: train/ck/CK+48/fear/S091_001_00000015.png  \n",
            "  inflating: train/ck/CK+48/fear/S102_003_00000014.png  \n",
            "  inflating: train/ck/CK+48/fear/S102_003_00000015.png  \n",
            "  inflating: train/ck/CK+48/fear/S102_003_00000016.png  \n",
            "  inflating: train/ck/CK+48/fear/S117_003_00000012.png  \n",
            "  inflating: train/ck/CK+48/fear/S117_003_00000013.png  \n",
            "  inflating: train/ck/CK+48/fear/S117_003_00000014.png  \n",
            "  inflating: train/ck/CK+48/fear/S119_003_00000022.png  \n",
            "  inflating: train/ck/CK+48/fear/S119_003_00000023.png  \n",
            "  inflating: train/ck/CK+48/fear/S119_003_00000024.png  \n",
            "  inflating: train/ck/CK+48/fear/S124_003_00000009.png  \n",
            "  inflating: train/ck/CK+48/fear/S124_003_00000010.png  \n",
            "  inflating: train/ck/CK+48/fear/S124_003_00000011.png  \n",
            "  inflating: train/ck/CK+48/fear/S125_006_00000020.png  \n",
            "  inflating: train/ck/CK+48/fear/S125_006_00000021.png  \n",
            "  inflating: train/ck/CK+48/fear/S125_006_00000022.png  \n",
            "  inflating: train/ck/CK+48/fear/S132_003_00000021.png  \n",
            "  inflating: train/ck/CK+48/fear/S132_003_00000022.png  \n",
            "  inflating: train/ck/CK+48/fear/S132_003_00000023.png  \n",
            "  inflating: train/ck/CK+48/fear/S138_001_00000010.png  \n",
            "  inflating: train/ck/CK+48/fear/S138_001_00000011.png  \n",
            "  inflating: train/ck/CK+48/fear/S138_001_00000012.png  \n",
            "  inflating: train/ck/CK+48/fear/S501_004_00000054.png  \n",
            "  inflating: train/ck/CK+48/fear/S501_004_00000055.png  \n",
            "  inflating: train/ck/CK+48/fear/S501_004_00000056.png  \n",
            "  inflating: train/ck/CK+48/fear/S502_004_00000050.png  \n",
            "  inflating: train/ck/CK+48/fear/S502_004_00000051.png  \n",
            "  inflating: train/ck/CK+48/fear/S502_004_00000052.png  \n",
            "  inflating: train/ck/CK+48/fear/S504_004_00000013.png  \n",
            "  inflating: train/ck/CK+48/fear/S504_004_00000014.png  \n",
            "  inflating: train/ck/CK+48/fear/S504_004_00000015.png  \n",
            "  inflating: train/ck/CK+48/fear/S506_004_00000036.png  \n",
            "  inflating: train/ck/CK+48/fear/S506_004_00000037.png  \n",
            "  inflating: train/ck/CK+48/fear/S506_004_00000038.png  \n",
            "  inflating: train/ck/CK+48/fear/S999_003_00000053.png  \n",
            "  inflating: train/ck/CK+48/fear/S999_003_00000054.png  \n",
            "  inflating: train/ck/CK+48/fear/S999_003_00000055.png  \n",
            "  inflating: train/ck/CK+48/happy/S010_006_00000013.png  \n",
            "  inflating: train/ck/CK+48/happy/S010_006_00000014.png  \n",
            "  inflating: train/ck/CK+48/happy/S010_006_00000015.png  \n",
            "  inflating: train/ck/CK+48/happy/S011_006_00000011.png  \n",
            "  inflating: train/ck/CK+48/happy/S011_006_00000012.png  \n",
            "  inflating: train/ck/CK+48/happy/S011_006_00000013.png  \n",
            "  inflating: train/ck/CK+48/happy/S014_005_00000015.png  \n",
            "  inflating: train/ck/CK+48/happy/S014_005_00000016.png  \n",
            "  inflating: train/ck/CK+48/happy/S014_005_00000017.png  \n",
            "  inflating: train/ck/CK+48/happy/S026_006_00000011.png  \n",
            "  inflating: train/ck/CK+48/happy/S026_006_00000012.png  \n",
            "  inflating: train/ck/CK+48/happy/S026_006_00000013.png  \n",
            "  inflating: train/ck/CK+48/happy/S032_006_00000014.png  \n",
            "  inflating: train/ck/CK+48/happy/S032_006_00000015.png  \n",
            "  inflating: train/ck/CK+48/happy/S032_006_00000016.png  \n",
            "  inflating: train/ck/CK+48/happy/S034_005_00000008.png  \n",
            "  inflating: train/ck/CK+48/happy/S034_005_00000009.png  \n",
            "  inflating: train/ck/CK+48/happy/S034_005_00000010.png  \n",
            "  inflating: train/ck/CK+48/happy/S035_006_00000016.png  \n",
            "  inflating: train/ck/CK+48/happy/S035_006_00000017.png  \n",
            "  inflating: train/ck/CK+48/happy/S035_006_00000018.png  \n",
            "  inflating: train/ck/CK+48/happy/S037_006_00000019.png  \n",
            "  inflating: train/ck/CK+48/happy/S037_006_00000020.png  \n",
            "  inflating: train/ck/CK+48/happy/S037_006_00000021.png  \n",
            "  inflating: train/ck/CK+48/happy/S042_006_00000015.png  \n",
            "  inflating: train/ck/CK+48/happy/S042_006_00000016.png  \n",
            "  inflating: train/ck/CK+48/happy/S042_006_00000017.png  \n",
            "  inflating: train/ck/CK+48/happy/S044_003_00000012.png  \n",
            "  inflating: train/ck/CK+48/happy/S044_003_00000013.png  \n",
            "  inflating: train/ck/CK+48/happy/S044_003_00000014.png  \n",
            "  inflating: train/ck/CK+48/happy/S050_006_00000021.png  \n",
            "  inflating: train/ck/CK+48/happy/S050_006_00000022.png  \n",
            "  inflating: train/ck/CK+48/happy/S050_006_00000023.png  \n",
            "  inflating: train/ck/CK+48/happy/S052_004_00000031.png  \n",
            "  inflating: train/ck/CK+48/happy/S052_004_00000032.png  \n",
            "  inflating: train/ck/CK+48/happy/S052_004_00000033.png  \n",
            "  inflating: train/ck/CK+48/happy/S053_004_00000022.png  \n",
            "  inflating: train/ck/CK+48/happy/S053_004_00000023.png  \n",
            "  inflating: train/ck/CK+48/happy/S053_004_00000024.png  \n",
            "  inflating: train/ck/CK+48/happy/S055_005_00000043.png  \n",
            "  inflating: train/ck/CK+48/happy/S055_005_00000044.png  \n",
            "  inflating: train/ck/CK+48/happy/S055_005_00000045.png  \n",
            "  inflating: train/ck/CK+48/happy/S056_004_00000018.png  \n",
            "  inflating: train/ck/CK+48/happy/S056_004_00000019.png  \n",
            "  inflating: train/ck/CK+48/happy/S056_004_00000020.png  \n",
            "  inflating: train/ck/CK+48/happy/S057_006_00000031.png  \n",
            "  inflating: train/ck/CK+48/happy/S057_006_00000032.png  \n",
            "  inflating: train/ck/CK+48/happy/S057_006_00000033.png  \n",
            "  inflating: train/ck/CK+48/happy/S060_002_00000024.png  \n",
            "  inflating: train/ck/CK+48/happy/S060_002_00000025.png  \n",
            "  inflating: train/ck/CK+48/happy/S060_002_00000026.png  \n",
            "  inflating: train/ck/CK+48/happy/S061_002_00000013.png  \n",
            "  inflating: train/ck/CK+48/happy/S061_002_00000014.png  \n",
            "  inflating: train/ck/CK+48/happy/S061_002_00000015.png  \n",
            "  inflating: train/ck/CK+48/happy/S062_004_00000022.png  \n",
            "  inflating: train/ck/CK+48/happy/S062_004_00000023.png  \n",
            "  inflating: train/ck/CK+48/happy/S062_004_00000024.png  \n",
            "  inflating: train/ck/CK+48/happy/S063_002_00000021.png  \n",
            "  inflating: train/ck/CK+48/happy/S063_002_00000022.png  \n",
            "  inflating: train/ck/CK+48/happy/S063_002_00000023.png  \n",
            "  inflating: train/ck/CK+48/happy/S064_003_00000023.png  \n",
            "  inflating: train/ck/CK+48/happy/S064_003_00000024.png  \n",
            "  inflating: train/ck/CK+48/happy/S064_003_00000025.png  \n",
            "  inflating: train/ck/CK+48/happy/S065_004_00000026.png  \n",
            "  inflating: train/ck/CK+48/happy/S065_004_00000027.png  \n",
            "  inflating: train/ck/CK+48/happy/S065_004_00000028.png  \n",
            "  inflating: train/ck/CK+48/happy/S066_003_00000010.png  \n",
            "  inflating: train/ck/CK+48/happy/S066_003_00000011.png  \n",
            "  inflating: train/ck/CK+48/happy/S066_003_00000012.png  \n",
            "  inflating: train/ck/CK+48/happy/S067_005_00000020.png  \n",
            "  inflating: train/ck/CK+48/happy/S067_005_00000021.png  \n",
            "  inflating: train/ck/CK+48/happy/S067_005_00000022.png  \n",
            "  inflating: train/ck/CK+48/happy/S068_002_00000013.png  \n",
            "  inflating: train/ck/CK+48/happy/S068_002_00000014.png  \n",
            "  inflating: train/ck/CK+48/happy/S068_002_00000015.png  \n",
            "  inflating: train/ck/CK+48/happy/S069_004_00000015.png  \n",
            "  inflating: train/ck/CK+48/happy/S069_004_00000016.png  \n",
            "  inflating: train/ck/CK+48/happy/S069_004_00000017.png  \n",
            "  inflating: train/ck/CK+48/happy/S070_003_00000015.png  \n",
            "  inflating: train/ck/CK+48/happy/S070_003_00000016.png  \n",
            "  inflating: train/ck/CK+48/happy/S070_003_00000017.png  \n",
            "  inflating: train/ck/CK+48/happy/S071_005_00000019.png  \n",
            "  inflating: train/ck/CK+48/happy/S071_005_00000020.png  \n",
            "  inflating: train/ck/CK+48/happy/S071_005_00000021.png  \n",
            "  inflating: train/ck/CK+48/happy/S072_006_00000020.png  \n",
            "  inflating: train/ck/CK+48/happy/S072_006_00000021.png  \n",
            "  inflating: train/ck/CK+48/happy/S072_006_00000022.png  \n",
            "  inflating: train/ck/CK+48/happy/S074_005_00000041.png  \n",
            "  inflating: train/ck/CK+48/happy/S074_005_00000042.png  \n",
            "  inflating: train/ck/CK+48/happy/S074_005_00000043.png  \n",
            "  inflating: train/ck/CK+48/happy/S075_006_00000023.png  \n",
            "  inflating: train/ck/CK+48/happy/S075_006_00000024.png  \n",
            "  inflating: train/ck/CK+48/happy/S075_006_00000025.png  \n",
            "  inflating: train/ck/CK+48/happy/S076_006_00000017.png  \n",
            "  inflating: train/ck/CK+48/happy/S076_006_00000018.png  \n",
            "  inflating: train/ck/CK+48/happy/S076_006_00000019.png  \n",
            "  inflating: train/ck/CK+48/happy/S078_004_00000025.png  \n",
            "  inflating: train/ck/CK+48/happy/S078_004_00000026.png  \n",
            "  inflating: train/ck/CK+48/happy/S078_004_00000027.png  \n",
            "  inflating: train/ck/CK+48/happy/S079_004_00000024.png  \n",
            "  inflating: train/ck/CK+48/happy/S079_004_00000025.png  \n",
            "  inflating: train/ck/CK+48/happy/S079_004_00000026.png  \n",
            "  inflating: train/ck/CK+48/happy/S083_003_00000017.png  \n",
            "  inflating: train/ck/CK+48/happy/S083_003_00000018.png  \n",
            "  inflating: train/ck/CK+48/happy/S083_003_00000019.png  \n",
            "  inflating: train/ck/CK+48/happy/S085_002_00000012.png  \n",
            "  inflating: train/ck/CK+48/happy/S085_002_00000013.png  \n",
            "  inflating: train/ck/CK+48/happy/S085_002_00000014.png  \n",
            "  inflating: train/ck/CK+48/happy/S086_002_00000013.png  \n",
            "  inflating: train/ck/CK+48/happy/S086_002_00000014.png  \n",
            "  inflating: train/ck/CK+48/happy/S086_002_00000015.png  \n",
            "  inflating: train/ck/CK+48/happy/S087_005_00000010.png  \n",
            "  inflating: train/ck/CK+48/happy/S087_005_00000011.png  \n",
            "  inflating: train/ck/CK+48/happy/S087_005_00000012.png  \n",
            "  inflating: train/ck/CK+48/happy/S089_002_00000019.png  \n",
            "  inflating: train/ck/CK+48/happy/S089_002_00000020.png  \n",
            "  inflating: train/ck/CK+48/happy/S089_002_00000021.png  \n",
            "  inflating: train/ck/CK+48/happy/S091_003_00000019.png  \n",
            "  inflating: train/ck/CK+48/happy/S091_003_00000020.png  \n",
            "  inflating: train/ck/CK+48/happy/S091_003_00000021.png  \n",
            "  inflating: train/ck/CK+48/happy/S092_004_00000022.png  \n",
            "  inflating: train/ck/CK+48/happy/S092_004_00000023.png  \n",
            "  inflating: train/ck/CK+48/happy/S092_004_00000024.png  \n",
            "  inflating: train/ck/CK+48/happy/S093_004_00000014.png  \n",
            "  inflating: train/ck/CK+48/happy/S093_004_00000015.png  \n",
            "  inflating: train/ck/CK+48/happy/S093_004_00000016.png  \n",
            "  inflating: train/ck/CK+48/happy/S094_004_00000010.png  \n",
            "  inflating: train/ck/CK+48/happy/S094_004_00000011.png  \n",
            "  inflating: train/ck/CK+48/happy/S094_004_00000012.png  \n",
            "  inflating: train/ck/CK+48/happy/S095_007_00000019.png  \n",
            "  inflating: train/ck/CK+48/happy/S095_007_00000020.png  \n",
            "  inflating: train/ck/CK+48/happy/S095_007_00000021.png  \n",
            "  inflating: train/ck/CK+48/happy/S096_004_00000009.png  \n",
            "  inflating: train/ck/CK+48/happy/S096_004_00000010.png  \n",
            "  inflating: train/ck/CK+48/happy/S096_004_00000011.png  \n",
            "  inflating: train/ck/CK+48/happy/S097_006_00000017.png  \n",
            "  inflating: train/ck/CK+48/happy/S097_006_00000018.png  \n",
            "  inflating: train/ck/CK+48/happy/S097_006_00000019.png  \n",
            "  inflating: train/ck/CK+48/happy/S098_004_00000013.png  \n",
            "  inflating: train/ck/CK+48/happy/S098_004_00000014.png  \n",
            "  inflating: train/ck/CK+48/happy/S098_004_00000015.png  \n",
            "  inflating: train/ck/CK+48/happy/S099_004_00000013.png  \n",
            "  inflating: train/ck/CK+48/happy/S099_004_00000014.png  \n",
            "  inflating: train/ck/CK+48/happy/S099_004_00000015.png  \n",
            "  inflating: train/ck/CK+48/happy/S100_006_00000014.png  \n",
            "  inflating: train/ck/CK+48/happy/S100_006_00000015.png  \n",
            "  inflating: train/ck/CK+48/happy/S100_006_00000016.png  \n",
            "  inflating: train/ck/CK+48/happy/S106_006_00000009.png  \n",
            "  inflating: train/ck/CK+48/happy/S106_006_00000010.png  \n",
            "  inflating: train/ck/CK+48/happy/S106_006_00000011.png  \n",
            "  inflating: train/ck/CK+48/happy/S108_008_00000011.png  \n",
            "  inflating: train/ck/CK+48/happy/S108_008_00000012.png  \n",
            "  inflating: train/ck/CK+48/happy/S108_008_00000013.png  \n",
            "  inflating: train/ck/CK+48/happy/S109_006_00000013.png  \n",
            "  inflating: train/ck/CK+48/happy/S109_006_00000014.png  \n",
            "  inflating: train/ck/CK+48/happy/S109_006_00000015.png  \n",
            "  inflating: train/ck/CK+48/happy/S114_006_00000021.png  \n",
            "  inflating: train/ck/CK+48/happy/S114_006_00000022.png  \n",
            "  inflating: train/ck/CK+48/happy/S114_006_00000023.png  \n",
            "  inflating: train/ck/CK+48/happy/S115_008_00000015.png  \n",
            "  inflating: train/ck/CK+48/happy/S115_008_00000016.png  \n",
            "  inflating: train/ck/CK+48/happy/S115_008_00000017.png  \n",
            "  inflating: train/ck/CK+48/happy/S116_007_00000015.png  \n",
            "  inflating: train/ck/CK+48/happy/S116_007_00000016.png  \n",
            "  inflating: train/ck/CK+48/happy/S116_007_00000017.png  \n",
            "  inflating: train/ck/CK+48/happy/S124_007_00000022.png  \n",
            "  inflating: train/ck/CK+48/happy/S124_007_00000023.png  \n",
            "  inflating: train/ck/CK+48/happy/S124_007_00000024.png  \n",
            "  inflating: train/ck/CK+48/happy/S125_005_00000011.png  \n",
            "  inflating: train/ck/CK+48/happy/S125_005_00000012.png  \n",
            "  inflating: train/ck/CK+48/happy/S125_005_00000013.png  \n",
            "  inflating: train/ck/CK+48/happy/S127_004_00000014.png  \n",
            "  inflating: train/ck/CK+48/happy/S127_004_00000015.png  \n",
            "  inflating: train/ck/CK+48/happy/S127_004_00000016.png  \n",
            "  inflating: train/ck/CK+48/happy/S128_011_00000014.png  \n",
            "  inflating: train/ck/CK+48/happy/S128_011_00000015.png  \n",
            "  inflating: train/ck/CK+48/happy/S128_011_00000016.png  \n",
            "  inflating: train/ck/CK+48/happy/S129_012_00000009.png  \n",
            "  inflating: train/ck/CK+48/happy/S129_012_00000010.png  \n",
            "  inflating: train/ck/CK+48/happy/S129_012_00000011.png  \n",
            "  inflating: train/ck/CK+48/happy/S130_013_00000013.png  \n",
            "  inflating: train/ck/CK+48/happy/S130_013_00000014.png  \n",
            "  inflating: train/ck/CK+48/happy/S130_013_00000015.png  \n",
            "  inflating: train/ck/CK+48/happy/S131_006_00000020.png  \n",
            "  inflating: train/ck/CK+48/happy/S131_006_00000021.png  \n",
            "  inflating: train/ck/CK+48/happy/S131_006_00000022.png  \n",
            "  inflating: train/ck/CK+48/happy/S132_006_00000021.png  \n",
            "  inflating: train/ck/CK+48/happy/S132_006_00000022.png  \n",
            "  inflating: train/ck/CK+48/happy/S132_006_00000023.png  \n",
            "  inflating: train/ck/CK+48/happy/S133_010_00000012.png  \n",
            "  inflating: train/ck/CK+48/happy/S133_010_00000013.png  \n",
            "  inflating: train/ck/CK+48/happy/S133_010_00000014.png  \n",
            "  inflating: train/ck/CK+48/happy/S134_004_00000013.png  \n",
            "  inflating: train/ck/CK+48/happy/S134_004_00000014.png  \n",
            "  inflating: train/ck/CK+48/happy/S134_004_00000015.png  \n",
            "  inflating: train/ck/CK+48/happy/S135_012_00000018.png  \n",
            "  inflating: train/ck/CK+48/happy/S135_012_00000019.png  \n",
            "  inflating: train/ck/CK+48/happy/S135_012_00000020.png  \n",
            "  inflating: train/ck/CK+48/happy/S136_006_00000018.png  \n",
            "  inflating: train/ck/CK+48/happy/S136_006_00000019.png  \n",
            "  inflating: train/ck/CK+48/happy/S136_006_00000020.png  \n",
            "  inflating: train/ck/CK+48/happy/S137_011_00000018.png  \n",
            "  inflating: train/ck/CK+48/happy/S137_011_00000019.png  \n",
            "  inflating: train/ck/CK+48/happy/S137_011_00000020.png  \n",
            "  inflating: train/ck/CK+48/happy/S138_005_00000014.png  \n",
            "  inflating: train/ck/CK+48/happy/S138_005_00000015.png  \n",
            "  inflating: train/ck/CK+48/happy/S138_005_00000016.png  \n",
            "  inflating: train/ck/CK+48/sadness/S011_002_00000020.png  \n",
            "  inflating: train/ck/CK+48/sadness/S011_002_00000021.png  \n",
            "  inflating: train/ck/CK+48/sadness/S011_002_00000022.png  \n",
            "  inflating: train/ck/CK+48/sadness/S014_002_00000014.png  \n",
            "  inflating: train/ck/CK+48/sadness/S014_002_00000015.png  \n",
            "  inflating: train/ck/CK+48/sadness/S014_002_00000016.png  \n",
            "  inflating: train/ck/CK+48/sadness/S026_002_00000014.png  \n",
            "  inflating: train/ck/CK+48/sadness/S026_002_00000015.png  \n",
            "  inflating: train/ck/CK+48/sadness/S026_002_00000016.png  \n",
            "  inflating: train/ck/CK+48/sadness/S042_002_00000014.png  \n",
            "  inflating: train/ck/CK+48/sadness/S042_002_00000015.png  \n",
            "  inflating: train/ck/CK+48/sadness/S042_002_00000016.png  \n",
            "  inflating: train/ck/CK+48/sadness/S046_001_00000023.png  \n",
            "  inflating: train/ck/CK+48/sadness/S046_001_00000024.png  \n",
            "  inflating: train/ck/CK+48/sadness/S046_001_00000025.png  \n",
            "  inflating: train/ck/CK+48/sadness/S064_004_00000012.png  \n",
            "  inflating: train/ck/CK+48/sadness/S064_004_00000013.png  \n",
            "  inflating: train/ck/CK+48/sadness/S064_004_00000014.png  \n",
            "  inflating: train/ck/CK+48/sadness/S066_004_00000008.png  \n",
            "  inflating: train/ck/CK+48/sadness/S066_004_00000009.png  \n",
            "  inflating: train/ck/CK+48/sadness/S066_004_00000010.png  \n",
            "  inflating: train/ck/CK+48/sadness/S071_002_00000018.png  \n",
            "  inflating: train/ck/CK+48/sadness/S071_002_00000019.png  \n",
            "  inflating: train/ck/CK+48/sadness/S071_002_00000020.png  \n",
            "  inflating: train/ck/CK+48/sadness/S080_005_00000011.png  \n",
            "  inflating: train/ck/CK+48/sadness/S080_005_00000012.png  \n",
            "  inflating: train/ck/CK+48/sadness/S080_005_00000013.png  \n",
            "  inflating: train/ck/CK+48/sadness/S081_002_00000022.png  \n",
            "  inflating: train/ck/CK+48/sadness/S081_002_00000023.png  \n",
            "  inflating: train/ck/CK+48/sadness/S081_002_00000024.png  \n",
            "  inflating: train/ck/CK+48/sadness/S093_001_00000018.png  \n",
            "  inflating: train/ck/CK+48/sadness/S093_001_00000019.png  \n",
            "  inflating: train/ck/CK+48/sadness/S093_001_00000020.png  \n",
            "  inflating: train/ck/CK+48/sadness/S095_010_00000012.png  \n",
            "  inflating: train/ck/CK+48/sadness/S095_010_00000013.png  \n",
            "  inflating: train/ck/CK+48/sadness/S095_010_00000014.png  \n",
            "  inflating: train/ck/CK+48/sadness/S106_002_00000014.png  \n",
            "  inflating: train/ck/CK+48/sadness/S106_002_00000015.png  \n",
            "  inflating: train/ck/CK+48/sadness/S106_002_00000016.png  \n",
            "  inflating: train/ck/CK+48/sadness/S108_005_00000020.png  \n",
            "  inflating: train/ck/CK+48/sadness/S108_005_00000021.png  \n",
            "  inflating: train/ck/CK+48/sadness/S108_005_00000022.png  \n",
            "  inflating: train/ck/CK+48/sadness/S113_003_00000013.png  \n",
            "  inflating: train/ck/CK+48/sadness/S113_003_00000014.png  \n",
            "  inflating: train/ck/CK+48/sadness/S113_003_00000015.png  \n",
            "  inflating: train/ck/CK+48/sadness/S115_004_00000015.png  \n",
            "  inflating: train/ck/CK+48/sadness/S115_004_00000016.png  \n",
            "  inflating: train/ck/CK+48/sadness/S115_004_00000017.png  \n",
            "  inflating: train/ck/CK+48/sadness/S125_001_00000012.png  \n",
            "  inflating: train/ck/CK+48/sadness/S125_001_00000013.png  \n",
            "  inflating: train/ck/CK+48/sadness/S125_001_00000014.png  \n",
            "  inflating: train/ck/CK+48/sadness/S130_009_00000017.png  \n",
            "  inflating: train/ck/CK+48/sadness/S130_009_00000018.png  \n",
            "  inflating: train/ck/CK+48/sadness/S130_009_00000019.png  \n",
            "  inflating: train/ck/CK+48/sadness/S131_003_00000022.png  \n",
            "  inflating: train/ck/CK+48/sadness/S131_003_00000023.png  \n",
            "  inflating: train/ck/CK+48/sadness/S131_003_00000024.png  \n",
            "  inflating: train/ck/CK+48/sadness/S132_002_00000016.png  \n",
            "  inflating: train/ck/CK+48/sadness/S132_002_00000017.png  \n",
            "  inflating: train/ck/CK+48/sadness/S132_002_00000018.png  \n",
            "  inflating: train/ck/CK+48/sadness/S136_003_00000012.png  \n",
            "  inflating: train/ck/CK+48/sadness/S136_003_00000013.png  \n",
            "  inflating: train/ck/CK+48/sadness/S136_003_00000014.png  \n",
            "  inflating: train/ck/CK+48/sadness/S137_005_00000025.png  \n",
            "  inflating: train/ck/CK+48/sadness/S137_005_00000026.png  \n",
            "  inflating: train/ck/CK+48/sadness/S137_005_00000027.png  \n",
            "  inflating: train/ck/CK+48/sadness/S138_007_00000009.png  \n",
            "  inflating: train/ck/CK+48/sadness/S138_007_00000010.png  \n",
            "  inflating: train/ck/CK+48/sadness/S138_007_00000011.png  \n",
            "  inflating: train/ck/CK+48/sadness/S501_006_00000039.png  \n",
            "  inflating: train/ck/CK+48/sadness/S501_006_00000040.png  \n",
            "  inflating: train/ck/CK+48/sadness/S501_006_00000041.png  \n",
            "  inflating: train/ck/CK+48/sadness/S503_006_00000018.png  \n",
            "  inflating: train/ck/CK+48/sadness/S503_006_00000019.png  \n",
            "  inflating: train/ck/CK+48/sadness/S503_006_00000020.png  \n",
            "  inflating: train/ck/CK+48/sadness/S504_006_00000016.png  \n",
            "  inflating: train/ck/CK+48/sadness/S504_006_00000017.png  \n",
            "  inflating: train/ck/CK+48/sadness/S504_006_00000018.png  \n",
            "  inflating: train/ck/CK+48/sadness/S505_006_00000017.png  \n",
            "  inflating: train/ck/CK+48/sadness/S505_006_00000018.png  \n",
            "  inflating: train/ck/CK+48/sadness/S505_006_00000019.png  \n",
            "  inflating: train/ck/CK+48/sadness/S506_006_00000040.png  \n",
            "  inflating: train/ck/CK+48/sadness/S506_006_00000041.png  \n",
            "  inflating: train/ck/CK+48/sadness/S506_006_00000042.png  \n",
            "  inflating: train/ck/CK+48/surprise/S010_002_00000012.png  \n",
            "  inflating: train/ck/CK+48/surprise/S010_002_00000013.png  \n",
            "  inflating: train/ck/CK+48/surprise/S010_002_00000014.png  \n",
            "  inflating: train/ck/CK+48/surprise/S011_001_00000014.png  \n",
            "  inflating: train/ck/CK+48/surprise/S011_001_00000015.png  \n",
            "  inflating: train/ck/CK+48/surprise/S011_001_00000016.png  \n",
            "  inflating: train/ck/CK+48/surprise/S014_001_00000027.png  \n",
            "  inflating: train/ck/CK+48/surprise/S014_001_00000028.png  \n",
            "  inflating: train/ck/CK+48/surprise/S014_001_00000029.png  \n",
            "  inflating: train/ck/CK+48/surprise/S022_001_00000028.png  \n",
            "  inflating: train/ck/CK+48/surprise/S022_001_00000029.png  \n",
            "  inflating: train/ck/CK+48/surprise/S022_001_00000030.png  \n",
            "  inflating: train/ck/CK+48/surprise/S026_001_00000013.png  \n",
            "  inflating: train/ck/CK+48/surprise/S026_001_00000014.png  \n",
            "  inflating: train/ck/CK+48/surprise/S026_001_00000015.png  \n",
            "  inflating: train/ck/CK+48/surprise/S032_001_00000020.png  \n",
            "  inflating: train/ck/CK+48/surprise/S032_001_00000021.png  \n",
            "  inflating: train/ck/CK+48/surprise/S032_001_00000022.png  \n",
            "  inflating: train/ck/CK+48/surprise/S034_001_00000027.png  \n",
            "  inflating: train/ck/CK+48/surprise/S034_001_00000028.png  \n",
            "  inflating: train/ck/CK+48/surprise/S034_001_00000029.png  \n",
            "  inflating: train/ck/CK+48/surprise/S035_001_00000013.png  \n",
            "  inflating: train/ck/CK+48/surprise/S035_001_00000014.png  \n",
            "  inflating: train/ck/CK+48/surprise/S035_001_00000015.png  \n",
            "  inflating: train/ck/CK+48/surprise/S037_001_00000018.png  \n",
            "  inflating: train/ck/CK+48/surprise/S037_001_00000019.png  \n",
            "  inflating: train/ck/CK+48/surprise/S037_001_00000020.png  \n",
            "  inflating: train/ck/CK+48/surprise/S042_001_00000017.png  \n",
            "  inflating: train/ck/CK+48/surprise/S042_001_00000018.png  \n",
            "  inflating: train/ck/CK+48/surprise/S042_001_00000019.png  \n",
            "  inflating: train/ck/CK+48/surprise/S044_001_00000022.png  \n",
            "  inflating: train/ck/CK+48/surprise/S044_001_00000023.png  \n",
            "  inflating: train/ck/CK+48/surprise/S044_001_00000024.png  \n",
            "  inflating: train/ck/CK+48/surprise/S046_002_00000004.png  \n",
            "  inflating: train/ck/CK+48/surprise/S046_002_00000005.png  \n",
            "  inflating: train/ck/CK+48/surprise/S046_002_00000006.png  \n",
            "  inflating: train/ck/CK+48/surprise/S050_002_00000016.png  \n",
            "  inflating: train/ck/CK+48/surprise/S050_002_00000017.png  \n",
            "  inflating: train/ck/CK+48/surprise/S050_002_00000018.png  \n",
            "  inflating: train/ck/CK+48/surprise/S051_002_00000017.png  \n",
            "  inflating: train/ck/CK+48/surprise/S051_002_00000018.png  \n",
            "  inflating: train/ck/CK+48/surprise/S051_002_00000019.png  \n",
            "  inflating: train/ck/CK+48/surprise/S052_001_00000013.png  \n",
            "  inflating: train/ck/CK+48/surprise/S052_001_00000014.png  \n",
            "  inflating: train/ck/CK+48/surprise/S052_001_00000015.png  \n",
            "  inflating: train/ck/CK+48/surprise/S053_001_00000021.png  \n",
            "  inflating: train/ck/CK+48/surprise/S053_001_00000022.png  \n",
            "  inflating: train/ck/CK+48/surprise/S053_001_00000023.png  \n",
            "  inflating: train/ck/CK+48/surprise/S054_003_00000005.png  \n",
            "  inflating: train/ck/CK+48/surprise/S054_003_00000006.png  \n",
            "  inflating: train/ck/CK+48/surprise/S054_003_00000007.png  \n",
            "  inflating: train/ck/CK+48/surprise/S055_001_00000010.png  \n",
            "  inflating: train/ck/CK+48/surprise/S055_001_00000011.png  \n",
            "  inflating: train/ck/CK+48/surprise/S055_001_00000012.png  \n",
            "  inflating: train/ck/CK+48/surprise/S056_003_00000008.png  \n",
            "  inflating: train/ck/CK+48/surprise/S056_003_00000009.png  \n",
            "  inflating: train/ck/CK+48/surprise/S056_003_00000010.png  \n",
            "  inflating: train/ck/CK+48/surprise/S057_001_00000017.png  \n",
            "  inflating: train/ck/CK+48/surprise/S057_001_00000018.png  \n",
            "  inflating: train/ck/CK+48/surprise/S057_001_00000019.png  \n",
            "  inflating: train/ck/CK+48/surprise/S058_001_00000018.png  \n",
            "  inflating: train/ck/CK+48/surprise/S058_001_00000019.png  \n",
            "  inflating: train/ck/CK+48/surprise/S058_001_00000020.png  \n",
            "  inflating: train/ck/CK+48/surprise/S059_001_00000016.png  \n",
            "  inflating: train/ck/CK+48/surprise/S059_001_00000017.png  \n",
            "  inflating: train/ck/CK+48/surprise/S059_001_00000018.png  \n",
            "  inflating: train/ck/CK+48/surprise/S060_003_00000016.png  \n",
            "  inflating: train/ck/CK+48/surprise/S060_003_00000017.png  \n",
            "  inflating: train/ck/CK+48/surprise/S060_003_00000018.png  \n",
            "  inflating: train/ck/CK+48/surprise/S061_001_00000010.png  \n",
            "  inflating: train/ck/CK+48/surprise/S061_001_00000011.png  \n",
            "  inflating: train/ck/CK+48/surprise/S061_001_00000012.png  \n",
            "  inflating: train/ck/CK+48/surprise/S062_002_00000014.png  \n",
            "  inflating: train/ck/CK+48/surprise/S062_002_00000015.png  \n",
            "  inflating: train/ck/CK+48/surprise/S062_002_00000016.png  \n",
            "  inflating: train/ck/CK+48/surprise/S063_001_00000011.png  \n",
            "  inflating: train/ck/CK+48/surprise/S063_001_00000012.png  \n",
            "  inflating: train/ck/CK+48/surprise/S063_001_00000013.png  \n",
            "  inflating: train/ck/CK+48/surprise/S064_001_00000010.png  \n",
            "  inflating: train/ck/CK+48/surprise/S064_001_00000011.png  \n",
            "  inflating: train/ck/CK+48/surprise/S064_001_00000012.png  \n",
            "  inflating: train/ck/CK+48/surprise/S065_003_00000020.png  \n",
            "  inflating: train/ck/CK+48/surprise/S065_003_00000021.png  \n",
            "  inflating: train/ck/CK+48/surprise/S065_003_00000022.png  \n",
            "  inflating: train/ck/CK+48/surprise/S066_002_00000020.png  \n",
            "  inflating: train/ck/CK+48/surprise/S066_002_00000021.png  \n",
            "  inflating: train/ck/CK+48/surprise/S066_002_00000022.png  \n",
            "  inflating: train/ck/CK+48/surprise/S067_002_00000012.png  \n",
            "  inflating: train/ck/CK+48/surprise/S067_002_00000013.png  \n",
            "  inflating: train/ck/CK+48/surprise/S067_002_00000014.png  \n",
            "  inflating: train/ck/CK+48/surprise/S068_003_00000012.png  \n",
            "  inflating: train/ck/CK+48/surprise/S068_003_00000013.png  \n",
            "  inflating: train/ck/CK+48/surprise/S068_003_00000014.png  \n",
            "  inflating: train/ck/CK+48/surprise/S069_002_00000012.png  \n",
            "  inflating: train/ck/CK+48/surprise/S069_002_00000013.png  \n",
            "  inflating: train/ck/CK+48/surprise/S069_002_00000014.png  \n",
            "  inflating: train/ck/CK+48/surprise/S070_002_00000014.png  \n",
            "  inflating: train/ck/CK+48/surprise/S070_002_00000015.png  \n",
            "  inflating: train/ck/CK+48/surprise/S070_002_00000016.png  \n",
            "  inflating: train/ck/CK+48/surprise/S071_001_00000011.png  \n",
            "  inflating: train/ck/CK+48/surprise/S071_001_00000012.png  \n",
            "  inflating: train/ck/CK+48/surprise/S071_001_00000013.png  \n",
            "  inflating: train/ck/CK+48/surprise/S073_001_00000011.png  \n",
            "  inflating: train/ck/CK+48/surprise/S073_001_00000012.png  \n",
            "  inflating: train/ck/CK+48/surprise/S073_001_00000013.png  \n",
            "  inflating: train/ck/CK+48/surprise/S074_002_00000014.png  \n",
            "  inflating: train/ck/CK+48/surprise/S074_002_00000015.png  \n",
            "  inflating: train/ck/CK+48/surprise/S074_002_00000016.png  \n",
            "  inflating: train/ck/CK+48/surprise/S075_002_00000012.png  \n",
            "  inflating: train/ck/CK+48/surprise/S075_002_00000013.png  \n",
            "  inflating: train/ck/CK+48/surprise/S075_002_00000014.png  \n",
            "  inflating: train/ck/CK+48/surprise/S076_001_00000015.png  \n",
            "  inflating: train/ck/CK+48/surprise/S076_001_00000016.png  \n",
            "  inflating: train/ck/CK+48/surprise/S076_001_00000017.png  \n",
            "  inflating: train/ck/CK+48/surprise/S077_001_00000026.png  \n",
            "  inflating: train/ck/CK+48/surprise/S077_001_00000027.png  \n",
            "  inflating: train/ck/CK+48/surprise/S077_001_00000028.png  \n",
            "  inflating: train/ck/CK+48/surprise/S078_001_00000031.png  \n",
            "  inflating: train/ck/CK+48/surprise/S078_001_00000032.png  \n",
            "  inflating: train/ck/CK+48/surprise/S078_001_00000033.png  \n",
            "  inflating: train/ck/CK+48/surprise/S079_001_00000010.png  \n",
            "  inflating: train/ck/CK+48/surprise/S079_001_00000011.png  \n",
            "  inflating: train/ck/CK+48/surprise/S079_001_00000012.png  \n",
            "  inflating: train/ck/CK+48/surprise/S080_001_00000016.png  \n",
            "  inflating: train/ck/CK+48/surprise/S080_001_00000017.png  \n",
            "  inflating: train/ck/CK+48/surprise/S080_001_00000018.png  \n",
            "  inflating: train/ck/CK+48/surprise/S081_001_00000017.png  \n",
            "  inflating: train/ck/CK+48/surprise/S081_001_00000018.png  \n",
            "  inflating: train/ck/CK+48/surprise/S081_001_00000019.png  \n",
            "  inflating: train/ck/CK+48/surprise/S082_001_00000013.png  \n",
            "  inflating: train/ck/CK+48/surprise/S082_001_00000014.png  \n",
            "  inflating: train/ck/CK+48/surprise/S082_001_00000015.png  \n",
            "  inflating: train/ck/CK+48/surprise/S084_001_00000008.png  \n",
            "  inflating: train/ck/CK+48/surprise/S084_001_00000009.png  \n",
            "  inflating: train/ck/CK+48/surprise/S084_001_00000010.png  \n",
            "  inflating: train/ck/CK+48/surprise/S085_003_00000011.png  \n",
            "  inflating: train/ck/CK+48/surprise/S085_003_00000012.png  \n",
            "  inflating: train/ck/CK+48/surprise/S085_003_00000013.png  \n",
            "  inflating: train/ck/CK+48/surprise/S086_001_00000017.png  \n",
            "  inflating: train/ck/CK+48/surprise/S086_001_00000018.png  \n",
            "  inflating: train/ck/CK+48/surprise/S086_001_00000019.png  \n",
            "  inflating: train/ck/CK+48/surprise/S087_001_00000009.png  \n",
            "  inflating: train/ck/CK+48/surprise/S087_001_00000010.png  \n",
            "  inflating: train/ck/CK+48/surprise/S087_001_00000011.png  \n",
            "  inflating: train/ck/CK+48/surprise/S088_001_00000015.png  \n",
            "  inflating: train/ck/CK+48/surprise/S088_001_00000016.png  \n",
            "  inflating: train/ck/CK+48/surprise/S088_001_00000017.png  \n",
            "  inflating: train/ck/CK+48/surprise/S089_001_00000014.png  \n",
            "  inflating: train/ck/CK+48/surprise/S089_001_00000015.png  \n",
            "  inflating: train/ck/CK+48/surprise/S089_001_00000016.png  \n",
            "  inflating: train/ck/CK+48/surprise/S090_002_00000009.png  \n",
            "  inflating: train/ck/CK+48/surprise/S090_002_00000010.png  \n",
            "  inflating: train/ck/CK+48/surprise/S090_002_00000011.png  \n",
            "  inflating: train/ck/CK+48/surprise/S092_001_00000015.png  \n",
            "  inflating: train/ck/CK+48/surprise/S092_001_00000016.png  \n",
            "  inflating: train/ck/CK+48/surprise/S092_001_00000017.png  \n",
            "  inflating: train/ck/CK+48/surprise/S094_001_00000008.png  \n",
            "  inflating: train/ck/CK+48/surprise/S094_001_00000009.png  \n",
            "  inflating: train/ck/CK+48/surprise/S094_001_00000010.png  \n",
            "  inflating: train/ck/CK+48/surprise/S095_001_00000014.png  \n",
            "  inflating: train/ck/CK+48/surprise/S095_001_00000015.png  \n",
            "  inflating: train/ck/CK+48/surprise/S095_001_00000016.png  \n",
            "  inflating: train/ck/CK+48/surprise/S096_001_00000005.png  \n",
            "  inflating: train/ck/CK+48/surprise/S096_001_00000006.png  \n",
            "  inflating: train/ck/CK+48/surprise/S096_001_00000007.png  \n",
            "  inflating: train/ck/CK+48/surprise/S097_001_00000019.png  \n",
            "  inflating: train/ck/CK+48/surprise/S097_001_00000020.png  \n",
            "  inflating: train/ck/CK+48/surprise/S097_001_00000021.png  \n",
            "  inflating: train/ck/CK+48/surprise/S099_001_00000012.png  \n",
            "  inflating: train/ck/CK+48/surprise/S099_001_00000013.png  \n",
            "  inflating: train/ck/CK+48/surprise/S099_001_00000014.png  \n",
            "  inflating: train/ck/CK+48/surprise/S100_002_00000013.png  \n",
            "  inflating: train/ck/CK+48/surprise/S100_002_00000014.png  \n",
            "  inflating: train/ck/CK+48/surprise/S100_002_00000015.png  \n",
            "  inflating: train/ck/CK+48/surprise/S101_002_00000017.png  \n",
            "  inflating: train/ck/CK+48/surprise/S101_002_00000018.png  \n",
            "  inflating: train/ck/CK+48/surprise/S101_002_00000019.png  \n",
            "  inflating: train/ck/CK+48/surprise/S102_002_00000016.png  \n",
            "  inflating: train/ck/CK+48/surprise/S102_002_00000017.png  \n",
            "  inflating: train/ck/CK+48/surprise/S102_002_00000018.png  \n",
            "  inflating: train/ck/CK+48/surprise/S107_001_00000008.png  \n",
            "  inflating: train/ck/CK+48/surprise/S107_001_00000009.png  \n",
            "  inflating: train/ck/CK+48/surprise/S107_001_00000010.png  \n",
            "  inflating: train/ck/CK+48/surprise/S110_001_00000011.png  \n",
            "  inflating: train/ck/CK+48/surprise/S110_001_00000012.png  \n",
            "  inflating: train/ck/CK+48/surprise/S110_001_00000013.png  \n",
            "  inflating: train/ck/CK+48/surprise/S111_001_00000012.png  \n",
            "  inflating: train/ck/CK+48/surprise/S111_001_00000013.png  \n",
            "  inflating: train/ck/CK+48/surprise/S111_001_00000014.png  \n",
            "  inflating: train/ck/CK+48/surprise/S113_001_00000010.png  \n",
            "  inflating: train/ck/CK+48/surprise/S113_001_00000011.png  \n",
            "  inflating: train/ck/CK+48/surprise/S113_001_00000012.png  \n",
            "  inflating: train/ck/CK+48/surprise/S114_001_00000016.png  \n",
            "  inflating: train/ck/CK+48/surprise/S114_001_00000017.png  \n",
            "  inflating: train/ck/CK+48/surprise/S114_001_00000018.png  \n",
            "  inflating: train/ck/CK+48/surprise/S115_001_00000006.png  \n",
            "  inflating: train/ck/CK+48/surprise/S115_001_00000007.png  \n",
            "  inflating: train/ck/CK+48/surprise/S115_001_00000008.png  \n",
            "  inflating: train/ck/CK+48/surprise/S116_001_00000012.png  \n",
            "  inflating: train/ck/CK+48/surprise/S116_001_00000013.png  \n",
            "  inflating: train/ck/CK+48/surprise/S116_001_00000014.png  \n",
            "  inflating: train/ck/CK+48/surprise/S117_001_00000012.png  \n",
            "  inflating: train/ck/CK+48/surprise/S117_001_00000013.png  \n",
            "  inflating: train/ck/CK+48/surprise/S117_001_00000014.png  \n",
            "  inflating: train/ck/CK+48/surprise/S119_001_00000009.png  \n",
            "  inflating: train/ck/CK+48/surprise/S119_001_00000010.png  \n",
            "  inflating: train/ck/CK+48/surprise/S119_001_00000011.png  \n",
            "  inflating: train/ck/CK+48/surprise/S122_001_00000010.png  \n",
            "  inflating: train/ck/CK+48/surprise/S122_001_00000011.png  \n",
            "  inflating: train/ck/CK+48/surprise/S122_001_00000012.png  \n",
            "  inflating: train/ck/CK+48/surprise/S124_001_00000012.png  \n",
            "  inflating: train/ck/CK+48/surprise/S124_001_00000013.png  \n",
            "  inflating: train/ck/CK+48/surprise/S124_001_00000014.png  \n",
            "  inflating: train/ck/CK+48/surprise/S125_007_00000007.png  \n",
            "  inflating: train/ck/CK+48/surprise/S125_007_00000008.png  \n",
            "  inflating: train/ck/CK+48/surprise/S125_007_00000009.png  \n",
            "  inflating: train/ck/CK+48/surprise/S126_004_00000010.png  \n",
            "  inflating: train/ck/CK+48/surprise/S126_004_00000011.png  \n",
            "  inflating: train/ck/CK+48/surprise/S126_004_00000012.png  \n",
            "  inflating: train/ck/CK+48/surprise/S127_001_00000015.png  \n",
            "  inflating: train/ck/CK+48/surprise/S127_001_00000016.png  \n",
            "  inflating: train/ck/CK+48/surprise/S127_001_00000017.png  \n",
            "  inflating: train/ck/CK+48/surprise/S129_002_00000009.png  \n",
            "  inflating: train/ck/CK+48/surprise/S129_002_00000010.png  \n",
            "  inflating: train/ck/CK+48/surprise/S129_002_00000011.png  \n",
            "  inflating: train/ck/CK+48/surprise/S130_001_00000016.png  \n",
            "  inflating: train/ck/CK+48/surprise/S130_001_00000017.png  \n",
            "  inflating: train/ck/CK+48/surprise/S130_001_00000018.png  \n",
            "  inflating: train/ck/CK+48/surprise/S131_001_00000014.png  \n",
            "  inflating: train/ck/CK+48/surprise/S131_001_00000015.png  \n",
            "  inflating: train/ck/CK+48/surprise/S131_001_00000016.png  \n",
            "  inflating: train/ck/CK+48/surprise/S132_008_00000008.png  \n",
            "  inflating: train/ck/CK+48/surprise/S132_008_00000009.png  \n",
            "  inflating: train/ck/CK+48/surprise/S132_008_00000010.png  \n",
            "  inflating: train/ck/CK+48/surprise/S133_009_00000004.png  \n",
            "  inflating: train/ck/CK+48/surprise/S133_009_00000005.png  \n",
            "  inflating: train/ck/CK+48/surprise/S133_009_00000006.png  \n",
            "  inflating: train/ck/CK+48/surprise/S135_001_00000037.png  \n",
            "  inflating: train/ck/CK+48/surprise/S135_001_00000038.png  \n",
            "  inflating: train/ck/CK+48/surprise/S135_001_00000039.png  \n",
            "  inflating: train/ck/CK+48/surprise/S136_001_00000017.png  \n",
            "  inflating: train/ck/CK+48/surprise/S136_001_00000018.png  \n",
            "  inflating: train/ck/CK+48/surprise/S136_001_00000019.png  \n",
            "  inflating: train/ck/CK+48/surprise/S137_001_00000012.png  \n",
            "  inflating: train/ck/CK+48/surprise/S137_001_00000013.png  \n",
            "  inflating: train/ck/CK+48/surprise/S137_001_00000014.png  \n",
            "  inflating: train/ck/CK+48/surprise/S138_004_00000011.png  \n",
            "  inflating: train/ck/CK+48/surprise/S138_004_00000012.png  \n",
            "  inflating: train/ck/CK+48/surprise/S138_004_00000013.png  \n"
          ]
        }
      ]
    },
    {
      "cell_type": "code",
      "execution_count": null,
      "id": "suffering-adjustment",
      "metadata": {
        "_cell_guid": "b1076dfc-b9ad-4769-8c92-a6c4dae69d19",
        "_uuid": "8f2839f25d086af736a60e9eeb907d3b93b6e0e5",
        "execution": {
          "iopub.execute_input": "2021-08-14T14:42:50.878096Z",
          "iopub.status.busy": "2021-08-14T14:42:50.877491Z",
          "iopub.status.idle": "2021-08-14T14:42:56.356090Z",
          "shell.execute_reply": "2021-08-14T14:42:56.355120Z",
          "shell.execute_reply.started": "2021-06-20T07:24:55.010091Z"
        },
        "papermill": {
          "duration": 5.566879,
          "end_time": "2021-08-14T14:42:56.356256",
          "exception": false,
          "start_time": "2021-08-14T14:42:50.789377",
          "status": "completed"
        },
        "tags": [],
        "id": "suffering-adjustment"
      },
      "outputs": [],
      "source": [
        "import numpy as np \n",
        "import pandas as pd\n",
        "import matplotlib.pyplot as plt\n",
        "import seaborn as sns\n",
        "import cv2\n",
        "import os\n",
        "import random\n",
        "from tqdm import tqdm\n",
        "from sklearn.model_selection import train_test_split\n",
        "import tensorflow as tf\n",
        "from tensorflow.keras.preprocessing.image import ImageDataGenerator\n",
        "from tensorflow.keras.models import Sequential\n",
        "from tensorflow.keras.callbacks import Callback, EarlyStopping, ReduceLROnPlateau\n",
        "from tensorflow.keras.layers import Conv2D, BatchNormalization, MaxPool2D, Dropout, Flatten, Dense\n",
        "from tensorflow.keras.optimizers import Adam,RMSprop,SGD,Adamax\n",
        "from tensorflow.keras import regularizers"
      ]
    },
    {
      "cell_type": "code",
      "execution_count": null,
      "id": "olive-chest",
      "metadata": {
        "execution": {
          "iopub.execute_input": "2021-08-14T14:42:56.525361Z",
          "iopub.status.busy": "2021-08-14T14:42:56.524338Z",
          "iopub.status.idle": "2021-08-14T14:42:56.526881Z",
          "shell.execute_reply": "2021-08-14T14:42:56.527299Z",
          "shell.execute_reply.started": "2021-06-20T07:25:00.682723Z"
        },
        "papermill": {
          "duration": 0.092728,
          "end_time": "2021-08-14T14:42:56.527466",
          "exception": false,
          "start_time": "2021-08-14T14:42:56.434738",
          "status": "completed"
        },
        "tags": [],
        "id": "olive-chest"
      },
      "outputs": [],
      "source": [
        "np.random.seed(42)"
      ]
    },
    {
      "cell_type": "markdown",
      "id": "decimal-wonder",
      "metadata": {
        "papermill": {
          "duration": 0.089884,
          "end_time": "2021-08-14T14:42:56.708221",
          "exception": false,
          "start_time": "2021-08-14T14:42:56.618337",
          "status": "completed"
        },
        "tags": [],
        "id": "decimal-wonder"
      },
      "source": [
        "# loading data"
      ]
    },
    {
      "cell_type": "code",
      "execution_count": null,
      "id": "assumed-mechanics",
      "metadata": {
        "execution": {
          "iopub.execute_input": "2021-08-14T14:42:56.874556Z",
          "iopub.status.busy": "2021-08-14T14:42:56.873938Z",
          "iopub.status.idle": "2021-08-14T14:42:56.884614Z",
          "shell.execute_reply": "2021-08-14T14:42:56.885024Z",
          "shell.execute_reply.started": "2021-06-20T07:25:00.693334Z"
        },
        "papermill": {
          "duration": 0.090212,
          "end_time": "2021-08-14T14:42:56.885157",
          "exception": false,
          "start_time": "2021-08-14T14:42:56.794945",
          "status": "completed"
        },
        "tags": [],
        "id": "assumed-mechanics",
        "outputId": "36cb718f-8a2f-4ec2-b3a5-2921ffaf84a5",
        "colab": {
          "base_uri": "https://localhost:8080/"
        }
      },
      "outputs": [
        {
          "output_type": "execute_result",
          "data": {
            "text/plain": [
              "['CK+48', 'ck']"
            ]
          },
          "metadata": {},
          "execution_count": 11
        }
      ],
      "source": [
        "os.listdir('/content/train')"
      ]
    },
    {
      "cell_type": "code",
      "execution_count": null,
      "id": "governmental-michael",
      "metadata": {
        "execution": {
          "iopub.execute_input": "2021-08-14T14:42:57.053554Z",
          "iopub.status.busy": "2021-08-14T14:42:57.052674Z",
          "iopub.status.idle": "2021-08-14T14:42:57.055462Z",
          "shell.execute_reply": "2021-08-14T14:42:57.055015Z",
          "shell.execute_reply.started": "2021-06-20T07:25:00.714384Z"
        },
        "papermill": {
          "duration": 0.089129,
          "end_time": "2021-08-14T14:42:57.055589",
          "exception": false,
          "start_time": "2021-08-14T14:42:56.966460",
          "status": "completed"
        },
        "tags": [],
        "id": "governmental-michael"
      },
      "outputs": [],
      "source": [
        "DATADIR = r'/content/train/CK+48'"
      ]
    },
    {
      "cell_type": "code",
      "execution_count": null,
      "id": "equipped-peter",
      "metadata": {
        "execution": {
          "iopub.execute_input": "2021-08-14T14:42:57.218404Z",
          "iopub.status.busy": "2021-08-14T14:42:57.217906Z",
          "iopub.status.idle": "2021-08-14T14:42:57.226959Z",
          "shell.execute_reply": "2021-08-14T14:42:57.226536Z",
          "shell.execute_reply.started": "2021-06-20T07:25:00.722494Z"
        },
        "papermill": {
          "duration": 0.094266,
          "end_time": "2021-08-14T14:42:57.227075",
          "exception": false,
          "start_time": "2021-08-14T14:42:57.132809",
          "status": "completed"
        },
        "tags": [],
        "id": "equipped-peter",
        "outputId": "867f4076-180e-4af3-deb1-1a9a38079144",
        "colab": {
          "base_uri": "https://localhost:8080/"
        }
      },
      "outputs": [
        {
          "output_type": "execute_result",
          "data": {
            "text/plain": [
              "['sadness', 'contempt', 'happy', 'fear', 'disgust', 'surprise', 'anger']"
            ]
          },
          "metadata": {},
          "execution_count": 13
        }
      ],
      "source": [
        "CATEGORIES = os.listdir(DATADIR)\n",
        "CATEGORIES"
      ]
    },
    {
      "cell_type": "code",
      "source": [
        "data_path =\"/content/train/CK+48/\"\n",
        "\n",
        "for dir1 in os.listdir(data_path):\n",
        "    count=0\n",
        "    for f in os.listdir(data_path + dir1):\n",
        "        count+=1\n",
        "    print(f\"{dir1} has {count} images\")"
      ],
      "metadata": {
        "colab": {
          "base_uri": "https://localhost:8080/"
        },
        "id": "eOpgycsZerbb",
        "outputId": "2929a4dd-7337-4200-a8ce-47bceb59dcc8"
      },
      "id": "eOpgycsZerbb",
      "execution_count": null,
      "outputs": [
        {
          "output_type": "stream",
          "name": "stdout",
          "text": [
            "sadness has 84 images\n",
            "contempt has 54 images\n",
            "happy has 207 images\n",
            "fear has 75 images\n",
            "disgust has 177 images\n",
            "surprise has 249 images\n",
            "anger has 135 images\n"
          ]
        }
      ]
    },
    {
      "cell_type": "code",
      "execution_count": null,
      "id": "absent-amino",
      "metadata": {
        "execution": {
          "iopub.execute_input": "2021-08-14T14:42:57.387480Z",
          "iopub.status.busy": "2021-08-14T14:42:57.386212Z",
          "iopub.status.idle": "2021-08-14T14:42:57.388418Z",
          "shell.execute_reply": "2021-08-14T14:42:57.388916Z",
          "shell.execute_reply.started": "2021-06-20T07:25:00.737006Z"
        },
        "papermill": {
          "duration": 0.084206,
          "end_time": "2021-08-14T14:42:57.389052",
          "exception": false,
          "start_time": "2021-08-14T14:42:57.304846",
          "status": "completed"
        },
        "tags": [],
        "id": "absent-amino"
      },
      "outputs": [],
      "source": [
        "def load_data():\n",
        "    DATADIR = r'/content/train/CK+48'\n",
        "    data = []\n",
        "    # loading training data\n",
        "    for category in CATEGORIES:\n",
        "        # create path to image of respective expression\n",
        "        path = os.path.join(DATADIR, category)\n",
        "        # get the classification  for each expression \n",
        "        class_num = CATEGORIES.index(category)\n",
        "\n",
        "        for img in tqdm(os.listdir(path)):\n",
        "            img_array = cv2.imread(os.path.join(path, img), 0)\n",
        "            data.append([img_array, class_num])\n",
        "            \n",
        "    return data"
      ]
    },
    {
      "cell_type": "code",
      "execution_count": null,
      "id": "variable-surrey",
      "metadata": {
        "execution": {
          "iopub.execute_input": "2021-08-14T14:42:57.545534Z",
          "iopub.status.busy": "2021-08-14T14:42:57.545009Z",
          "iopub.status.idle": "2021-08-14T14:43:00.333269Z",
          "shell.execute_reply": "2021-08-14T14:43:00.332843Z",
          "shell.execute_reply.started": "2021-06-20T07:25:00.747484Z"
        },
        "papermill": {
          "duration": 2.867565,
          "end_time": "2021-08-14T14:43:00.333393",
          "exception": false,
          "start_time": "2021-08-14T14:42:57.465828",
          "status": "completed"
        },
        "tags": [],
        "id": "variable-surrey",
        "outputId": "03f4cd60-7e3c-4213-913e-6eab21b12d2d",
        "colab": {
          "base_uri": "https://localhost:8080/"
        }
      },
      "outputs": [
        {
          "output_type": "stream",
          "name": "stderr",
          "text": [
            "100%|██████████| 84/84 [00:00<00:00, 2545.44it/s]\n",
            "100%|██████████| 54/54 [00:00<00:00, 11406.75it/s]\n",
            "100%|██████████| 207/207 [00:00<00:00, 11207.91it/s]\n",
            "100%|██████████| 75/75 [00:00<00:00, 10506.07it/s]\n",
            "100%|██████████| 177/177 [00:00<00:00, 11114.98it/s]\n",
            "100%|██████████| 249/249 [00:00<00:00, 13170.51it/s]\n",
            "100%|██████████| 135/135 [00:00<00:00, 10943.78it/s]\n"
          ]
        }
      ],
      "source": [
        "data = load_data()"
      ]
    },
    {
      "cell_type": "code",
      "execution_count": null,
      "id": "alike-resident",
      "metadata": {
        "execution": {
          "iopub.execute_input": "2021-08-14T14:43:00.513198Z",
          "iopub.status.busy": "2021-08-14T14:43:00.512631Z",
          "iopub.status.idle": "2021-08-14T14:43:00.518565Z",
          "shell.execute_reply": "2021-08-14T14:43:00.519213Z",
          "shell.execute_reply.started": "2021-06-20T07:25:05.699388Z"
        },
        "papermill": {
          "duration": 0.098495,
          "end_time": "2021-08-14T14:43:00.519345",
          "exception": false,
          "start_time": "2021-08-14T14:43:00.420850",
          "status": "completed"
        },
        "tags": [],
        "id": "alike-resident",
        "outputId": "56ced6ae-6715-45fe-c294-5bba6b8a0784",
        "colab": {
          "base_uri": "https://localhost:8080/"
        }
      },
      "outputs": [
        {
          "output_type": "execute_result",
          "data": {
            "text/plain": [
              "981"
            ]
          },
          "metadata": {},
          "execution_count": 17
        }
      ],
      "source": [
        "len(data) #total images in CK+48"
      ]
    },
    {
      "cell_type": "markdown",
      "id": "perceived-reunion",
      "metadata": {
        "papermill": {
          "duration": 0.140715,
          "end_time": "2021-08-14T14:43:00.790777",
          "exception": false,
          "start_time": "2021-08-14T14:43:00.650062",
          "status": "completed"
        },
        "tags": [],
        "id": "perceived-reunion"
      },
      "source": [
        "#Visualization of some images "
      ]
    },
    {
      "cell_type": "code",
      "execution_count": null,
      "id": "distributed-commodity",
      "metadata": {
        "execution": {
          "iopub.execute_input": "2021-08-14T14:43:01.079542Z",
          "iopub.status.busy": "2021-08-14T14:43:01.078027Z",
          "iopub.status.idle": "2021-08-14T14:43:02.149951Z",
          "shell.execute_reply": "2021-08-14T14:43:02.150407Z",
          "shell.execute_reply.started": "2021-06-20T07:25:05.707568Z"
        },
        "papermill": {
          "duration": 1.21747,
          "end_time": "2021-08-14T14:43:02.150574",
          "exception": false,
          "start_time": "2021-08-14T14:43:00.933104",
          "status": "completed"
        },
        "tags": [],
        "id": "distributed-commodity",
        "outputId": "dd372f35-1ae7-492b-e3b8-b29650a079a4",
        "colab": {
          "base_uri": "https://localhost:8080/"
        }
      },
      "outputs": [
        {
          "output_type": "display_data",
          "data": {
            "text/plain": [
              "<Figure size 900x900 with 4 Axes>"
            ],
            "image/png": "[encoded data removed]"
          },
          "metadata": {}
        }
      ],
      "source": [
        "L = 2\n",
        "W = 2\n",
        "fig, axes = plt.subplots(L, W, figsize = (9,9))\n",
        "axes = axes.ravel()\n",
        "\n",
        "for i in range(0, L * W):  \n",
        "    sample = random.choice(data)\n",
        "    axes[i].set_title(\"Expression = \"+str(CATEGORIES[sample[1]]))\n",
        "    axes[i].imshow(sample[0], cmap='gray')\n",
        "    axes[i].axis('off')\n",
        "plt.subplots_adjust(wspace=0.5)"
      ]
    },
    {
      "cell_type": "markdown",
      "id": "exact-master",
      "metadata": {
        "papermill": {
          "duration": 0.092015,
          "end_time": "2021-08-14T14:43:02.333844",
          "exception": false,
          "start_time": "2021-08-14T14:43:02.241829",
          "status": "completed"
        },
        "tags": [],
        "id": "exact-master"
      },
      "source": [
        "# Creating training and testing data (80,20)"
      ]
    },
    {
      "cell_type": "code",
      "execution_count": null,
      "id": "significant-jamaica",
      "metadata": {
        "execution": {
          "iopub.execute_input": "2021-08-14T14:43:02.519172Z",
          "iopub.status.busy": "2021-08-14T14:43:02.518296Z",
          "iopub.status.idle": "2021-08-14T14:43:02.523263Z",
          "shell.execute_reply": "2021-08-14T14:43:02.522866Z",
          "shell.execute_reply.started": "2021-06-20T07:25:06.642123Z"
        },
        "papermill": {
          "duration": 0.098859,
          "end_time": "2021-08-14T14:43:02.523373",
          "exception": false,
          "start_time": "2021-08-14T14:43:02.424514",
          "status": "completed"
        },
        "tags": [],
        "id": "significant-jamaica"
      },
      "outputs": [],
      "source": [
        "X = np.array([ x[0] for x in data])\n",
        "y = np.array([Y[1] for Y in data])"
      ]
    },
    {
      "cell_type": "code",
      "execution_count": null,
      "id": "available-launch",
      "metadata": {
        "execution": {
          "iopub.execute_input": "2021-08-14T14:43:02.709588Z",
          "iopub.status.busy": "2021-08-14T14:43:02.708712Z",
          "iopub.status.idle": "2021-08-14T14:43:02.713167Z",
          "shell.execute_reply": "2021-08-14T14:43:02.712742Z",
          "shell.execute_reply.started": "2021-06-20T07:25:06.654429Z"
        },
        "papermill": {
          "duration": 0.100198,
          "end_time": "2021-08-14T14:43:02.713274",
          "exception": false,
          "start_time": "2021-08-14T14:43:02.613076",
          "status": "completed"
        },
        "tags": [],
        "id": "available-launch"
      },
      "outputs": [],
      "source": [
        "X_train, X_test, y_train, y_test = train_test_split(X, y, test_size=0.2, random_state=42, shuffle = True)"
      ]
    },
    {
      "cell_type": "code",
      "execution_count": null,
      "id": "seventh-rebel",
      "metadata": {
        "execution": {
          "iopub.execute_input": "2021-08-14T14:43:02.898213Z",
          "iopub.status.busy": "2021-08-14T14:43:02.897474Z",
          "iopub.status.idle": "2021-08-14T14:43:02.901906Z",
          "shell.execute_reply": "2021-08-14T14:43:02.901508Z",
          "shell.execute_reply.started": "2021-06-20T07:25:06.663659Z"
        },
        "papermill": {
          "duration": 0.098235,
          "end_time": "2021-08-14T14:43:02.902014",
          "exception": false,
          "start_time": "2021-08-14T14:43:02.803779",
          "status": "completed"
        },
        "tags": [],
        "id": "seventh-rebel",
        "outputId": "13bbd0d1-c114-4caf-bdba-43ed64d683de",
        "colab": {
          "base_uri": "https://localhost:8080/"
        }
      },
      "outputs": [
        {
          "output_type": "stream",
          "name": "stdout",
          "text": [
            "X_train shape:  (784, 48, 48)\n",
            "y_train shape:  (784,)\n",
            "-------------------------------\n",
            "X_test shape:  (197, 48, 48)\n",
            "y_test shape:  (197,)\n"
          ]
        }
      ],
      "source": [
        "print(\"X_train shape: \", X_train.shape)\n",
        "print(\"y_train shape: \", y_train.shape)\n",
        "print(\"-------------------------------\")\n",
        "print(\"X_test shape: \", X_test.shape)\n",
        "print(\"y_test shape: \", y_test.shape)"
      ]
    },
    {
      "cell_type": "code",
      "execution_count": null,
      "id": "random-entrepreneur",
      "metadata": {
        "execution": {
          "iopub.execute_input": "2021-08-14T14:43:03.087988Z",
          "iopub.status.busy": "2021-08-14T14:43:03.087290Z",
          "iopub.status.idle": "2021-08-14T14:43:03.091691Z",
          "shell.execute_reply": "2021-08-14T14:43:03.091078Z",
          "shell.execute_reply.started": "2021-06-20T07:25:06.673984Z"
        },
        "papermill": {
          "duration": 0.099538,
          "end_time": "2021-08-14T14:43:03.091838",
          "exception": false,
          "start_time": "2021-08-14T14:43:02.992300",
          "status": "completed"
        },
        "tags": [],
        "id": "random-entrepreneur",
        "outputId": "e8343aa8-3d5c-4310-9a42-45e38e8c75bf",
        "colab": {
          "base_uri": "https://localhost:8080/"
        }
      },
      "outputs": [
        {
          "output_type": "stream",
          "name": "stdout",
          "text": [
            "After reshaping\n",
            "y_train shape:  (784, 1)\n",
            "y_test shape:  (197, 1)\n"
          ]
        }
      ],
      "source": [
        "# reshaping y_train and y_test\n",
        "y_train = np.reshape(y_train, (len(y_train),1))\n",
        "y_test  = np.reshape(y_test , (len(y_test ),1))\n",
        "\n",
        "print(\"After reshaping\")\n",
        "print(\"y_train shape: \", y_train.shape)\n",
        "print(\"y_test shape: \", y_test.shape)"
      ]
    },
    {
      "cell_type": "markdown",
      "id": "active-thanksgiving",
      "metadata": {
        "papermill": {
          "duration": 0.089967,
          "end_time": "2021-08-14T14:43:03.461818",
          "exception": false,
          "start_time": "2021-08-14T14:43:03.371851",
          "status": "completed"
        },
        "tags": [],
        "id": "active-thanksgiving"
      },
      "source": [
        "## Adding color channel "
      ]
    },
    {
      "cell_type": "code",
      "execution_count": null,
      "id": "special-cambridge",
      "metadata": {
        "execution": {
          "iopub.execute_input": "2021-08-14T14:43:03.648002Z",
          "iopub.status.busy": "2021-08-14T14:43:03.647250Z",
          "iopub.status.idle": "2021-08-14T14:43:03.650753Z",
          "shell.execute_reply": "2021-08-14T14:43:03.651324Z",
          "shell.execute_reply.started": "2021-06-20T07:25:06.690319Z"
        },
        "papermill": {
          "duration": 0.098926,
          "end_time": "2021-08-14T14:43:03.651517",
          "exception": false,
          "start_time": "2021-08-14T14:43:03.552591",
          "status": "completed"
        },
        "tags": [],
        "id": "special-cambridge",
        "outputId": "d755f633-66f4-46d6-b761-09abcb32588a",
        "colab": {
          "base_uri": "https://localhost:8080/"
        }
      },
      "outputs": [
        {
          "output_type": "stream",
          "name": "stdout",
          "text": [
            "After adding color channel\n",
            "X_train shape:  (784, 48, 48, 1)\n",
            "X_test shape:  (197, 48, 48, 1)\n"
          ]
        }
      ],
      "source": [
        "X_train = np.expand_dims(X_train, axis=3)\n",
        "X_test = np.expand_dims(X_test, axis=3)\n",
        "\n",
        "print(\"After adding color channel\")\n",
        "print(\"X_train shape: \", X_train.shape)\n",
        "print(\"X_test shape: \", X_test.shape)"
      ]
    },
    {
      "cell_type": "code",
      "source": [
        "datagen = ImageDataGenerator(\n",
        "\n",
        "        shear_range=0.2, \n",
        "        rotation_range = 30,  # randomly rotate images in the range (degrees, 0 to 180)\n",
        "        zoom_range = 0.2, # Randomly zoom image \n",
        "        width_shift_range=0.1,  # randomly shift images horizontally (fraction of total width)\n",
        "        height_shift_range=0.1,  # randomly shift images vertically (fraction of total height)\n",
        "        horizontal_flip = True,  # randomly flip images\n",
        "        vertical_flip=True,  # randomly flip images\n",
        "        fill_mode=\"nearest\")\n",
        "\n",
        "datagen.fit(X_train)"
      ],
      "metadata": {
        "id": "Ib14-OXegyRn"
      },
      "id": "Ib14-OXegyRn",
      "execution_count": null,
      "outputs": []
    },
    {
      "cell_type": "markdown",
      "id": "historical-greene",
      "metadata": {
        "papermill": {
          "duration": 0.09061,
          "end_time": "2021-08-14T14:43:03.834214",
          "exception": false,
          "start_time": "2021-08-14T14:43:03.743604",
          "status": "completed"
        },
        "tags": [],
        "id": "historical-greene"
      },
      "source": [
        "## Normalizing pixel values "
      ]
    },
    {
      "cell_type": "code",
      "execution_count": null,
      "id": "artificial-authority",
      "metadata": {
        "execution": {
          "iopub.execute_input": "2021-08-14T14:43:04.020287Z",
          "iopub.status.busy": "2021-08-14T14:43:04.019367Z",
          "iopub.status.idle": "2021-08-14T14:43:04.030303Z",
          "shell.execute_reply": "2021-08-14T14:43:04.029891Z",
          "shell.execute_reply.started": "2021-06-20T07:25:06.699145Z"
        },
        "papermill": {
          "duration": 0.105955,
          "end_time": "2021-08-14T14:43:04.030417",
          "exception": false,
          "start_time": "2021-08-14T14:43:03.924462",
          "status": "completed"
        },
        "tags": [],
        "id": "artificial-authority"
      },
      "outputs": [],
      "source": [
        "X_train = X_train / 255.0\n",
        "X_test = X_test / 255.0"
      ]
    },
    {
      "cell_type": "markdown",
      "id": "racial-effect",
      "metadata": {
        "papermill": {
          "duration": 0.093833,
          "end_time": "2021-08-14T14:43:04.219050",
          "exception": false,
          "start_time": "2021-08-14T14:43:04.125217",
          "status": "completed"
        },
        "tags": [],
        "id": "racial-effect"
      },
      "source": [
        "## Converting single values to category array "
      ]
    },
    {
      "cell_type": "code",
      "execution_count": null,
      "id": "configured-integer",
      "metadata": {
        "execution": {
          "iopub.execute_input": "2021-08-14T14:43:04.413201Z",
          "iopub.status.busy": "2021-08-14T14:43:04.412330Z",
          "iopub.status.idle": "2021-08-14T14:43:04.415752Z",
          "shell.execute_reply": "2021-08-14T14:43:04.416156Z",
          "shell.execute_reply.started": "2021-06-20T07:25:06.717423Z"
        },
        "papermill": {
          "duration": 0.102966,
          "end_time": "2021-08-14T14:43:04.416289",
          "exception": false,
          "start_time": "2021-08-14T14:43:04.313323",
          "status": "completed"
        },
        "tags": [],
        "id": "configured-integer",
        "outputId": "691368a2-6d92-4b49-f95b-6ee156e5b6c0",
        "colab": {
          "base_uri": "https://localhost:8080/"
        }
      },
      "outputs": [
        {
          "output_type": "execute_result",
          "data": {
            "text/plain": [
              "array([6])"
            ]
          },
          "metadata": {},
          "execution_count": 29
        }
      ],
      "source": [
        "y_train[0]"
      ]
    },
    {
      "cell_type": "code",
      "execution_count": null,
      "id": "exterior-profit",
      "metadata": {
        "execution": {
          "iopub.execute_input": "2021-08-14T14:43:04.605388Z",
          "iopub.status.busy": "2021-08-14T14:43:04.604766Z",
          "iopub.status.idle": "2021-08-14T14:43:04.607638Z",
          "shell.execute_reply": "2021-08-14T14:43:04.607220Z",
          "shell.execute_reply.started": "2021-06-20T07:25:06.727207Z"
        },
        "papermill": {
          "duration": 0.098307,
          "end_time": "2021-08-14T14:43:04.607748",
          "exception": false,
          "start_time": "2021-08-14T14:43:04.509441",
          "status": "completed"
        },
        "tags": [],
        "id": "exterior-profit"
      },
      "outputs": [],
      "source": [
        "y_train = tf.keras.utils.to_categorical(y_train)\n",
        "y_test = tf.keras.utils.to_categorical(y_test)"
      ]
    },
    {
      "cell_type": "code",
      "execution_count": null,
      "id": "fluid-subscription",
      "metadata": {
        "execution": {
          "iopub.execute_input": "2021-08-14T14:43:04.795186Z",
          "iopub.status.busy": "2021-08-14T14:43:04.794657Z",
          "iopub.status.idle": "2021-08-14T14:43:04.800429Z",
          "shell.execute_reply": "2021-08-14T14:43:04.800003Z",
          "shell.execute_reply.started": "2021-06-20T07:25:06.73489Z"
        },
        "papermill": {
          "duration": 0.101488,
          "end_time": "2021-08-14T14:43:04.800562",
          "exception": false,
          "start_time": "2021-08-14T14:43:04.699074",
          "status": "completed"
        },
        "tags": [],
        "id": "fluid-subscription",
        "outputId": "78f6d8ce-da09-4e31-806b-4d79abd60c29",
        "colab": {
          "base_uri": "https://localhost:8080/"
        }
      },
      "outputs": [
        {
          "output_type": "execute_result",
          "data": {
            "text/plain": [
              "array([0., 0., 0., 0., 0., 0., 1.], dtype=float32)"
            ]
          },
          "metadata": {},
          "execution_count": 31
        }
      ],
      "source": [
        "y_train[0]"
      ]
    },
    {
      "cell_type": "code",
      "execution_count": null,
      "id": "sitting-portland",
      "metadata": {
        "execution": {
          "iopub.execute_input": "2021-08-14T14:43:04.988529Z",
          "iopub.status.busy": "2021-08-14T14:43:04.987899Z",
          "iopub.status.idle": "2021-08-14T14:43:04.990463Z",
          "shell.execute_reply": "2021-08-14T14:43:04.990870Z",
          "shell.execute_reply.started": "2021-06-20T07:25:06.747788Z"
        },
        "papermill": {
          "duration": 0.099088,
          "end_time": "2021-08-14T14:43:04.990998",
          "exception": false,
          "start_time": "2021-08-14T14:43:04.891910",
          "status": "completed"
        },
        "tags": [],
        "id": "sitting-portland",
        "outputId": "b1c62455-1bc0-40ed-d87f-ac4e10551af0",
        "colab": {
          "base_uri": "https://localhost:8080/"
        }
      },
      "outputs": [
        {
          "output_type": "execute_result",
          "data": {
            "text/plain": [
              "((784, 7), (197, 7))"
            ]
          },
          "metadata": {},
          "execution_count": 32
        }
      ],
      "source": [
        "y_train.shape, y_test.shape"
      ]
    },
    {
      "cell_type": "code",
      "source": [
        "def create_model(input_shape=None):\n",
        "    if input_shape is None :\n",
        "        input_shape=(48,48,1)\n",
        "     \n",
        "    model = Sequential()\n",
        "    #first conv layer\n",
        "    model.add(Conv2D(6, (5, 5), input_shape=input_shape, padding='same', activation = 'relu'))\n",
        "    model.add(BatchNormalization())\n",
        "    model.add(MaxPool2D(pool_size=(2, 2)))\n",
        "    #second conv layer\n",
        "    model.add(Conv2D(16, (5, 5), padding='same', activation = 'relu'))\n",
        "    model.add(BatchNormalization())\n",
        "    model.add(MaxPool2D(pool_size=(2, 2)))\n",
        "    model.add(Dropout(0.1))\n",
        "    #third conv layer\n",
        "    model.add(Conv2D(64, (3, 3), activation = 'relu'))\n",
        "    model.add(BatchNormalization())\n",
        "    model.add(MaxPool2D(pool_size=(2, 2)))\n",
        "    model.add(Dropout(0.2))\n",
        "    #fourth conv layer\n",
        "    model.add(Conv2D(128, (3, 3), activation = 'relu'))\n",
        "    model.add(BatchNormalization())\n",
        "    model.add(MaxPool2D(pool_size=(2, 2)))\n",
        "    #fc layer\n",
        "    model.add(Flatten())\n",
        "    model.add(Dense(128, activation = 'relu'))\n",
        "    model.add(Dropout(0.5))\n",
        "    model.add(Dense(7, activation = 'softmax'))\n",
        "    \n",
        "    return model"
      ],
      "metadata": {
        "id": "Aqdt1CXIObSN"
      },
      "id": "Aqdt1CXIObSN",
      "execution_count": null,
      "outputs": []
    },
    {
      "cell_type": "code",
      "source": [
        "#Using callback to help building better model and to prevent overfitting\n",
        "early_stop = EarlyStopping(monitor='val_loss',\n",
        "                           patience=10,\n",
        "                           mode='min',\n",
        "                           min_delta=0.001,\n",
        "                           restore_best_weights=True)\n",
        "\n",
        "learning_rate_reduction = ReduceLROnPlateau(monitor='val_accuracy',\n",
        "                                            patience = 2,\n",
        "                                            verbose=1,\n",
        "                                            factor=0.3,\n",
        "                                            min_lr=0.000001)\n",
        "\n",
        "callbacks = [early_stop,learning_rate_reduction]"
      ],
      "metadata": {
        "id": "aZvImI3uOh93"
      },
      "id": "aZvImI3uOh93",
      "execution_count": null,
      "outputs": []
    },
    {
      "cell_type": "code",
      "source": [
        "def plot_performance(history):\n",
        "    plt.figure(figsize=(10, 6))\n",
        "\n",
        "    plt.subplot(2, 1, 1)\n",
        "    plt.plot(history.history['loss'], label='train')\n",
        "    plt.plot(history.history['val_loss'], label='val')\n",
        "\n",
        "    plt.legend()\n",
        "    plt.grid()\n",
        "    plt.title('train and val loss evolution')\n",
        "\n",
        "    plt.subplot(2, 1, 2)\n",
        "    plt.plot(history.history['accuracy'], label='train')\n",
        "    plt.plot(history.history['val_accuracy'], label='val')\n",
        "\n",
        "    plt.legend()\n",
        "    plt.grid()\n",
        "    plt.title('train and val accuracy')"
      ],
      "metadata": {
        "id": "NiA3K4wDU_2f"
      },
      "id": "NiA3K4wDU_2f",
      "execution_count": null,
      "outputs": []
    },
    {
      "cell_type": "markdown",
      "id": "married-willow",
      "metadata": {
        "papermill": {
          "duration": 0.18033,
          "end_time": "2021-08-14T14:44:36.254886",
          "exception": false,
          "start_time": "2021-08-14T14:44:36.074556",
          "status": "completed"
        },
        "tags": [],
        "id": "married-willow"
      },
      "source": [
        "# LBP Feature Extraction\n"
      ]
    },
    {
      "cell_type": "code",
      "execution_count": null,
      "id": "plain-harmony",
      "metadata": {
        "execution": {
          "iopub.execute_input": "2021-08-14T14:44:36.628138Z",
          "iopub.status.busy": "2021-08-14T14:44:36.627399Z",
          "iopub.status.idle": "2021-08-14T14:44:36.631105Z",
          "shell.execute_reply": "2021-08-14T14:44:36.630662Z",
          "shell.execute_reply.started": "2021-06-16T08:18:31.852562Z"
        },
        "papermill": {
          "duration": 0.193832,
          "end_time": "2021-08-14T14:44:36.631213",
          "exception": false,
          "start_time": "2021-08-14T14:44:36.437381",
          "status": "completed"
        },
        "tags": [],
        "id": "plain-harmony"
      },
      "outputs": [],
      "source": [
        "def Binarypattern(im):                               # creating function to get local binary pattern\n",
        "    img= np.zeros_like(im)\n",
        "    n=3                                              # taking kernel of size 3*3\n",
        "    for i in range(0,im.shape[0]-n):                 # for image height\n",
        "        for j in range(0,im.shape[1]-n):               # for image width\n",
        "            x  = im[i:i+n,j:j+n]                     # reading the entire image in 3*3 format\n",
        "            center       = x[1,1]                    # taking the center value for 3*3 kernel\n",
        "            img1        = (x >= center)*1.0          # checking if neighbouring values of center value is greater or less than center value\n",
        "            img1_vector = img1.T.flatten()           # getting the image pixel values \n",
        "            img1_vector = np.delete(img1_vector,4)  \n",
        "            digit = np.where(img1_vector)[0]         \n",
        "            if len(digit) >= 1:                     # converting the neighbouring pixels according to center pixel value\n",
        "                num = np.sum(2**digit)              # if n> center assign 1 and if n<center assign 0\n",
        "            else:                                    # if 1 then multiply by 2^digit and if 0 then making value 0 and aggregating all the values of kernel to get new center value\n",
        "                num = 0\n",
        "            img[i+1,j+1] = num\n",
        "    return(img)"
      ]
    },
    {
      "cell_type": "markdown",
      "id": "dressed-survivor",
      "metadata": {
        "papermill": {
          "duration": 0.184157,
          "end_time": "2021-08-14T14:44:36.998931",
          "exception": false,
          "start_time": "2021-08-14T14:44:36.814774",
          "status": "completed"
        },
        "tags": [],
        "id": "dressed-survivor"
      },
      "source": [
        "### How LBP looks ?"
      ]
    },
    {
      "cell_type": "code",
      "execution_count": null,
      "id": "spanish-paste",
      "metadata": {
        "execution": {
          "iopub.execute_input": "2021-08-14T14:44:37.392894Z",
          "iopub.status.busy": "2021-08-14T14:44:37.381354Z",
          "iopub.status.idle": "2021-08-14T14:44:37.600118Z",
          "shell.execute_reply": "2021-08-14T14:44:37.600598Z",
          "shell.execute_reply.started": "2021-06-16T08:18:31.865641Z"
        },
        "papermill": {
          "duration": 0.419787,
          "end_time": "2021-08-14T14:44:37.600747",
          "exception": false,
          "start_time": "2021-08-14T14:44:37.180960",
          "status": "completed"
        },
        "tags": [],
        "id": "spanish-paste",
        "outputId": "618247c0-7bb1-4f8b-e1a4-589ed59cf133",
        "colab": {
          "base_uri": "https://localhost:8080/",
          "height": 453
        }
      },
      "outputs": [
        {
          "output_type": "execute_result",
          "data": {
            "text/plain": [
              "(-0.5, 47.5, 47.5, -0.5)"
            ]
          },
          "metadata": {},
          "execution_count": 37
        },
        {
          "output_type": "display_data",
          "data": {
            "text/plain": [
              "<Figure size 1000x1000 with 2 Axes>"
            ],
            "image/png": "[encoded data removed]"
          },
          "metadata": {}
        }
      ],
      "source": [
        "plt.figure(figsize = (10,10))\n",
        "\n",
        "plt.subplot(1,2,1)\n",
        "img = random.choice(X_train)       #choose randomly from x_train\n",
        "plt.title(\"Original  image\")\n",
        "plt.imshow(img, cmap='gray')\n",
        "\n",
        "plt.subplot(1,2,2)\n",
        "plt.title(\"LBP\")\n",
        "imgLBP=Binarypattern(img)             # calling the LBP function using gray image\n",
        "plt.imshow(imgLBP, cmap='gray')\n",
        "plt.axis('off')"
      ]
    },
    {
      "cell_type": "markdown",
      "id": "laden-crystal",
      "metadata": {
        "papermill": {
          "duration": 0.17273,
          "end_time": "2021-08-14T14:44:37.947087",
          "exception": false,
          "start_time": "2021-08-14T14:44:37.774357",
          "status": "completed"
        },
        "tags": [],
        "id": "laden-crystal"
      },
      "source": [
        "### Creating Feature Vectors for training and testing "
      ]
    },
    {
      "cell_type": "code",
      "execution_count": null,
      "id": "settled-recruitment",
      "metadata": {
        "execution": {
          "iopub.execute_input": "2021-08-14T14:44:38.297752Z",
          "iopub.status.busy": "2021-08-14T14:44:38.296894Z",
          "iopub.status.idle": "2021-08-14T14:44:38.300688Z",
          "shell.execute_reply": "2021-08-14T14:44:38.301394Z",
          "shell.execute_reply.started": "2021-06-16T08:18:32.565677Z"
        },
        "papermill": {
          "duration": 0.183615,
          "end_time": "2021-08-14T14:44:38.301592",
          "exception": false,
          "start_time": "2021-08-14T14:44:38.117977",
          "status": "completed"
        },
        "tags": [],
        "id": "settled-recruitment",
        "outputId": "f67d07d1-05a9-40f6-ab86-22449b8837a9",
        "colab": {
          "base_uri": "https://localhost:8080/"
        }
      },
      "outputs": [
        {
          "output_type": "execute_result",
          "data": {
            "text/plain": [
              "(784, 48, 48, 1)"
            ]
          },
          "metadata": {},
          "execution_count": 38
        }
      ],
      "source": [
        "X_train.shape"
      ]
    },
    {
      "cell_type": "markdown",
      "source": [
        "### LBP extracted features"
      ],
      "metadata": {
        "id": "hcga__JglE1d"
      },
      "id": "hcga__JglE1d"
    },
    {
      "cell_type": "code",
      "execution_count": null,
      "id": "bearing-newfoundland",
      "metadata": {
        "execution": {
          "iopub.execute_input": "2021-08-14T14:44:38.657072Z",
          "iopub.status.busy": "2021-08-14T14:44:38.656185Z",
          "iopub.status.idle": "2021-08-14T14:44:38.660239Z",
          "shell.execute_reply": "2021-08-14T14:44:38.659597Z",
          "shell.execute_reply.started": "2021-06-16T08:18:32.581502Z"
        },
        "papermill": {
          "duration": 0.182456,
          "end_time": "2021-08-14T14:44:38.660400",
          "exception": false,
          "start_time": "2021-08-14T14:44:38.477944",
          "status": "completed"
        },
        "tags": [],
        "id": "bearing-newfoundland"
      },
      "outputs": [],
      "source": [
        "def create_LBP_features(data):\n",
        "    Feature_data = np.zeros(data.shape)\n",
        "\n",
        "    for i in range(len(data)):\n",
        "        img = data[i]\n",
        "        imgLBP=Binarypattern(img)  \n",
        "        Feature_data[i] = imgLBP\n",
        "    \n",
        "    return Feature_data"
      ]
    },
    {
      "cell_type": "code",
      "execution_count": null,
      "id": "martial-notebook",
      "metadata": {
        "execution": {
          "iopub.execute_input": "2021-08-14T14:44:39.007123Z",
          "iopub.status.busy": "2021-08-14T14:44:39.006288Z",
          "iopub.status.idle": "2021-08-14T14:45:21.907833Z",
          "shell.execute_reply": "2021-08-14T14:45:21.907260Z",
          "shell.execute_reply.started": "2021-06-16T08:18:32.596141Z"
        },
        "papermill": {
          "duration": 43.075687,
          "end_time": "2021-08-14T14:45:21.908008",
          "exception": false,
          "start_time": "2021-08-14T14:44:38.832321",
          "status": "completed"
        },
        "tags": [],
        "id": "martial-notebook"
      },
      "outputs": [],
      "source": [
        "Feature_X_train = create_LBP_features(X_train)"
      ]
    },
    {
      "cell_type": "code",
      "execution_count": null,
      "id": "vital-works",
      "metadata": {
        "execution": {
          "iopub.execute_input": "2021-08-14T14:45:22.295325Z",
          "iopub.status.busy": "2021-08-14T14:45:22.294602Z",
          "iopub.status.idle": "2021-08-14T14:45:22.298513Z",
          "shell.execute_reply": "2021-08-14T14:45:22.298050Z",
          "shell.execute_reply.started": "2021-06-16T08:19:30.368918Z"
        },
        "papermill": {
          "duration": 0.200313,
          "end_time": "2021-08-14T14:45:22.298632",
          "exception": false,
          "start_time": "2021-08-14T14:45:22.098319",
          "status": "completed"
        },
        "tags": [],
        "id": "vital-works",
        "outputId": "c0345e8c-aa42-46a0-a1d2-518015fc5906",
        "colab": {
          "base_uri": "https://localhost:8080/"
        }
      },
      "outputs": [
        {
          "output_type": "execute_result",
          "data": {
            "text/plain": [
              "(784, 48, 48, 1)"
            ]
          },
          "metadata": {},
          "execution_count": 41
        }
      ],
      "source": [
        "Feature_X_train.shape"
      ]
    },
    {
      "cell_type": "markdown",
      "source": [
        "### LBP in training set"
      ],
      "metadata": {
        "id": "YPGqS_kFlocz"
      },
      "id": "YPGqS_kFlocz"
    },
    {
      "cell_type": "code",
      "execution_count": null,
      "id": "careful-friendship",
      "metadata": {
        "execution": {
          "iopub.execute_input": "2021-08-14T14:45:22.890715Z",
          "iopub.status.busy": "2021-08-14T14:45:22.889702Z",
          "iopub.status.idle": "2021-08-14T14:45:23.015547Z",
          "shell.execute_reply": "2021-08-14T14:45:23.015090Z",
          "shell.execute_reply.started": "2021-06-16T08:19:30.378209Z"
        },
        "papermill": {
          "duration": 0.531767,
          "end_time": "2021-08-14T14:45:23.015670",
          "exception": false,
          "start_time": "2021-08-14T14:45:22.483903",
          "status": "completed"
        },
        "tags": [],
        "id": "careful-friendship",
        "outputId": "eb2bfb91-881f-419e-94c4-067c841845b9",
        "colab": {
          "base_uri": "https://localhost:8080/",
          "height": 449
        }
      },
      "outputs": [
        {
          "output_type": "execute_result",
          "data": {
            "text/plain": [
              "<matplotlib.image.AxesImage at 0x7fa9dab8cfa0>"
            ]
          },
          "metadata": {},
          "execution_count": 42
        },
        {
          "output_type": "display_data",
          "data": {
            "text/plain": [
              "<Figure size 640x480 with 1 Axes>"
            ],
            "image/png": "[encoded data removed]"
          },
          "metadata": {}
        }
      ],
      "source": [
        "img = random.choice(Feature_X_train)\n",
        "plt.imshow(img, cmap='gray')"
      ]
    },
    {
      "cell_type": "markdown",
      "source": [
        "### LBP in testing set"
      ],
      "metadata": {
        "id": "skq6L38FlyQq"
      },
      "id": "skq6L38FlyQq"
    },
    {
      "cell_type": "code",
      "execution_count": null,
      "id": "north-hobby",
      "metadata": {
        "execution": {
          "iopub.execute_input": "2021-08-14T14:45:23.394097Z",
          "iopub.status.busy": "2021-08-14T14:45:23.393223Z",
          "iopub.status.idle": "2021-08-14T14:45:35.562832Z",
          "shell.execute_reply": "2021-08-14T14:45:35.562386Z",
          "shell.execute_reply.started": "2021-06-16T08:19:30.530228Z"
        },
        "papermill": {
          "duration": 12.362347,
          "end_time": "2021-08-14T14:45:35.562954",
          "exception": false,
          "start_time": "2021-08-14T14:45:23.200607",
          "status": "completed"
        },
        "tags": [],
        "id": "north-hobby",
        "outputId": "c2a27d62-5b22-48a6-942c-2b382825384b",
        "colab": {
          "base_uri": "https://localhost:8080/"
        }
      },
      "outputs": [
        {
          "output_type": "execute_result",
          "data": {
            "text/plain": [
              "(197, 48, 48, 1)"
            ]
          },
          "metadata": {},
          "execution_count": 43
        }
      ],
      "source": [
        "Feature_X_test = create_LBP_features(X_test)\n",
        "Feature_X_test.shape"
      ]
    },
    {
      "cell_type": "code",
      "execution_count": null,
      "id": "deadly-camcorder",
      "metadata": {
        "execution": {
          "iopub.execute_input": "2021-08-14T14:45:35.955649Z",
          "iopub.status.busy": "2021-08-14T14:45:35.954600Z",
          "iopub.status.idle": "2021-08-14T14:45:36.057437Z",
          "shell.execute_reply": "2021-08-14T14:45:36.057946Z",
          "shell.execute_reply.started": "2021-06-16T08:19:45.589537Z"
        },
        "papermill": {
          "duration": 0.306205,
          "end_time": "2021-08-14T14:45:36.058112",
          "exception": false,
          "start_time": "2021-08-14T14:45:35.751907",
          "status": "completed"
        },
        "tags": [],
        "id": "deadly-camcorder",
        "outputId": "f5b958ae-1907-42d7-bab7-e4efb4189389",
        "colab": {
          "base_uri": "https://localhost:8080/",
          "height": 449
        }
      },
      "outputs": [
        {
          "output_type": "execute_result",
          "data": {
            "text/plain": [
              "<matplotlib.image.AxesImage at 0x7fa9dce246d0>"
            ]
          },
          "metadata": {},
          "execution_count": 44
        },
        {
          "output_type": "display_data",
          "data": {
            "text/plain": [
              "<Figure size 640x480 with 1 Axes>"
            ],
            "image/png": "[encoded data removed]"
          },
          "metadata": {}
        }
      ],
      "source": [
        "img = random.choice(Feature_X_test)\n",
        "plt.imshow(img, cmap='gray')"
      ]
    },
    {
      "cell_type": "markdown",
      "id": "amber-special",
      "metadata": {
        "papermill": {
          "duration": 0.188651,
          "end_time": "2021-08-14T14:45:36.432931",
          "exception": false,
          "start_time": "2021-08-14T14:45:36.244280",
          "status": "completed"
        },
        "tags": [],
        "id": "amber-special"
      },
      "source": [
        "### CNN classification based on LBP features"
      ]
    },
    {
      "cell_type": "code",
      "execution_count": null,
      "id": "searching-cookie",
      "metadata": {
        "execution": {
          "iopub.execute_input": "2021-08-14T14:45:36.814173Z",
          "iopub.status.busy": "2021-08-14T14:45:36.813249Z",
          "iopub.status.idle": "2021-08-14T14:45:36.874968Z",
          "shell.execute_reply": "2021-08-14T14:45:36.874551Z",
          "shell.execute_reply.started": "2021-06-16T08:36:06.022065Z"
        },
        "papermill": {
          "duration": 0.254023,
          "end_time": "2021-08-14T14:45:36.875085",
          "exception": false,
          "start_time": "2021-08-14T14:45:36.621062",
          "status": "completed"
        },
        "tags": [],
        "id": "searching-cookie",
        "colab": {
          "base_uri": "https://localhost:8080/"
        },
        "outputId": "b46da258-527a-45bd-d7ee-b06712c7bfd9"
      },
      "outputs": [
        {
          "output_type": "stream",
          "name": "stdout",
          "text": [
            "Model: \"sequential\"\n",
            "_________________________________________________________________\n",
            " Layer (type)                Output Shape              Param #   \n",
            "=================================================================\n",
            " conv2d (Conv2D)             (None, 48, 48, 6)         156       \n",
            "                                                                 \n",
            " batch_normalization (BatchN  (None, 48, 48, 6)        24        \n",
            " ormalization)                                                   \n",
            "                                                                 \n",
            " max_pooling2d (MaxPooling2D  (None, 24, 24, 6)        0         \n",
            " )                                                               \n",
            "                                                                 \n",
            " conv2d_1 (Conv2D)           (None, 24, 24, 16)        2416      \n",
            "                                                                 \n",
            " batch_normalization_1 (Batc  (None, 24, 24, 16)       64        \n",
            " hNormalization)                                                 \n",
            "                                                                 \n",
            " max_pooling2d_1 (MaxPooling  (None, 12, 12, 16)       0         \n",
            " 2D)                                                             \n",
            "                                                                 \n",
            " dropout (Dropout)           (None, 12, 12, 16)        0         \n",
            "                                                                 \n",
            " conv2d_2 (Conv2D)           (None, 10, 10, 64)        9280      \n",
            "                                                                 \n",
            " batch_normalization_2 (Batc  (None, 10, 10, 64)       256       \n",
            " hNormalization)                                                 \n",
            "                                                                 \n",
            " max_pooling2d_2 (MaxPooling  (None, 5, 5, 64)         0         \n",
            " 2D)                                                             \n",
            "                                                                 \n",
            " dropout_1 (Dropout)         (None, 5, 5, 64)          0         \n",
            "                                                                 \n",
            " conv2d_3 (Conv2D)           (None, 3, 3, 128)         73856     \n",
            "                                                                 \n",
            " batch_normalization_3 (Batc  (None, 3, 3, 128)        512       \n",
            " hNormalization)                                                 \n",
            "                                                                 \n",
            " max_pooling2d_3 (MaxPooling  (None, 1, 1, 128)        0         \n",
            " 2D)                                                             \n",
            "                                                                 \n",
            " flatten (Flatten)           (None, 128)               0         \n",
            "                                                                 \n",
            " dense (Dense)               (None, 128)               16512     \n",
            "                                                                 \n",
            " dropout_2 (Dropout)         (None, 128)               0         \n",
            "                                                                 \n",
            " dense_1 (Dense)             (None, 7)                 903       \n",
            "                                                                 \n",
            "=================================================================\n",
            "Total params: 103,979\n",
            "Trainable params: 103,551\n",
            "Non-trainable params: 428\n",
            "_________________________________________________________________\n"
          ]
        }
      ],
      "source": [
        "LBP_model = create_model()\n",
        "LBP_model.summary()\n",
        "LBP_model.compile(loss='categorical_crossentropy', metrics=['accuracy'], optimizer='adam' )"
      ]
    },
    {
      "cell_type": "code",
      "execution_count": null,
      "id": "considered-research",
      "metadata": {
        "execution": {
          "iopub.execute_input": "2021-08-14T14:45:37.256406Z",
          "iopub.status.busy": "2021-08-14T14:45:37.255238Z",
          "iopub.status.idle": "2021-08-14T14:45:51.354262Z",
          "shell.execute_reply": "2021-08-14T14:45:51.353801Z",
          "shell.execute_reply.started": "2021-06-16T08:36:06.110704Z"
        },
        "papermill": {
          "duration": 14.290961,
          "end_time": "2021-08-14T14:45:51.354383",
          "exception": false,
          "start_time": "2021-08-14T14:45:37.063422",
          "status": "completed"
        },
        "tags": [],
        "id": "considered-research",
        "outputId": "1235d111-2267-4bdb-8a6a-ab7160764c49",
        "colab": {
          "base_uri": "https://localhost:8080/"
        }
      },
      "outputs": [
        {
          "output_type": "stream",
          "name": "stdout",
          "text": [
            "Epoch 1/50\n",
            "98/98 [==============================] - 14s 10ms/step - loss: 1.9624 - accuracy: 0.3189 - val_loss: 2.1922 - val_accuracy: 0.2690 - lr: 0.0010\n",
            "Epoch 2/50\n",
            "98/98 [==============================] - 1s 7ms/step - loss: 1.3054 - accuracy: 0.5217 - val_loss: 1.3096 - val_accuracy: 0.5330 - lr: 0.0010\n",
            "Epoch 3/50\n",
            "98/98 [==============================] - 1s 7ms/step - loss: 0.9626 - accuracy: 0.6531 - val_loss: 0.8114 - val_accuracy: 0.7107 - lr: 0.0010\n",
            "Epoch 4/50\n",
            "98/98 [==============================] - 1s 10ms/step - loss: 0.7312 - accuracy: 0.7321 - val_loss: 0.6724 - val_accuracy: 0.7766 - lr: 0.0010\n",
            "Epoch 5/50\n",
            "98/98 [==============================] - 1s 10ms/step - loss: 0.5855 - accuracy: 0.7959 - val_loss: 0.6005 - val_accuracy: 0.7716 - lr: 0.0010\n",
            "Epoch 6/50\n",
            "98/98 [==============================] - 1s 9ms/step - loss: 0.4138 - accuracy: 0.8661 - val_loss: 0.4185 - val_accuracy: 0.8528 - lr: 0.0010\n",
            "Epoch 7/50\n",
            "98/98 [==============================] - 1s 7ms/step - loss: 0.3119 - accuracy: 0.8890 - val_loss: 0.4451 - val_accuracy: 0.8325 - lr: 0.0010\n",
            "Epoch 8/50\n",
            "98/98 [==============================] - 1s 7ms/step - loss: 0.3022 - accuracy: 0.8954 - val_loss: 0.3091 - val_accuracy: 0.9086 - lr: 0.0010\n",
            "Epoch 9/50\n",
            "98/98 [==============================] - 1s 7ms/step - loss: 0.2339 - accuracy: 0.9158 - val_loss: 0.2440 - val_accuracy: 0.9036 - lr: 0.0010\n",
            "Epoch 10/50\n",
            "93/98 [===========================>..] - ETA: 0s - loss: 0.1683 - accuracy: 0.9449\n",
            "Epoch 10: ReduceLROnPlateau reducing learning rate to 0.0003000000142492354.\n",
            "98/98 [==============================] - 1s 7ms/step - loss: 0.1652 - accuracy: 0.9464 - val_loss: 0.2833 - val_accuracy: 0.8985 - lr: 0.0010\n",
            "Epoch 11/50\n",
            "98/98 [==============================] - 1s 8ms/step - loss: 0.0973 - accuracy: 0.9732 - val_loss: 0.1756 - val_accuracy: 0.9391 - lr: 3.0000e-04\n",
            "Epoch 12/50\n",
            "98/98 [==============================] - 1s 7ms/step - loss: 0.0861 - accuracy: 0.9707 - val_loss: 0.1686 - val_accuracy: 0.9442 - lr: 3.0000e-04\n",
            "Epoch 13/50\n",
            "98/98 [==============================] - 1s 7ms/step - loss: 0.0577 - accuracy: 0.9847 - val_loss: 0.2051 - val_accuracy: 0.9239 - lr: 3.0000e-04\n",
            "Epoch 14/50\n",
            "91/98 [==========================>...] - ETA: 0s - loss: 0.0401 - accuracy: 0.9918\n",
            "Epoch 14: ReduceLROnPlateau reducing learning rate to 9.000000427477062e-05.\n",
            "98/98 [==============================] - 1s 7ms/step - loss: 0.0446 - accuracy: 0.9885 - val_loss: 0.1594 - val_accuracy: 0.9442 - lr: 3.0000e-04\n",
            "Epoch 15/50\n",
            "98/98 [==============================] - 1s 7ms/step - loss: 0.0686 - accuracy: 0.9745 - val_loss: 0.1465 - val_accuracy: 0.9492 - lr: 9.0000e-05\n",
            "Epoch 16/50\n",
            "98/98 [==============================] - 1s 7ms/step - loss: 0.0400 - accuracy: 0.9911 - val_loss: 0.1459 - val_accuracy: 0.9492 - lr: 9.0000e-05\n",
            "Epoch 17/50\n",
            "98/98 [==============================] - 1s 7ms/step - loss: 0.0378 - accuracy: 0.9911 - val_loss: 0.1393 - val_accuracy: 0.9543 - lr: 9.0000e-05\n",
            "Epoch 18/50\n",
            "98/98 [==============================] - 1s 8ms/step - loss: 0.0363 - accuracy: 0.9923 - val_loss: 0.1340 - val_accuracy: 0.9492 - lr: 9.0000e-05\n",
            "Epoch 19/50\n",
            "91/98 [==========================>...] - ETA: 0s - loss: 0.0382 - accuracy: 0.9918\n",
            "Epoch 19: ReduceLROnPlateau reducing learning rate to 2.700000040931627e-05.\n",
            "98/98 [==============================] - 1s 7ms/step - loss: 0.0402 - accuracy: 0.9911 - val_loss: 0.1448 - val_accuracy: 0.9543 - lr: 9.0000e-05\n",
            "Epoch 20/50\n",
            "98/98 [==============================] - 1s 7ms/step - loss: 0.0504 - accuracy: 0.9860 - val_loss: 0.1430 - val_accuracy: 0.9442 - lr: 2.7000e-05\n",
            "Epoch 21/50\n",
            "92/98 [===========================>..] - ETA: 0s - loss: 0.0368 - accuracy: 0.9905\n",
            "Epoch 21: ReduceLROnPlateau reducing learning rate to 8.100000013655517e-06.\n",
            "98/98 [==============================] - 1s 10ms/step - loss: 0.0354 - accuracy: 0.9911 - val_loss: 0.1448 - val_accuracy: 0.9442 - lr: 2.7000e-05\n",
            "Epoch 22/50\n",
            "98/98 [==============================] - 1s 10ms/step - loss: 0.0381 - accuracy: 0.9885 - val_loss: 0.1425 - val_accuracy: 0.9442 - lr: 8.1000e-06\n",
            "Epoch 23/50\n",
            "97/98 [============================>.] - ETA: 0s - loss: 0.0297 - accuracy: 0.9910\n",
            "Epoch 23: ReduceLROnPlateau reducing learning rate to 2.429999949526973e-06.\n",
            "98/98 [==============================] - 1s 8ms/step - loss: 0.0321 - accuracy: 0.9898 - val_loss: 0.1435 - val_accuracy: 0.9442 - lr: 8.1000e-06\n",
            "Epoch 24/50\n",
            "98/98 [==============================] - 1s 7ms/step - loss: 0.0377 - accuracy: 0.9898 - val_loss: 0.1431 - val_accuracy: 0.9442 - lr: 2.4300e-06\n",
            "Epoch 25/50\n",
            "95/98 [============================>.] - ETA: 0s - loss: 0.0384 - accuracy: 0.9934\n",
            "Epoch 25: ReduceLROnPlateau reducing learning rate to 1e-06.\n",
            "98/98 [==============================] - 1s 7ms/step - loss: 0.0399 - accuracy: 0.9923 - val_loss: 0.1422 - val_accuracy: 0.9442 - lr: 2.4300e-06\n",
            "Epoch 26/50\n",
            "98/98 [==============================] - 1s 7ms/step - loss: 0.0386 - accuracy: 0.9911 - val_loss: 0.1426 - val_accuracy: 0.9442 - lr: 1.0000e-06\n",
            "Epoch 27/50\n",
            "98/98 [==============================] - 1s 7ms/step - loss: 0.0399 - accuracy: 0.9872 - val_loss: 0.1423 - val_accuracy: 0.9442 - lr: 1.0000e-06\n",
            "Epoch 28/50\n",
            "98/98 [==============================] - 1s 7ms/step - loss: 0.0370 - accuracy: 0.9923 - val_loss: 0.1429 - val_accuracy: 0.9442 - lr: 1.0000e-06\n"
          ]
        }
      ],
      "source": [
        "LBP_history = LBP_model.fit(Feature_X_train, y_train, batch_size=8 , epochs=50, validation_data = (Feature_X_test, y_test) ,callbacks = [callbacks])"
      ]
    },
    {
      "cell_type": "code",
      "execution_count": null,
      "id": "automotive-threat",
      "metadata": {
        "execution": {
          "iopub.execute_input": "2021-08-14T14:45:51.846229Z",
          "iopub.status.busy": "2021-08-14T14:45:51.845309Z",
          "iopub.status.idle": "2021-08-14T14:45:52.143577Z",
          "shell.execute_reply": "2021-08-14T14:45:52.143986Z",
          "shell.execute_reply.started": "2021-06-16T08:36:27.654718Z"
        },
        "papermill": {
          "duration": 0.550013,
          "end_time": "2021-08-14T14:45:52.144137",
          "exception": false,
          "start_time": "2021-08-14T14:45:51.594124",
          "status": "completed"
        },
        "tags": [],
        "id": "automotive-threat",
        "outputId": "b4a79611-1b3d-44db-81b7-06cd1ce4c779",
        "colab": {
          "base_uri": "https://localhost:8080/",
          "height": 545
        }
      },
      "outputs": [
        {
          "output_type": "display_data",
          "data": {
            "text/plain": [
              "<Figure size 1000x600 with 2 Axes>"
            ],
            "image/png": "[encoded data removed]"
          },
          "metadata": {}
        }
      ],
      "source": [
        "plot_performance(LBP_history)"
      ]
    },
    {
      "cell_type": "code",
      "source": [
        "acc = []"
      ],
      "metadata": {
        "id": "6LUu-5NmW_hM"
      },
      "id": "6LUu-5NmW_hM",
      "execution_count": null,
      "outputs": []
    },
    {
      "cell_type": "code",
      "execution_count": null,
      "id": "every-brooklyn",
      "metadata": {
        "execution": {
          "iopub.execute_input": "2021-08-14T14:45:52.629148Z",
          "iopub.status.busy": "2021-08-14T14:45:52.628287Z",
          "iopub.status.idle": "2021-08-14T14:45:52.736035Z",
          "shell.execute_reply": "2021-08-14T14:45:52.735361Z",
          "shell.execute_reply.started": "2021-06-16T08:36:28.300734Z"
        },
        "papermill": {
          "duration": 0.352252,
          "end_time": "2021-08-14T14:45:52.736193",
          "exception": false,
          "start_time": "2021-08-14T14:45:52.383941",
          "status": "completed"
        },
        "tags": [],
        "id": "every-brooklyn",
        "outputId": "15a4fb6f-6421-4275-a1ee-92a1fe528b86",
        "colab": {
          "base_uri": "https://localhost:8080/"
        }
      },
      "outputs": [
        {
          "output_type": "stream",
          "name": "stdout",
          "text": [
            "LBP Accuracy : 0.9492385983467102\n"
          ]
        }
      ],
      "source": [
        "LBP_acc = LBP_model.evaluate(Feature_X_test, y_test, verbose = 0)[1]\n",
        "acc.append(LBP_acc)\n",
        "print(\"LBP Accuracy :\",LBP_model.evaluate(Feature_X_test, y_test, verbose = 0)[1])"
      ]
    },
    {
      "cell_type": "code",
      "execution_count": null,
      "id": "binding-truck",
      "metadata": {
        "execution": {
          "iopub.execute_input": "2021-08-14T14:45:53.226753Z",
          "iopub.status.busy": "2021-08-14T14:45:53.226187Z",
          "iopub.status.idle": "2021-08-14T14:45:53.256188Z",
          "shell.execute_reply": "2021-08-14T14:45:53.255385Z",
          "shell.execute_reply.started": "2021-06-16T08:36:28.525441Z"
        },
        "papermill": {
          "duration": 0.278704,
          "end_time": "2021-08-14T14:45:53.256320",
          "exception": false,
          "start_time": "2021-08-14T14:45:52.977616",
          "status": "completed"
        },
        "tags": [],
        "id": "binding-truck"
      },
      "outputs": [],
      "source": [
        "LBP_model.save('LBP_model.h5')"
      ]
    },
    {
      "cell_type": "markdown",
      "id": "written-checkout",
      "metadata": {
        "papermill": {
          "duration": 0.239399,
          "end_time": "2021-08-14T14:45:53.736052",
          "exception": false,
          "start_time": "2021-08-14T14:45:53.496653",
          "status": "completed"
        },
        "tags": [],
        "id": "written-checkout"
      },
      "source": [
        "# SIFT Feature Extraction"
      ]
    },
    {
      "cell_type": "markdown",
      "source": [
        "### How SIFT looks ?"
      ],
      "metadata": {
        "id": "Y1ZZtghdo2HC"
      },
      "id": "Y1ZZtghdo2HC"
    },
    {
      "cell_type": "code",
      "source": [
        "sample = random.choice(data)\n",
        "image8bit = cv2.normalize(sample[0], None, 0, 255, cv2.NORM_MINMAX).astype('uint8')\n",
        "sift = cv2.xfeatures2d.SIFT_create()\n",
        "kp, des = sift.detectAndCompute(image8bit, None)\n",
        "img_kp = cv2.drawKeypoints(image8bit, kp, sample[0])\n",
        "\n",
        "#plotting\n",
        "plt.figure(figsize = (10,10))\n",
        "plt.subplot(1,2,1)\n",
        "plt.title(\"Original Image\")\n",
        "plt.imshow(sample[0], cmap='gray')\n",
        "    \n",
        "plt.subplot(1,2,2)\n",
        "plt.title(\"SIFT\")\n",
        "plt.imshow(img_kp, cmap='gray')\n",
        "plt.axis('off')"
      ],
      "metadata": {
        "colab": {
          "base_uri": "https://localhost:8080/",
          "height": 453
        },
        "id": "-AvcWSFSlR-6",
        "outputId": "713045c0-966a-4cdd-9cc8-0af28367063c"
      },
      "id": "-AvcWSFSlR-6",
      "execution_count": null,
      "outputs": [
        {
          "output_type": "execute_result",
          "data": {
            "text/plain": [
              "(-0.5, 47.5, 47.5, -0.5)"
            ]
          },
          "metadata": {},
          "execution_count": 51
        },
        {
          "output_type": "display_data",
          "data": {
            "text/plain": [
              "<Figure size 1000x1000 with 2 Axes>"
            ],
            "image/png": "[encoded data removed]"
          },
          "metadata": {}
        }
      ]
    },
    {
      "cell_type": "code",
      "execution_count": null,
      "id": "anticipated-combining",
      "metadata": {
        "execution": {
          "iopub.execute_input": "2021-08-14T14:45:54.730281Z",
          "iopub.status.busy": "2021-08-14T14:45:54.713901Z",
          "iopub.status.idle": "2021-08-14T14:45:55.231576Z",
          "shell.execute_reply": "2021-08-14T14:45:55.231138Z",
          "shell.execute_reply.started": "2021-06-16T08:20:12.698458Z"
        },
        "papermill": {
          "duration": 0.765149,
          "end_time": "2021-08-14T14:45:55.231699",
          "exception": false,
          "start_time": "2021-08-14T14:45:54.466550",
          "status": "completed"
        },
        "tags": [],
        "id": "anticipated-combining",
        "outputId": "43797b34-8021-4db4-f994-74183288738a",
        "colab": {
          "base_uri": "https://localhost:8080/",
          "height": 796
        }
      },
      "outputs": [
        {
          "output_type": "display_data",
          "data": {
            "text/plain": [
              "<Figure size 1000x1000 with 9 Axes>"
            ],
            "image/png": "[encoded data removed]"
          },
          "metadata": {}
        }
      ],
      "source": [
        "L = 3\n",
        "W = 3\n",
        "fig, axes = plt.subplots(L, W, figsize = (10,10))\n",
        "axes = axes.ravel()\n",
        "\n",
        "for i in range(0, L * W):  \n",
        "    sample = random.choice(data)\n",
        "    image8bit = cv2.normalize(sample[0], None, 0, 255, cv2.NORM_MINMAX).astype('uint8')\n",
        "    sift = cv2.SIFT_create()\n",
        "    kp, des = sift.detectAndCompute(image8bit,None)\n",
        "\n",
        "    img = cv2.drawKeypoints(image=image8bit, outImage=sample[0], keypoints = kp)\n",
        "    axes[i].set_title(\"Expression = \"+str(CATEGORIES[sample[1]]))\n",
        "    axes[i].imshow(img, cmap='gray')\n",
        "    axes[i].axis('off')\n",
        "plt.subplots_adjust(wspace=0.5)\n"
      ]
    },
    {
      "cell_type": "code",
      "execution_count": null,
      "id": "wanted-theme",
      "metadata": {
        "execution": {
          "iopub.execute_input": "2021-08-14T14:45:55.725149Z",
          "iopub.status.busy": "2021-08-14T14:45:55.724418Z",
          "iopub.status.idle": "2021-08-14T14:45:55.730505Z",
          "shell.execute_reply": "2021-08-14T14:45:55.730083Z",
          "shell.execute_reply.started": "2021-06-16T08:20:13.365608Z"
        },
        "papermill": {
          "duration": 0.25327,
          "end_time": "2021-08-14T14:45:55.730622",
          "exception": false,
          "start_time": "2021-08-14T14:45:55.477352",
          "status": "completed"
        },
        "tags": [],
        "id": "wanted-theme",
        "outputId": "3b7de6ed-88bb-49d6-a811-b7c30dc1000c",
        "colab": {
          "base_uri": "https://localhost:8080/"
        }
      },
      "outputs": [
        {
          "output_type": "execute_result",
          "data": {
            "text/plain": [
              "(48, 48, 3)"
            ]
          },
          "metadata": {},
          "execution_count": 53
        }
      ],
      "source": [
        "img.shape"
      ]
    },
    {
      "cell_type": "markdown",
      "id": "outstanding-parish",
      "metadata": {
        "papermill": {
          "duration": 0.243326,
          "end_time": "2021-08-14T14:45:56.218839",
          "exception": false,
          "start_time": "2021-08-14T14:45:55.975513",
          "status": "completed"
        },
        "tags": [],
        "id": "outstanding-parish"
      },
      "source": [
        "so to create a feature vector we will have to create an empty array of shape (len(data), 48,48,3) "
      ]
    },
    {
      "cell_type": "markdown",
      "id": "genuine-popularity",
      "metadata": {
        "papermill": {
          "duration": 0.244722,
          "end_time": "2021-08-14T14:45:56.709196",
          "exception": false,
          "start_time": "2021-08-14T14:45:56.464474",
          "status": "completed"
        },
        "tags": [],
        "id": "genuine-popularity"
      },
      "source": [
        "### Creating Feature Vectors for training and testing "
      ]
    },
    {
      "cell_type": "code",
      "execution_count": null,
      "id": "patient-lender",
      "metadata": {
        "execution": {
          "iopub.execute_input": "2021-08-14T14:45:57.207341Z",
          "iopub.status.busy": "2021-08-14T14:45:57.206753Z",
          "iopub.status.idle": "2021-08-14T14:45:57.209882Z",
          "shell.execute_reply": "2021-08-14T14:45:57.209423Z",
          "shell.execute_reply.started": "2021-06-16T08:20:13.37653Z"
        },
        "papermill": {
          "duration": 0.254116,
          "end_time": "2021-08-14T14:45:57.209999",
          "exception": false,
          "start_time": "2021-08-14T14:45:56.955883",
          "status": "completed"
        },
        "tags": [],
        "id": "patient-lender"
      },
      "outputs": [],
      "source": [
        "def create_SIFT_features(data):\n",
        "\n",
        "    Feature_data = np.zeros((len(data),48,48,3))\n",
        "\n",
        "    for i in range(len(data)):\n",
        "        img = data[i]\n",
        "        image8bit = cv2.normalize(img, None, 0, 255, cv2.NORM_MINMAX).astype('uint8')\n",
        "        sift = cv2.SIFT_create()\n",
        "        kp, des = sift.detectAndCompute(image8bit,None)\n",
        "\n",
        "        img = cv2.drawKeypoints(image=image8bit, outImage=img, keypoints = kp)\n",
        "        Feature_data[i] = img/255.0\n",
        "\n",
        "        \n",
        "    return Feature_data \n",
        "    "
      ]
    },
    {
      "cell_type": "markdown",
      "source": [
        "### SIFT in training set"
      ],
      "metadata": {
        "id": "upFoLAEAgcuD"
      },
      "id": "upFoLAEAgcuD"
    },
    {
      "cell_type": "code",
      "execution_count": null,
      "id": "seventh-porter",
      "metadata": {
        "execution": {
          "iopub.execute_input": "2021-08-14T14:45:57.702646Z",
          "iopub.status.busy": "2021-08-14T14:45:57.701595Z",
          "iopub.status.idle": "2021-08-14T14:45:59.605061Z",
          "shell.execute_reply": "2021-08-14T14:45:59.604595Z",
          "shell.execute_reply.started": "2021-06-16T08:20:13.390839Z"
        },
        "papermill": {
          "duration": 2.152047,
          "end_time": "2021-08-14T14:45:59.605188",
          "exception": false,
          "start_time": "2021-08-14T14:45:57.453141",
          "status": "completed"
        },
        "tags": [],
        "id": "seventh-porter",
        "outputId": "6b43e40c-1dab-4079-d9b6-f1763d962237",
        "colab": {
          "base_uri": "https://localhost:8080/"
        }
      },
      "outputs": [
        {
          "output_type": "execute_result",
          "data": {
            "text/plain": [
              "(784, 48, 48, 3)"
            ]
          },
          "metadata": {},
          "execution_count": 55
        }
      ],
      "source": [
        "X_train_SIFT = create_SIFT_features(X_train) \n",
        "X_train_SIFT.shape"
      ]
    },
    {
      "cell_type": "code",
      "execution_count": null,
      "id": "exclusive-source",
      "metadata": {
        "execution": {
          "iopub.execute_input": "2021-08-14T14:46:00.114266Z",
          "iopub.status.busy": "2021-08-14T14:46:00.109000Z",
          "iopub.status.idle": "2021-08-14T14:46:00.198421Z",
          "shell.execute_reply": "2021-08-14T14:46:00.198820Z",
          "shell.execute_reply.started": "2021-06-16T08:20:15.487654Z"
        },
        "papermill": {
          "duration": 0.352793,
          "end_time": "2021-08-14T14:46:00.198962",
          "exception": false,
          "start_time": "2021-08-14T14:45:59.846169",
          "status": "completed"
        },
        "tags": [],
        "id": "exclusive-source",
        "outputId": "c5121996-bbda-45b2-c3dc-a3a5c0b7cae8",
        "colab": {
          "base_uri": "https://localhost:8080/",
          "height": 449
        }
      },
      "outputs": [
        {
          "output_type": "execute_result",
          "data": {
            "text/plain": [
              "<matplotlib.image.AxesImage at 0x7fa9c03b39d0>"
            ]
          },
          "metadata": {},
          "execution_count": 56
        },
        {
          "output_type": "display_data",
          "data": {
            "text/plain": [
              "<Figure size 640x480 with 1 Axes>"
            ],
            "image/png": "[encoded data removed]"
          },
          "metadata": {}
        }
      ],
      "source": [
        "plt.imshow(X_train_SIFT[0], cmap='gray')"
      ]
    },
    {
      "cell_type": "markdown",
      "source": [
        "### SIFT in testing set"
      ],
      "metadata": {
        "id": "dM_dgMOUgoH0"
      },
      "id": "dM_dgMOUgoH0"
    },
    {
      "cell_type": "code",
      "execution_count": null,
      "id": "absolute-monitoring",
      "metadata": {
        "execution": {
          "iopub.execute_input": "2021-08-14T14:46:00.688223Z",
          "iopub.status.busy": "2021-08-14T14:46:00.683316Z",
          "iopub.status.idle": "2021-08-14T14:46:01.195314Z",
          "shell.execute_reply": "2021-08-14T14:46:01.193010Z",
          "shell.execute_reply.started": "2021-06-16T08:20:15.640898Z"
        },
        "papermill": {
          "duration": 0.755824,
          "end_time": "2021-08-14T14:46:01.195458",
          "exception": false,
          "start_time": "2021-08-14T14:46:00.439634",
          "status": "completed"
        },
        "tags": [],
        "id": "absolute-monitoring",
        "outputId": "47a2e0e3-368c-4f95-fdd4-7b7c86326ac9",
        "colab": {
          "base_uri": "https://localhost:8080/"
        }
      },
      "outputs": [
        {
          "output_type": "execute_result",
          "data": {
            "text/plain": [
              "(197, 48, 48, 3)"
            ]
          },
          "metadata": {},
          "execution_count": 57
        }
      ],
      "source": [
        "X_test_SIFT = create_SIFT_features(X_test) \n",
        "X_test_SIFT.shape"
      ]
    },
    {
      "cell_type": "code",
      "execution_count": null,
      "id": "quarterly-acting",
      "metadata": {
        "execution": {
          "iopub.execute_input": "2021-08-14T14:46:01.914977Z",
          "iopub.status.busy": "2021-08-14T14:46:01.913167Z",
          "iopub.status.idle": "2021-08-14T14:46:01.999624Z",
          "shell.execute_reply": "2021-08-14T14:46:01.999176Z",
          "shell.execute_reply.started": "2021-06-16T08:20:16.178562Z"
        },
        "papermill": {
          "duration": 0.359966,
          "end_time": "2021-08-14T14:46:01.999752",
          "exception": false,
          "start_time": "2021-08-14T14:46:01.639786",
          "status": "completed"
        },
        "tags": [],
        "id": "quarterly-acting",
        "outputId": "acdacdb1-4e3d-4736-ac38-e6fb8f89b30b",
        "colab": {
          "base_uri": "https://localhost:8080/",
          "height": 449
        }
      },
      "outputs": [
        {
          "output_type": "execute_result",
          "data": {
            "text/plain": [
              "<matplotlib.image.AxesImage at 0x7fa9c0211f00>"
            ]
          },
          "metadata": {},
          "execution_count": 58
        },
        {
          "output_type": "display_data",
          "data": {
            "text/plain": [
              "<Figure size 640x480 with 1 Axes>"
            ],
            "image/png": "[encoded data removed]"
          },
          "metadata": {}
        }
      ],
      "source": [
        "plt.imshow(X_test_SIFT[0], cmap='gray')"
      ]
    },
    {
      "cell_type": "markdown",
      "source": [
        "### CNN classification based on SIFT features"
      ],
      "metadata": {
        "id": "4DgEmopNgsgU"
      },
      "id": "4DgEmopNgsgU"
    },
    {
      "cell_type": "code",
      "execution_count": null,
      "id": "copyrighted-revelation",
      "metadata": {
        "execution": {
          "iopub.execute_input": "2021-08-14T14:46:02.499697Z",
          "iopub.status.busy": "2021-08-14T14:46:02.499072Z",
          "iopub.status.idle": "2021-08-14T14:46:02.557484Z",
          "shell.execute_reply": "2021-08-14T14:46:02.557040Z",
          "shell.execute_reply.started": "2021-06-16T08:36:28.598052Z"
        },
        "papermill": {
          "duration": 0.306161,
          "end_time": "2021-08-14T14:46:02.557598",
          "exception": false,
          "start_time": "2021-08-14T14:46:02.251437",
          "status": "completed"
        },
        "tags": [],
        "id": "copyrighted-revelation"
      },
      "outputs": [],
      "source": [
        "SIFT_model = create_model(input_shape=(48,48,3))\n",
        "SIFT_model.compile(loss='categorical_crossentropy', metrics=['accuracy'], optimizer='adam' )"
      ]
    },
    {
      "cell_type": "code",
      "execution_count": null,
      "id": "differential-indie",
      "metadata": {
        "execution": {
          "iopub.execute_input": "2021-08-14T14:46:03.046515Z",
          "iopub.status.busy": "2021-08-14T14:46:03.045977Z",
          "iopub.status.idle": "2021-08-14T14:46:17.350696Z",
          "shell.execute_reply": "2021-08-14T14:46:17.351231Z",
          "shell.execute_reply.started": "2021-06-16T08:36:28.686204Z"
        },
        "papermill": {
          "duration": 14.551915,
          "end_time": "2021-08-14T14:46:17.351425",
          "exception": false,
          "start_time": "2021-08-14T14:46:02.799510",
          "status": "completed"
        },
        "tags": [],
        "id": "differential-indie",
        "outputId": "4d634f6e-90be-47dc-dadb-44ceb94aff8d",
        "colab": {
          "base_uri": "https://localhost:8080/"
        }
      },
      "outputs": [
        {
          "output_type": "stream",
          "name": "stdout",
          "text": [
            "Epoch 1/50\n",
            "98/98 [==============================] - 5s 10ms/step - loss: 2.0599 - accuracy: 0.2819 - val_loss: 2.0326 - val_accuracy: 0.1320 - lr: 0.0010\n",
            "Epoch 2/50\n",
            "98/98 [==============================] - 1s 7ms/step - loss: 1.5807 - accuracy: 0.4349 - val_loss: 1.7242 - val_accuracy: 0.3858 - lr: 0.0010\n",
            "Epoch 3/50\n",
            "98/98 [==============================] - 1s 7ms/step - loss: 1.2783 - accuracy: 0.5651 - val_loss: 1.2124 - val_accuracy: 0.5838 - lr: 0.0010\n",
            "Epoch 4/50\n",
            "98/98 [==============================] - 1s 8ms/step - loss: 1.0993 - accuracy: 0.6212 - val_loss: 1.1976 - val_accuracy: 0.5533 - lr: 0.0010\n",
            "Epoch 5/50\n",
            "98/98 [==============================] - 1s 7ms/step - loss: 0.9648 - accuracy: 0.6518 - val_loss: 0.9559 - val_accuracy: 0.6497 - lr: 0.0010\n",
            "Epoch 6/50\n",
            "98/98 [==============================] - 1s 7ms/step - loss: 0.8516 - accuracy: 0.6913 - val_loss: 1.0753 - val_accuracy: 0.6294 - lr: 0.0010\n",
            "Epoch 7/50\n",
            "98/98 [==============================] - 1s 8ms/step - loss: 0.7852 - accuracy: 0.7436 - val_loss: 0.8432 - val_accuracy: 0.6802 - lr: 0.0010\n",
            "Epoch 8/50\n",
            "98/98 [==============================] - 1s 7ms/step - loss: 0.6799 - accuracy: 0.7755 - val_loss: 0.8418 - val_accuracy: 0.7157 - lr: 0.0010\n",
            "Epoch 9/50\n",
            "98/98 [==============================] - 1s 7ms/step - loss: 0.5849 - accuracy: 0.7832 - val_loss: 0.7165 - val_accuracy: 0.7563 - lr: 0.0010\n",
            "Epoch 10/50\n",
            "98/98 [==============================] - 1s 7ms/step - loss: 0.5608 - accuracy: 0.7946 - val_loss: 0.7434 - val_accuracy: 0.7513 - lr: 0.0010\n",
            "Epoch 11/50\n",
            "93/98 [===========================>..] - ETA: 0s - loss: 0.3819 - accuracy: 0.8763\n",
            "Epoch 11: ReduceLROnPlateau reducing learning rate to 0.0003000000142492354.\n",
            "98/98 [==============================] - 1s 7ms/step - loss: 0.3849 - accuracy: 0.8750 - val_loss: 0.9839 - val_accuracy: 0.6751 - lr: 0.0010\n",
            "Epoch 12/50\n",
            "98/98 [==============================] - 1s 7ms/step - loss: 0.3593 - accuracy: 0.8776 - val_loss: 0.6472 - val_accuracy: 0.7766 - lr: 3.0000e-04\n",
            "Epoch 13/50\n",
            "98/98 [==============================] - 1s 7ms/step - loss: 0.2372 - accuracy: 0.9209 - val_loss: 0.5681 - val_accuracy: 0.7868 - lr: 3.0000e-04\n",
            "Epoch 14/50\n",
            "98/98 [==============================] - 1s 7ms/step - loss: 0.2410 - accuracy: 0.9145 - val_loss: 0.5195 - val_accuracy: 0.8122 - lr: 3.0000e-04\n",
            "Epoch 15/50\n",
            "98/98 [==============================] - 1s 9ms/step - loss: 0.1884 - accuracy: 0.9362 - val_loss: 0.5471 - val_accuracy: 0.8274 - lr: 3.0000e-04\n",
            "Epoch 16/50\n",
            "98/98 [==============================] - 1s 10ms/step - loss: 0.1906 - accuracy: 0.9324 - val_loss: 0.5242 - val_accuracy: 0.8122 - lr: 3.0000e-04\n",
            "Epoch 17/50\n",
            "91/98 [==========================>...] - ETA: 0s - loss: 0.1592 - accuracy: 0.9464\n",
            "Epoch 17: ReduceLROnPlateau reducing learning rate to 9.000000427477062e-05.\n",
            "98/98 [==============================] - 1s 9ms/step - loss: 0.1639 - accuracy: 0.9452 - val_loss: 0.5007 - val_accuracy: 0.8122 - lr: 3.0000e-04\n",
            "Epoch 18/50\n",
            "98/98 [==============================] - 1s 7ms/step - loss: 0.1347 - accuracy: 0.9605 - val_loss: 0.4776 - val_accuracy: 0.8274 - lr: 9.0000e-05\n",
            "Epoch 19/50\n",
            "98/98 [==============================] - 1s 7ms/step - loss: 0.1569 - accuracy: 0.9464 - val_loss: 0.4702 - val_accuracy: 0.8325 - lr: 9.0000e-05\n",
            "Epoch 20/50\n",
            "98/98 [==============================] - 1s 7ms/step - loss: 0.1474 - accuracy: 0.9541 - val_loss: 0.4742 - val_accuracy: 0.8579 - lr: 9.0000e-05\n",
            "Epoch 21/50\n",
            "98/98 [==============================] - 1s 7ms/step - loss: 0.1192 - accuracy: 0.9592 - val_loss: 0.4938 - val_accuracy: 0.8376 - lr: 9.0000e-05\n",
            "Epoch 22/50\n",
            "93/98 [===========================>..] - ETA: 0s - loss: 0.1184 - accuracy: 0.9610\n",
            "Epoch 22: ReduceLROnPlateau reducing learning rate to 2.700000040931627e-05.\n",
            "98/98 [==============================] - 1s 8ms/step - loss: 0.1177 - accuracy: 0.9605 - val_loss: 0.4966 - val_accuracy: 0.8325 - lr: 9.0000e-05\n",
            "Epoch 23/50\n",
            "98/98 [==============================] - 1s 7ms/step - loss: 0.1123 - accuracy: 0.9668 - val_loss: 0.5012 - val_accuracy: 0.8223 - lr: 2.7000e-05\n",
            "Epoch 24/50\n",
            "95/98 [============================>.] - ETA: 0s - loss: 0.1354 - accuracy: 0.9592\n",
            "Epoch 24: ReduceLROnPlateau reducing learning rate to 8.100000013655517e-06.\n",
            "98/98 [==============================] - 1s 7ms/step - loss: 0.1352 - accuracy: 0.9592 - val_loss: 0.4988 - val_accuracy: 0.8223 - lr: 2.7000e-05\n",
            "Epoch 25/50\n",
            "98/98 [==============================] - 1s 7ms/step - loss: 0.0813 - accuracy: 0.9834 - val_loss: 0.4929 - val_accuracy: 0.8274 - lr: 8.1000e-06\n",
            "Epoch 26/50\n",
            "98/98 [==============================] - ETA: 0s - loss: 0.1187 - accuracy: 0.9592\n",
            "Epoch 26: ReduceLROnPlateau reducing learning rate to 2.429999949526973e-06.\n",
            "98/98 [==============================] - 1s 8ms/step - loss: 0.1187 - accuracy: 0.9592 - val_loss: 0.4880 - val_accuracy: 0.8274 - lr: 8.1000e-06\n",
            "Epoch 27/50\n",
            "98/98 [==============================] - 1s 8ms/step - loss: 0.0921 - accuracy: 0.9758 - val_loss: 0.4896 - val_accuracy: 0.8376 - lr: 2.4300e-06\n",
            "Epoch 28/50\n",
            "91/98 [==========================>...] - ETA: 0s - loss: 0.1122 - accuracy: 0.9725\n",
            "Epoch 28: ReduceLROnPlateau reducing learning rate to 1e-06.\n",
            "98/98 [==============================] - 1s 8ms/step - loss: 0.1123 - accuracy: 0.9719 - val_loss: 0.4887 - val_accuracy: 0.8325 - lr: 2.4300e-06\n",
            "Epoch 29/50\n",
            "98/98 [==============================] - 1s 7ms/step - loss: 0.1038 - accuracy: 0.9694 - val_loss: 0.4895 - val_accuracy: 0.8325 - lr: 1.0000e-06\n"
          ]
        }
      ],
      "source": [
        "SIFT_history = SIFT_model.fit(X_train_SIFT, y_train, batch_size=8 , epochs=50, validation_data = (X_test_SIFT, y_test),  callbacks = [callbacks])"
      ]
    },
    {
      "cell_type": "code",
      "execution_count": null,
      "id": "mediterranean-aberdeen",
      "metadata": {
        "execution": {
          "iopub.execute_input": "2021-08-14T14:46:18.009334Z",
          "iopub.status.busy": "2021-08-14T14:46:18.008543Z",
          "iopub.status.idle": "2021-08-14T14:46:18.295460Z",
          "shell.execute_reply": "2021-08-14T14:46:18.295867Z",
          "shell.execute_reply.started": "2021-06-16T08:36:46.971705Z"
        },
        "papermill": {
          "duration": 0.604689,
          "end_time": "2021-08-14T14:46:18.296016",
          "exception": false,
          "start_time": "2021-08-14T14:46:17.691327",
          "status": "completed"
        },
        "tags": [],
        "id": "mediterranean-aberdeen",
        "outputId": "13c1e03d-b136-4c62-af42-97458379c291",
        "colab": {
          "base_uri": "https://localhost:8080/",
          "height": 545
        }
      },
      "outputs": [
        {
          "output_type": "display_data",
          "data": {
            "text/plain": [
              "<Figure size 1000x600 with 2 Axes>"
            ],
            "image/png": "[encoded data removed]"
          },
          "metadata": {}
        }
      ],
      "source": [
        "plot_performance(SIFT_history)"
      ]
    },
    {
      "cell_type": "code",
      "execution_count": null,
      "id": "previous-fight",
      "metadata": {
        "execution": {
          "iopub.execute_input": "2021-08-14T14:46:18.913622Z",
          "iopub.status.busy": "2021-08-14T14:46:18.912639Z",
          "iopub.status.idle": "2021-08-14T14:46:19.040257Z",
          "shell.execute_reply": "2021-08-14T14:46:19.039807Z",
          "shell.execute_reply.started": "2021-06-16T08:36:47.401371Z"
        },
        "papermill": {
          "duration": 0.437196,
          "end_time": "2021-08-14T14:46:19.040383",
          "exception": false,
          "start_time": "2021-08-14T14:46:18.603187",
          "status": "completed"
        },
        "tags": [],
        "id": "previous-fight",
        "outputId": "b21d77a2-657a-4976-a8bc-22aad37bb47a",
        "colab": {
          "base_uri": "https://localhost:8080/"
        }
      },
      "outputs": [
        {
          "output_type": "stream",
          "name": "stdout",
          "text": [
            "SIFT Accuracy : 0.8324872851371765\n"
          ]
        }
      ],
      "source": [
        "SIFT_acc = SIFT_model.evaluate(X_test_SIFT, y_test, verbose = 0)[1]\n",
        "acc.append(SIFT_acc)\n",
        "print(\"SIFT Accuracy :\",SIFT_model.evaluate(X_test_SIFT, y_test, verbose = 0)[1])"
      ]
    },
    {
      "cell_type": "code",
      "execution_count": null,
      "id": "cardiac-palmer",
      "metadata": {
        "execution": {
          "iopub.execute_input": "2021-08-14T14:46:19.662072Z",
          "iopub.status.busy": "2021-08-14T14:46:19.661254Z",
          "iopub.status.idle": "2021-08-14T14:46:19.690067Z",
          "shell.execute_reply": "2021-08-14T14:46:19.689657Z",
          "shell.execute_reply.started": "2021-06-16T08:20:35.201089Z"
        },
        "papermill": {
          "duration": 0.340402,
          "end_time": "2021-08-14T14:46:19.690184",
          "exception": false,
          "start_time": "2021-08-14T14:46:19.349782",
          "status": "completed"
        },
        "tags": [],
        "id": "cardiac-palmer"
      },
      "outputs": [],
      "source": [
        "SIFT_model.save('SIFT_model.h5')"
      ]
    },
    {
      "cell_type": "markdown",
      "id": "mental-bride",
      "metadata": {
        "papermill": {
          "duration": 0.375743,
          "end_time": "2021-08-14T14:49:07.218105",
          "exception": false,
          "start_time": "2021-08-14T14:49:06.842362",
          "status": "completed"
        },
        "tags": [],
        "id": "mental-bride"
      },
      "source": [
        "# Without Feature Extraction "
      ]
    },
    {
      "cell_type": "code",
      "execution_count": null,
      "id": "considerable-synthesis",
      "metadata": {
        "execution": {
          "iopub.execute_input": "2021-08-14T14:49:07.992229Z",
          "iopub.status.busy": "2021-08-14T14:49:07.991426Z",
          "iopub.status.idle": "2021-08-14T14:49:08.048195Z",
          "shell.execute_reply": "2021-08-14T14:49:08.047757Z",
          "shell.execute_reply.started": "2021-06-16T08:50:48.222847Z"
        },
        "papermill": {
          "duration": 0.462366,
          "end_time": "2021-08-14T14:49:08.048307",
          "exception": false,
          "start_time": "2021-08-14T14:49:07.585941",
          "status": "completed"
        },
        "tags": [],
        "id": "considerable-synthesis"
      },
      "outputs": [],
      "source": [
        "WFE_model = create_model()\n",
        "WFE_model.compile(loss='categorical_crossentropy', metrics=['accuracy'], optimizer='adam' )"
      ]
    },
    {
      "cell_type": "code",
      "execution_count": null,
      "id": "cardiac-lighter",
      "metadata": {
        "execution": {
          "iopub.execute_input": "2021-08-14T14:49:09.017306Z",
          "iopub.status.busy": "2021-08-14T14:49:09.016322Z",
          "iopub.status.idle": "2021-08-14T14:49:23.968660Z",
          "shell.execute_reply": "2021-08-14T14:49:23.968153Z",
          "shell.execute_reply.started": "2021-06-16T08:50:49.343861Z"
        },
        "papermill": {
          "duration": 15.338841,
          "end_time": "2021-08-14T14:49:23.968800",
          "exception": false,
          "start_time": "2021-08-14T14:49:08.629959",
          "status": "completed"
        },
        "tags": [],
        "id": "cardiac-lighter",
        "outputId": "10b216dd-50fc-4652-c5b5-724374aaf659",
        "colab": {
          "base_uri": "https://localhost:8080/"
        }
      },
      "outputs": [
        {
          "output_type": "stream",
          "name": "stdout",
          "text": [
            "Epoch 1/50\n",
            "98/98 [==============================] - 4s 9ms/step - loss: 1.8747 - accuracy: 0.3686 - val_loss: 2.7939 - val_accuracy: 0.0406 - lr: 0.0010\n",
            "Epoch 2/50\n",
            "98/98 [==============================] - 1s 7ms/step - loss: 1.0451 - accuracy: 0.6607 - val_loss: 3.6661 - val_accuracy: 0.0406 - lr: 0.0010\n",
            "Epoch 3/50\n",
            "95/98 [============================>.] - ETA: 0s - loss: 0.6851 - accuracy: 0.7592\n",
            "Epoch 3: ReduceLROnPlateau reducing learning rate to 0.0003000000142492354.\n",
            "98/98 [==============================] - 1s 6ms/step - loss: 0.6791 - accuracy: 0.7615 - val_loss: 3.6009 - val_accuracy: 0.0406 - lr: 0.0010\n",
            "Epoch 4/50\n",
            "98/98 [==============================] - 1s 7ms/step - loss: 0.4144 - accuracy: 0.8584 - val_loss: 2.1916 - val_accuracy: 0.1523 - lr: 3.0000e-04\n",
            "Epoch 5/50\n",
            "98/98 [==============================] - 1s 10ms/step - loss: 0.3629 - accuracy: 0.8724 - val_loss: 0.9944 - val_accuracy: 0.6091 - lr: 3.0000e-04\n",
            "Epoch 6/50\n",
            "98/98 [==============================] - 1s 10ms/step - loss: 0.3024 - accuracy: 0.8954 - val_loss: 0.4784 - val_accuracy: 0.8883 - lr: 3.0000e-04\n",
            "Epoch 7/50\n",
            "98/98 [==============================] - 1s 8ms/step - loss: 0.2954 - accuracy: 0.8967 - val_loss: 0.3703 - val_accuracy: 0.9086 - lr: 3.0000e-04\n",
            "Epoch 8/50\n",
            "98/98 [==============================] - 1s 7ms/step - loss: 0.2366 - accuracy: 0.9196 - val_loss: 0.4025 - val_accuracy: 0.8883 - lr: 3.0000e-04\n",
            "Epoch 9/50\n",
            "98/98 [==============================] - 1s 8ms/step - loss: 0.1913 - accuracy: 0.9375 - val_loss: 0.2922 - val_accuracy: 0.9391 - lr: 3.0000e-04\n",
            "Epoch 10/50\n",
            "98/98 [==============================] - 1s 7ms/step - loss: 0.1953 - accuracy: 0.9362 - val_loss: 0.3372 - val_accuracy: 0.8832 - lr: 3.0000e-04\n",
            "Epoch 11/50\n",
            "98/98 [==============================] - 1s 7ms/step - loss: 0.1612 - accuracy: 0.9490 - val_loss: 0.2632 - val_accuracy: 0.9695 - lr: 3.0000e-04\n",
            "Epoch 12/50\n",
            "98/98 [==============================] - 1s 7ms/step - loss: 0.1205 - accuracy: 0.9592 - val_loss: 0.3447 - val_accuracy: 0.9492 - lr: 3.0000e-04\n",
            "Epoch 13/50\n",
            "92/98 [===========================>..] - ETA: 0s - loss: 0.1444 - accuracy: 0.9470\n",
            "Epoch 13: ReduceLROnPlateau reducing learning rate to 9.000000427477062e-05.\n",
            "98/98 [==============================] - 1s 7ms/step - loss: 0.1396 - accuracy: 0.9503 - val_loss: 0.2965 - val_accuracy: 0.9492 - lr: 3.0000e-04\n",
            "Epoch 14/50\n",
            "98/98 [==============================] - 1s 7ms/step - loss: 0.1087 - accuracy: 0.9656 - val_loss: 0.2384 - val_accuracy: 0.9645 - lr: 9.0000e-05\n",
            "Epoch 15/50\n",
            "96/98 [============================>.] - ETA: 0s - loss: 0.0826 - accuracy: 0.9766\n",
            "Epoch 15: ReduceLROnPlateau reducing learning rate to 2.700000040931627e-05.\n",
            "98/98 [==============================] - 1s 7ms/step - loss: 0.0855 - accuracy: 0.9745 - val_loss: 0.2560 - val_accuracy: 0.9645 - lr: 9.0000e-05\n",
            "Epoch 16/50\n",
            "98/98 [==============================] - 1s 7ms/step - loss: 0.0914 - accuracy: 0.9719 - val_loss: 0.2463 - val_accuracy: 0.9645 - lr: 2.7000e-05\n",
            "Epoch 17/50\n",
            "90/98 [==========================>...] - ETA: 0s - loss: 0.0677 - accuracy: 0.9792\n",
            "Epoch 17: ReduceLROnPlateau reducing learning rate to 8.100000013655517e-06.\n",
            "98/98 [==============================] - 1s 7ms/step - loss: 0.0665 - accuracy: 0.9796 - val_loss: 0.2540 - val_accuracy: 0.9695 - lr: 2.7000e-05\n",
            "Epoch 18/50\n",
            "98/98 [==============================] - 1s 7ms/step - loss: 0.0666 - accuracy: 0.9860 - val_loss: 0.2499 - val_accuracy: 0.9695 - lr: 8.1000e-06\n",
            "Epoch 19/50\n",
            "95/98 [============================>.] - ETA: 0s - loss: 0.0762 - accuracy: 0.9803\n",
            "Epoch 19: ReduceLROnPlateau reducing learning rate to 2.429999949526973e-06.\n",
            "98/98 [==============================] - 1s 12ms/step - loss: 0.0763 - accuracy: 0.9809 - val_loss: 0.2508 - val_accuracy: 0.9695 - lr: 8.1000e-06\n",
            "Epoch 20/50\n",
            "98/98 [==============================] - 2s 17ms/step - loss: 0.0676 - accuracy: 0.9834 - val_loss: 0.2486 - val_accuracy: 0.9695 - lr: 2.4300e-06\n",
            "Epoch 21/50\n",
            "97/98 [============================>.] - ETA: 0s - loss: 0.0634 - accuracy: 0.9742\n",
            "Epoch 21: ReduceLROnPlateau reducing learning rate to 1e-06.\n",
            "98/98 [==============================] - 2s 15ms/step - loss: 0.0631 - accuracy: 0.9745 - val_loss: 0.2512 - val_accuracy: 0.9695 - lr: 2.4300e-06\n",
            "Epoch 22/50\n",
            "98/98 [==============================] - 1s 14ms/step - loss: 0.0858 - accuracy: 0.9758 - val_loss: 0.2514 - val_accuracy: 0.9695 - lr: 1.0000e-06\n",
            "Epoch 23/50\n",
            "98/98 [==============================] - 2s 16ms/step - loss: 0.0729 - accuracy: 0.9821 - val_loss: 0.2521 - val_accuracy: 0.9695 - lr: 1.0000e-06\n",
            "Epoch 24/50\n",
            "98/98 [==============================] - 1s 15ms/step - loss: 0.0752 - accuracy: 0.9796 - val_loss: 0.2512 - val_accuracy: 0.9695 - lr: 1.0000e-06\n"
          ]
        }
      ],
      "source": [
        "WFE_history = WFE_model.fit(X_train, y_train, batch_size=8 , epochs=50, validation_data = (X_test, y_test) ,callbacks = [callbacks])"
      ]
    },
    {
      "cell_type": "code",
      "execution_count": null,
      "id": "casual-bracelet",
      "metadata": {
        "execution": {
          "iopub.execute_input": "2021-08-14T14:49:24.924999Z",
          "iopub.status.busy": "2021-08-14T14:49:24.919409Z",
          "iopub.status.idle": "2021-08-14T14:49:25.254859Z",
          "shell.execute_reply": "2021-08-14T14:49:25.255332Z",
          "shell.execute_reply.started": "2021-06-16T08:51:10.881223Z"
        },
        "papermill": {
          "duration": 0.810916,
          "end_time": "2021-08-14T14:49:25.255509",
          "exception": false,
          "start_time": "2021-08-14T14:49:24.444593",
          "status": "completed"
        },
        "tags": [],
        "id": "casual-bracelet",
        "outputId": "50c37ea7-ac64-45dd-87a2-74638c79c285",
        "colab": {
          "base_uri": "https://localhost:8080/",
          "height": 545
        }
      },
      "outputs": [
        {
          "output_type": "display_data",
          "data": {
            "text/plain": [
              "<Figure size 1000x600 with 2 Axes>"
            ],
            "image/png": "[encoded data removed]"
          },
          "metadata": {}
        }
      ],
      "source": [
        "plot_performance(WFE_history)"
      ]
    },
    {
      "cell_type": "code",
      "execution_count": null,
      "id": "native-estonia",
      "metadata": {
        "execution": {
          "iopub.execute_input": "2021-08-14T14:49:26.222638Z",
          "iopub.status.busy": "2021-08-14T14:49:26.221658Z",
          "iopub.status.idle": "2021-08-14T14:49:26.284283Z",
          "shell.execute_reply": "2021-08-14T14:49:26.284902Z",
          "shell.execute_reply.started": "2021-06-16T08:51:24.09988Z"
        },
        "papermill": {
          "duration": 0.557655,
          "end_time": "2021-08-14T14:49:26.285093",
          "exception": false,
          "start_time": "2021-08-14T14:49:25.727438",
          "status": "completed"
        },
        "tags": [],
        "id": "native-estonia",
        "outputId": "9ab24c66-2dfc-4fd8-b207-d0b644a34e90",
        "colab": {
          "base_uri": "https://localhost:8080/"
        }
      },
      "outputs": [
        {
          "output_type": "stream",
          "name": "stdout",
          "text": [
            "Without Feature extraction Accuracy : 0.9644669890403748\n"
          ]
        }
      ],
      "source": [
        "WFE_acc = WFE_model.evaluate(X_test, y_test, verbose = 0)[1]\n",
        "acc.append(WFE_acc)\n",
        "print(\"Without Feature extraction Accuracy :\", WFE_acc)"
      ]
    },
    {
      "cell_type": "code",
      "execution_count": null,
      "id": "varied-lemon",
      "metadata": {
        "execution": {
          "iopub.execute_input": "2021-08-14T14:49:27.243424Z",
          "iopub.status.busy": "2021-08-14T14:49:27.242639Z",
          "iopub.status.idle": "2021-08-14T14:49:27.272684Z",
          "shell.execute_reply": "2021-08-14T14:49:27.272159Z",
          "shell.execute_reply.started": "2021-06-16T08:51:46.398006Z"
        },
        "papermill": {
          "duration": 0.512399,
          "end_time": "2021-08-14T14:49:27.272812",
          "exception": false,
          "start_time": "2021-08-14T14:49:26.760413",
          "status": "completed"
        },
        "tags": [],
        "id": "varied-lemon"
      },
      "outputs": [],
      "source": [
        "WFE_model.save('WFE_model.h5')"
      ]
    },
    {
      "cell_type": "markdown",
      "id": "spread-background",
      "metadata": {
        "papermill": {
          "duration": 0.482467,
          "end_time": "2021-08-14T14:49:28.230870",
          "exception": false,
          "start_time": "2021-08-14T14:49:27.748403",
          "status": "completed"
        },
        "tags": [],
        "id": "spread-background"
      },
      "source": [
        "# Comparing accuracies "
      ]
    },
    {
      "cell_type": "code",
      "execution_count": null,
      "id": "diagnostic-investigator",
      "metadata": {
        "execution": {
          "iopub.execute_input": "2021-08-14T14:49:29.191633Z",
          "iopub.status.busy": "2021-08-14T14:49:29.190860Z",
          "iopub.status.idle": "2021-08-14T14:49:29.193739Z",
          "shell.execute_reply": "2021-08-14T14:49:29.194195Z",
          "shell.execute_reply.started": "2021-06-16T08:37:22.327745Z"
        },
        "papermill": {
          "duration": 0.483077,
          "end_time": "2021-08-14T14:49:29.194393",
          "exception": false,
          "start_time": "2021-08-14T14:49:28.711316",
          "status": "completed"
        },
        "tags": [],
        "id": "diagnostic-investigator",
        "outputId": "64ece0c6-1947-43c6-92a2-552182b5c978",
        "colab": {
          "base_uri": "https://localhost:8080/"
        }
      },
      "outputs": [
        {
          "output_type": "execute_result",
          "data": {
            "text/plain": [
              "[0.9492385983467102, 0.8324872851371765, 0.9644669890403748]"
            ]
          },
          "metadata": {},
          "execution_count": 88
        }
      ],
      "source": [
        "acc"
      ]
    },
    {
      "cell_type": "code",
      "execution_count": null,
      "id": "technological-distribution",
      "metadata": {
        "execution": {
          "iopub.execute_input": "2021-08-14T14:49:30.186961Z",
          "iopub.status.busy": "2021-08-14T14:49:30.185944Z",
          "iopub.status.idle": "2021-08-14T14:49:30.191824Z",
          "shell.execute_reply": "2021-08-14T14:49:30.192775Z",
          "shell.execute_reply.started": "2021-06-16T08:37:22.339339Z"
        },
        "papermill": {
          "duration": 0.524784,
          "end_time": "2021-08-14T14:49:30.193004",
          "exception": false,
          "start_time": "2021-08-14T14:49:29.668220",
          "status": "completed"
        },
        "tags": [],
        "id": "technological-distribution"
      },
      "outputs": [],
      "source": [
        "results = pd.DataFrame(acc, index=['LBP', 'SIFT',  'Without Feature Extraction'], columns = ['Accuracies'])"
      ]
    },
    {
      "cell_type": "code",
      "execution_count": null,
      "id": "organizational-truck",
      "metadata": {
        "execution": {
          "iopub.execute_input": "2021-08-14T14:49:31.346136Z",
          "iopub.status.busy": "2021-08-14T14:49:31.345514Z",
          "iopub.status.idle": "2021-08-14T14:49:31.482363Z",
          "shell.execute_reply": "2021-08-14T14:49:31.481858Z",
          "shell.execute_reply.started": "2021-06-16T08:37:22.350389Z"
        },
        "papermill": {
          "duration": 0.614402,
          "end_time": "2021-08-14T14:49:31.482547",
          "exception": false,
          "start_time": "2021-08-14T14:49:30.868145",
          "status": "completed"
        },
        "tags": [],
        "id": "organizational-truck",
        "outputId": "2dd5d2c4-7cfc-4242-cc2d-ba3c376d2ef1",
        "colab": {
          "base_uri": "https://localhost:8080/",
          "height": 143
        }
      },
      "outputs": [
        {
          "output_type": "execute_result",
          "data": {
            "text/plain": [
              "<pandas.io.formats.style.Styler at 0x7fa9482e7e80>"
            ],
            "text/html": [
              "<style type=\"text/css\">\n",
              "#T_937cb th {\n",
              "  text-align: left;\n",
              "}\n",
              "#T_937cb_row0_col0, #T_937cb_row1_col0, #T_937cb_row2_col0 {\n",
              "  text-align: left;\n",
              "}\n",
              "</style>\n",
              "<table id=\"T_937cb\" class=\"dataframe\">\n",
              "  <thead>\n",
              "    <tr>\n",
              "      <th class=\"blank level0\" >&nbsp;</th>\n",
              "      <th id=\"T_937cb_level0_col0\" class=\"col_heading level0 col0\" >Accuracies</th>\n",
              "    </tr>\n",
              "  </thead>\n",
              "  <tbody>\n",
              "    <tr>\n",
              "      <th id=\"T_937cb_level0_row0\" class=\"row_heading level0 row0\" >LBP</th>\n",
              "      <td id=\"T_937cb_row0_col0\" class=\"data row0 col0\" >0.949239</td>\n",
              "    </tr>\n",
              "    <tr>\n",
              "      <th id=\"T_937cb_level0_row1\" class=\"row_heading level0 row1\" >SIFT</th>\n",
              "      <td id=\"T_937cb_row1_col0\" class=\"data row1 col0\" >0.832487</td>\n",
              "    </tr>\n",
              "    <tr>\n",
              "      <th id=\"T_937cb_level0_row2\" class=\"row_heading level0 row2\" >Without Feature Extraction</th>\n",
              "      <td id=\"T_937cb_row2_col0\" class=\"data row2 col0\" >0.964467</td>\n",
              "    </tr>\n",
              "  </tbody>\n",
              "</table>\n"
            ]
          },
          "metadata": {},
          "execution_count": 90
        }
      ],
      "source": [
        "dfStyler = results.style.set_properties(**{'text-align': 'left'})\n",
        "dfStyler.set_table_styles([dict(selector='th', props=[('text-align', 'left')])])"
      ]
    },
    {
      "cell_type": "markdown",
      "id": "former-webster",
      "metadata": {
        "papermill": {
          "duration": 0.484258,
          "end_time": "2021-08-14T14:49:32.436941",
          "exception": false,
          "start_time": "2021-08-14T14:49:31.952683",
          "status": "completed"
        },
        "tags": [],
        "id": "former-webster"
      },
      "source": [
        "### So it can be seen that feature extraction with LBP filters are giving pretty good results than the SIFT method but also it can noted that CNNs witout any feature extraction methods are also giving good results than the other two feature extraction techniques."
      ]
    }
  ],
  "metadata": {
    "kernelspec": {
      "display_name": "Python 3",
      "name": "python3"
    },
    "language_info": {
      "codemirror_mode": {
        "name": "ipython",
        "version": 3
      },
      "file_extension": ".py",
      "mimetype": "text/x-python",
      "name": "python",
      "nbconvert_exporter": "python",
      "pygments_lexer": "ipython3",
      "version": "3.7.10"
    },
    "papermill": {
      "default_parameters": {},
      "duration": 843.722588,
      "end_time": "2021-08-14T14:56:47.711336",
      "environment_variables": {},
      "exception": null,
      "input_path": "__notebook__.ipynb",
      "output_path": "__notebook__.ipynb",
      "parameters": {},
      "start_time": "2021-08-14T14:42:43.988748",
      "version": "2.3.3"
    },
    "colab": {
      "provenance": [],
      "collapsed_sections": [
        "decimal-wonder",
        "perceived-reunion",
        "racial-effect",
        "mental-bride"
      ],
      "gpuType": "T4"
    },
    "accelerator": "GPU"
  },
  "nbformat": 4,
  "nbformat_minor": 5
}